{
 "cells": [
  {
   "cell_type": "code",
   "execution_count": 2,
   "id": "de79cf5e-1a9d-46bc-923d-117b77f07569",
   "metadata": {},
   "outputs": [],
   "source": [
    "import pandas as pd\n",
    "import numpy as np\n",
    "from sklearn import tree"
   ]
  },
  {
   "cell_type": "code",
   "execution_count": 3,
   "id": "0f211ddc-2355-45e5-b929-19eb6d222fc6",
   "metadata": {},
   "outputs": [],
   "source": [
    "data = pd.read_csv(\"salary.csv\")"
   ]
  },
  {
   "cell_type": "code",
   "execution_count": 6,
   "id": "59df2df7-b38f-4025-89ed-b4fbfc4149b1",
   "metadata": {},
   "outputs": [
    {
     "data": {
      "text/plain": [
       "<bound method NDFrame.head of              Position  Level         Salary\n",
       "0    Business Analyst       1  4.500000e+04\n",
       "1   Junior Consultant       2  5.000000e+04\n",
       "2   Senior Consultant       3  6.000000e+04\n",
       "3             Manager       4  8.000000e+04\n",
       "4      Country Manger       5  1.100000e+05\n",
       "5      Region Manager       6  1.500000e+05\n",
       "6             Partner       7  2.000000e+05\n",
       "7      Senior Partner       8  2.200000e+05\n",
       "8             C.level       9  2.500000e+05\n",
       "9                 CEO      10  1.000000e+06\n",
       "10  Senior Consultant      11  6.771429e+05\n",
       "11            Manager      12  7.701190e+05\n",
       "12     Country Manger      13  8.630952e+05\n",
       "13     Region Manager      14  9.560714e+05\n",
       "14            Partner      15  1.049048e+06\n",
       "15     Senior Partner      16  1.142024e+06\n",
       "16            C.level      17  1.235000e+06\n",
       "17                CEO      18  1.327976e+06\n",
       "18  Senior Consultant      19  1.420952e+06\n",
       "19  Senior Consultant      20  1.513929e+06\n",
       "20            Manager      21  1.606905e+06\n",
       "21     Country Manger      22  1.699881e+06\n",
       "22     Region Manager      23  1.792857e+06\n",
       "23            Partner      24  1.885833e+06\n",
       "24     Senior Partner      25  1.978810e+06\n",
       "25            C.level      26  2.071786e+06\n",
       "26                CEO      27  2.164762e+06\n",
       "27  Senior Consultant      28  2.257738e+06\n",
       "28            Manager      29  2.350714e+06\n",
       "29     Country Manger      30  2.443690e+06\n",
       "30     Region Manager      31  2.536667e+06\n",
       "31            Partner      32  2.629643e+06\n",
       "32  Senior Consultant      33  2.722619e+06\n",
       "33            Manager      34  2.815595e+06\n",
       "34     Country Manger      35  2.908571e+06\n",
       "35     Region Manager      36  3.001548e+06\n",
       "36            Partner      37  3.094524e+06\n",
       "37     Senior Partner      38  3.187500e+06\n",
       "38            C.level      39  3.280476e+06\n",
       "39                CEO      40  3.373452e+06\n",
       "40  Senior Consultant      41  3.466429e+06\n",
       "41            Manager      42  3.559405e+06\n",
       "42     Country Manger      43  3.652381e+06\n",
       "43     Region Manager      44  3.745357e+06\n",
       "44            Partner      45  3.838333e+06\n",
       "45     Senior Partner      46  3.931310e+06\n",
       "46            C.level      47  4.024286e+06\n",
       "47                CEO      48  4.117262e+06\n",
       "48  Senior Consultant      49  4.210238e+06>"
      ]
     },
     "execution_count": 6,
     "metadata": {},
     "output_type": "execute_result"
    }
   ],
   "source": [
    "data.head"
   ]
  },
  {
   "cell_type": "code",
   "execution_count": null,
   "id": "9dd7605f-683d-4bc1-a1f7-764767cfe617",
   "metadata": {},
   "outputs": [],
   "source": []
  }
 ],
 "metadata": {
  "kernelspec": {
   "display_name": "Python 3 (ipykernel)",
   "language": "python",
   "name": "python3"
  },
  "language_info": {
   "codemirror_mode": {
    "name": "ipython",
    "version": 3
   },
   "file_extension": ".py",
   "mimetype": "text/x-python",
   "name": "python",
   "nbconvert_exporter": "python",
   "pygments_lexer": "ipython3",
   "version": "3.12.3"
  }
 },
 "nbformat": 4,
 "nbformat_minor": 5
}
