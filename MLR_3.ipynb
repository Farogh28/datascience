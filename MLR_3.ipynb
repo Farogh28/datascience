{
 "cells": [
  {
   "cell_type": "code",
   "execution_count": 2,
   "id": "e8b49e2c-ff8d-4eba-988f-8440e3176942",
   "metadata": {},
   "outputs": [],
   "source": [
    "import numpy as np\n",
    "import pandas as pd\n",
    "import  "
   ]
  },
  {
   "cell_type": "code",
   "execution_count": 3,
   "id": "0801fde4-5dfa-4374-b785-51fba6e6abc7",
   "metadata": {},
   "outputs": [],
   "source": []
  },
  {
   "cell_type": "code",
   "execution_count": null,
   "id": "e45f88d5-c3ce-4e99-9311-7b446b074969",
   "metadata": {},
   "outputs": [],
   "source": []
  }
 ],
 "metadata": {
  "kernelspec": {
   "display_name": "Python 3 (ipykernel)",
   "language": "python",
   "name": "python3"
  },
  "language_info": {
   "codemirror_mode": {
    "name": "ipython",
    "version": 3
   },
   "file_extension": ".py",
   "mimetype": "text/x-python",
   "name": "python",
   "nbconvert_exporter": "python",
   "pygments_lexer": "ipython3",
   "version": "3.12.3"
  }
 },
 "nbformat": 4,
 "nbformat_minor": 5
}
