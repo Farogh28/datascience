{
 "cells": [
  {
   "cell_type": "code",
   "execution_count": 1,
   "id": "a3082ada-42ab-40ab-990d-5babe8d88009",
   "metadata": {},
   "outputs": [],
   "source": [
    "import numpy as np\n",
    "import pandas as pd\n",
    "import matplotlib.pyplot as plt\n",
    "from sklearn.linear_model import LinearRegression\n",
    "\n",
    "# Generate some data\n",
    "np.random.seed(0)\n",
    "X = 2 * np.random.rand(100, 1)\n",
    "y = 4 + 3 * X + np.random.randn(100, 1)\n",
    "\n",
    "# Create a DataFrame\n",
    "df = pd.DataFrame(data={'X': X.flatten(), 'y': y.flatten()})"
   ]
  },
  {
   "cell_type": "code",
   "execution_count": 2,
   "id": "660d9a2d-0367-4403-b229-38f6b9fd8684",
   "metadata": {},
   "outputs": [
    {
     "data": {
      "text/html": [
       "<div>\n",
       "<style scoped>\n",
       "    .dataframe tbody tr th:only-of-type {\n",
       "        vertical-align: middle;\n",
       "    }\n",
       "\n",
       "    .dataframe tbody tr th {\n",
       "        vertical-align: top;\n",
       "    }\n",
       "\n",
       "    .dataframe thead th {\n",
       "        text-align: right;\n",
       "    }\n",
       "</style>\n",
       "<table border=\"1\" class=\"dataframe\">\n",
       "  <thead>\n",
       "    <tr style=\"text-align: right;\">\n",
       "      <th></th>\n",
       "      <th>X</th>\n",
       "      <th>y</th>\n",
       "    </tr>\n",
       "  </thead>\n",
       "  <tbody>\n",
       "    <tr>\n",
       "      <th>0</th>\n",
       "      <td>1.097627</td>\n",
       "      <td>6.127731</td>\n",
       "    </tr>\n",
       "    <tr>\n",
       "      <th>1</th>\n",
       "      <td>1.430379</td>\n",
       "      <td>9.191963</td>\n",
       "    </tr>\n",
       "    <tr>\n",
       "      <th>2</th>\n",
       "      <td>1.205527</td>\n",
       "      <td>8.082243</td>\n",
       "    </tr>\n",
       "    <tr>\n",
       "      <th>3</th>\n",
       "      <td>1.089766</td>\n",
       "      <td>5.733055</td>\n",
       "    </tr>\n",
       "    <tr>\n",
       "      <th>4</th>\n",
       "      <td>0.847310</td>\n",
       "      <td>8.030181</td>\n",
       "    </tr>\n",
       "    <tr>\n",
       "      <th>...</th>\n",
       "      <td>...</td>\n",
       "      <td>...</td>\n",
       "    </tr>\n",
       "    <tr>\n",
       "      <th>95</th>\n",
       "      <td>0.366383</td>\n",
       "      <td>5.780743</td>\n",
       "    </tr>\n",
       "    <tr>\n",
       "      <th>96</th>\n",
       "      <td>1.173026</td>\n",
       "      <td>6.715668</td>\n",
       "    </tr>\n",
       "    <tr>\n",
       "      <th>97</th>\n",
       "      <td>0.040215</td>\n",
       "      <td>3.431095</td>\n",
       "    </tr>\n",
       "    <tr>\n",
       "      <th>98</th>\n",
       "      <td>1.657880</td>\n",
       "      <td>8.518108</td>\n",
       "    </tr>\n",
       "    <tr>\n",
       "      <th>99</th>\n",
       "      <td>0.009391</td>\n",
       "      <td>4.045652</td>\n",
       "    </tr>\n",
       "  </tbody>\n",
       "</table>\n",
       "<p>100 rows × 2 columns</p>\n",
       "</div>"
      ],
      "text/plain": [
       "           X         y\n",
       "0   1.097627  6.127731\n",
       "1   1.430379  9.191963\n",
       "2   1.205527  8.082243\n",
       "3   1.089766  5.733055\n",
       "4   0.847310  8.030181\n",
       "..       ...       ...\n",
       "95  0.366383  5.780743\n",
       "96  1.173026  6.715668\n",
       "97  0.040215  3.431095\n",
       "98  1.657880  8.518108\n",
       "99  0.009391  4.045652\n",
       "\n",
       "[100 rows x 2 columns]"
      ]
     },
     "execution_count": 2,
     "metadata": {},
     "output_type": "execute_result"
    }
   ],
   "source": [
    "df"
   ]
  },
  {
   "cell_type": "code",
   "execution_count": 3,
   "id": "c3519e44-0f26-421d-96f5-2164652374df",
   "metadata": {},
   "outputs": [],
   "source": [
    "model = LinearRegression()"
   ]
  },
  {
   "cell_type": "code",
   "execution_count": 4,
   "id": "125c3e76-1f0d-4624-b5a9-7e443579d5ca",
   "metadata": {},
   "outputs": [
    {
     "data": {
      "text/html": [
       "<style>#sk-container-id-1 {\n",
       "  /* Definition of color scheme common for light and dark mode */\n",
       "  --sklearn-color-text: black;\n",
       "  --sklearn-color-line: gray;\n",
       "  /* Definition of color scheme for unfitted estimators */\n",
       "  --sklearn-color-unfitted-level-0: #fff5e6;\n",
       "  --sklearn-color-unfitted-level-1: #f6e4d2;\n",
       "  --sklearn-color-unfitted-level-2: #ffe0b3;\n",
       "  --sklearn-color-unfitted-level-3: chocolate;\n",
       "  /* Definition of color scheme for fitted estimators */\n",
       "  --sklearn-color-fitted-level-0: #f0f8ff;\n",
       "  --sklearn-color-fitted-level-1: #d4ebff;\n",
       "  --sklearn-color-fitted-level-2: #b3dbfd;\n",
       "  --sklearn-color-fitted-level-3: cornflowerblue;\n",
       "\n",
       "  /* Specific color for light theme */\n",
       "  --sklearn-color-text-on-default-background: var(--sg-text-color, var(--theme-code-foreground, var(--jp-content-font-color1, black)));\n",
       "  --sklearn-color-background: var(--sg-background-color, var(--theme-background, var(--jp-layout-color0, white)));\n",
       "  --sklearn-color-border-box: var(--sg-text-color, var(--theme-code-foreground, var(--jp-content-font-color1, black)));\n",
       "  --sklearn-color-icon: #696969;\n",
       "\n",
       "  @media (prefers-color-scheme: dark) {\n",
       "    /* Redefinition of color scheme for dark theme */\n",
       "    --sklearn-color-text-on-default-background: var(--sg-text-color, var(--theme-code-foreground, var(--jp-content-font-color1, white)));\n",
       "    --sklearn-color-background: var(--sg-background-color, var(--theme-background, var(--jp-layout-color0, #111)));\n",
       "    --sklearn-color-border-box: var(--sg-text-color, var(--theme-code-foreground, var(--jp-content-font-color1, white)));\n",
       "    --sklearn-color-icon: #878787;\n",
       "  }\n",
       "}\n",
       "\n",
       "#sk-container-id-1 {\n",
       "  color: var(--sklearn-color-text);\n",
       "}\n",
       "\n",
       "#sk-container-id-1 pre {\n",
       "  padding: 0;\n",
       "}\n",
       "\n",
       "#sk-container-id-1 input.sk-hidden--visually {\n",
       "  border: 0;\n",
       "  clip: rect(1px 1px 1px 1px);\n",
       "  clip: rect(1px, 1px, 1px, 1px);\n",
       "  height: 1px;\n",
       "  margin: -1px;\n",
       "  overflow: hidden;\n",
       "  padding: 0;\n",
       "  position: absolute;\n",
       "  width: 1px;\n",
       "}\n",
       "\n",
       "#sk-container-id-1 div.sk-dashed-wrapped {\n",
       "  border: 1px dashed var(--sklearn-color-line);\n",
       "  margin: 0 0.4em 0.5em 0.4em;\n",
       "  box-sizing: border-box;\n",
       "  padding-bottom: 0.4em;\n",
       "  background-color: var(--sklearn-color-background);\n",
       "}\n",
       "\n",
       "#sk-container-id-1 div.sk-container {\n",
       "  /* jupyter's `normalize.less` sets `[hidden] { display: none; }`\n",
       "     but bootstrap.min.css set `[hidden] { display: none !important; }`\n",
       "     so we also need the `!important` here to be able to override the\n",
       "     default hidden behavior on the sphinx rendered scikit-learn.org.\n",
       "     See: https://github.com/scikit-learn/scikit-learn/issues/21755 */\n",
       "  display: inline-block !important;\n",
       "  position: relative;\n",
       "}\n",
       "\n",
       "#sk-container-id-1 div.sk-text-repr-fallback {\n",
       "  display: none;\n",
       "}\n",
       "\n",
       "div.sk-parallel-item,\n",
       "div.sk-serial,\n",
       "div.sk-item {\n",
       "  /* draw centered vertical line to link estimators */\n",
       "  background-image: linear-gradient(var(--sklearn-color-text-on-default-background), var(--sklearn-color-text-on-default-background));\n",
       "  background-size: 2px 100%;\n",
       "  background-repeat: no-repeat;\n",
       "  background-position: center center;\n",
       "}\n",
       "\n",
       "/* Parallel-specific style estimator block */\n",
       "\n",
       "#sk-container-id-1 div.sk-parallel-item::after {\n",
       "  content: \"\";\n",
       "  width: 100%;\n",
       "  border-bottom: 2px solid var(--sklearn-color-text-on-default-background);\n",
       "  flex-grow: 1;\n",
       "}\n",
       "\n",
       "#sk-container-id-1 div.sk-parallel {\n",
       "  display: flex;\n",
       "  align-items: stretch;\n",
       "  justify-content: center;\n",
       "  background-color: var(--sklearn-color-background);\n",
       "  position: relative;\n",
       "}\n",
       "\n",
       "#sk-container-id-1 div.sk-parallel-item {\n",
       "  display: flex;\n",
       "  flex-direction: column;\n",
       "}\n",
       "\n",
       "#sk-container-id-1 div.sk-parallel-item:first-child::after {\n",
       "  align-self: flex-end;\n",
       "  width: 50%;\n",
       "}\n",
       "\n",
       "#sk-container-id-1 div.sk-parallel-item:last-child::after {\n",
       "  align-self: flex-start;\n",
       "  width: 50%;\n",
       "}\n",
       "\n",
       "#sk-container-id-1 div.sk-parallel-item:only-child::after {\n",
       "  width: 0;\n",
       "}\n",
       "\n",
       "/* Serial-specific style estimator block */\n",
       "\n",
       "#sk-container-id-1 div.sk-serial {\n",
       "  display: flex;\n",
       "  flex-direction: column;\n",
       "  align-items: center;\n",
       "  background-color: var(--sklearn-color-background);\n",
       "  padding-right: 1em;\n",
       "  padding-left: 1em;\n",
       "}\n",
       "\n",
       "\n",
       "/* Toggleable style: style used for estimator/Pipeline/ColumnTransformer box that is\n",
       "clickable and can be expanded/collapsed.\n",
       "- Pipeline and ColumnTransformer use this feature and define the default style\n",
       "- Estimators will overwrite some part of the style using the `sk-estimator` class\n",
       "*/\n",
       "\n",
       "/* Pipeline and ColumnTransformer style (default) */\n",
       "\n",
       "#sk-container-id-1 div.sk-toggleable {\n",
       "  /* Default theme specific background. It is overwritten whether we have a\n",
       "  specific estimator or a Pipeline/ColumnTransformer */\n",
       "  background-color: var(--sklearn-color-background);\n",
       "}\n",
       "\n",
       "/* Toggleable label */\n",
       "#sk-container-id-1 label.sk-toggleable__label {\n",
       "  cursor: pointer;\n",
       "  display: block;\n",
       "  width: 100%;\n",
       "  margin-bottom: 0;\n",
       "  padding: 0.5em;\n",
       "  box-sizing: border-box;\n",
       "  text-align: center;\n",
       "}\n",
       "\n",
       "#sk-container-id-1 label.sk-toggleable__label-arrow:before {\n",
       "  /* Arrow on the left of the label */\n",
       "  content: \"▸\";\n",
       "  float: left;\n",
       "  margin-right: 0.25em;\n",
       "  color: var(--sklearn-color-icon);\n",
       "}\n",
       "\n",
       "#sk-container-id-1 label.sk-toggleable__label-arrow:hover:before {\n",
       "  color: var(--sklearn-color-text);\n",
       "}\n",
       "\n",
       "/* Toggleable content - dropdown */\n",
       "\n",
       "#sk-container-id-1 div.sk-toggleable__content {\n",
       "  max-height: 0;\n",
       "  max-width: 0;\n",
       "  overflow: hidden;\n",
       "  text-align: left;\n",
       "  /* unfitted */\n",
       "  background-color: var(--sklearn-color-unfitted-level-0);\n",
       "}\n",
       "\n",
       "#sk-container-id-1 div.sk-toggleable__content.fitted {\n",
       "  /* fitted */\n",
       "  background-color: var(--sklearn-color-fitted-level-0);\n",
       "}\n",
       "\n",
       "#sk-container-id-1 div.sk-toggleable__content pre {\n",
       "  margin: 0.2em;\n",
       "  border-radius: 0.25em;\n",
       "  color: var(--sklearn-color-text);\n",
       "  /* unfitted */\n",
       "  background-color: var(--sklearn-color-unfitted-level-0);\n",
       "}\n",
       "\n",
       "#sk-container-id-1 div.sk-toggleable__content.fitted pre {\n",
       "  /* unfitted */\n",
       "  background-color: var(--sklearn-color-fitted-level-0);\n",
       "}\n",
       "\n",
       "#sk-container-id-1 input.sk-toggleable__control:checked~div.sk-toggleable__content {\n",
       "  /* Expand drop-down */\n",
       "  max-height: 200px;\n",
       "  max-width: 100%;\n",
       "  overflow: auto;\n",
       "}\n",
       "\n",
       "#sk-container-id-1 input.sk-toggleable__control:checked~label.sk-toggleable__label-arrow:before {\n",
       "  content: \"▾\";\n",
       "}\n",
       "\n",
       "/* Pipeline/ColumnTransformer-specific style */\n",
       "\n",
       "#sk-container-id-1 div.sk-label input.sk-toggleable__control:checked~label.sk-toggleable__label {\n",
       "  color: var(--sklearn-color-text);\n",
       "  background-color: var(--sklearn-color-unfitted-level-2);\n",
       "}\n",
       "\n",
       "#sk-container-id-1 div.sk-label.fitted input.sk-toggleable__control:checked~label.sk-toggleable__label {\n",
       "  background-color: var(--sklearn-color-fitted-level-2);\n",
       "}\n",
       "\n",
       "/* Estimator-specific style */\n",
       "\n",
       "/* Colorize estimator box */\n",
       "#sk-container-id-1 div.sk-estimator input.sk-toggleable__control:checked~label.sk-toggleable__label {\n",
       "  /* unfitted */\n",
       "  background-color: var(--sklearn-color-unfitted-level-2);\n",
       "}\n",
       "\n",
       "#sk-container-id-1 div.sk-estimator.fitted input.sk-toggleable__control:checked~label.sk-toggleable__label {\n",
       "  /* fitted */\n",
       "  background-color: var(--sklearn-color-fitted-level-2);\n",
       "}\n",
       "\n",
       "#sk-container-id-1 div.sk-label label.sk-toggleable__label,\n",
       "#sk-container-id-1 div.sk-label label {\n",
       "  /* The background is the default theme color */\n",
       "  color: var(--sklearn-color-text-on-default-background);\n",
       "}\n",
       "\n",
       "/* On hover, darken the color of the background */\n",
       "#sk-container-id-1 div.sk-label:hover label.sk-toggleable__label {\n",
       "  color: var(--sklearn-color-text);\n",
       "  background-color: var(--sklearn-color-unfitted-level-2);\n",
       "}\n",
       "\n",
       "/* Label box, darken color on hover, fitted */\n",
       "#sk-container-id-1 div.sk-label.fitted:hover label.sk-toggleable__label.fitted {\n",
       "  color: var(--sklearn-color-text);\n",
       "  background-color: var(--sklearn-color-fitted-level-2);\n",
       "}\n",
       "\n",
       "/* Estimator label */\n",
       "\n",
       "#sk-container-id-1 div.sk-label label {\n",
       "  font-family: monospace;\n",
       "  font-weight: bold;\n",
       "  display: inline-block;\n",
       "  line-height: 1.2em;\n",
       "}\n",
       "\n",
       "#sk-container-id-1 div.sk-label-container {\n",
       "  text-align: center;\n",
       "}\n",
       "\n",
       "/* Estimator-specific */\n",
       "#sk-container-id-1 div.sk-estimator {\n",
       "  font-family: monospace;\n",
       "  border: 1px dotted var(--sklearn-color-border-box);\n",
       "  border-radius: 0.25em;\n",
       "  box-sizing: border-box;\n",
       "  margin-bottom: 0.5em;\n",
       "  /* unfitted */\n",
       "  background-color: var(--sklearn-color-unfitted-level-0);\n",
       "}\n",
       "\n",
       "#sk-container-id-1 div.sk-estimator.fitted {\n",
       "  /* fitted */\n",
       "  background-color: var(--sklearn-color-fitted-level-0);\n",
       "}\n",
       "\n",
       "/* on hover */\n",
       "#sk-container-id-1 div.sk-estimator:hover {\n",
       "  /* unfitted */\n",
       "  background-color: var(--sklearn-color-unfitted-level-2);\n",
       "}\n",
       "\n",
       "#sk-container-id-1 div.sk-estimator.fitted:hover {\n",
       "  /* fitted */\n",
       "  background-color: var(--sklearn-color-fitted-level-2);\n",
       "}\n",
       "\n",
       "/* Specification for estimator info (e.g. \"i\" and \"?\") */\n",
       "\n",
       "/* Common style for \"i\" and \"?\" */\n",
       "\n",
       ".sk-estimator-doc-link,\n",
       "a:link.sk-estimator-doc-link,\n",
       "a:visited.sk-estimator-doc-link {\n",
       "  float: right;\n",
       "  font-size: smaller;\n",
       "  line-height: 1em;\n",
       "  font-family: monospace;\n",
       "  background-color: var(--sklearn-color-background);\n",
       "  border-radius: 1em;\n",
       "  height: 1em;\n",
       "  width: 1em;\n",
       "  text-decoration: none !important;\n",
       "  margin-left: 1ex;\n",
       "  /* unfitted */\n",
       "  border: var(--sklearn-color-unfitted-level-1) 1pt solid;\n",
       "  color: var(--sklearn-color-unfitted-level-1);\n",
       "}\n",
       "\n",
       ".sk-estimator-doc-link.fitted,\n",
       "a:link.sk-estimator-doc-link.fitted,\n",
       "a:visited.sk-estimator-doc-link.fitted {\n",
       "  /* fitted */\n",
       "  border: var(--sklearn-color-fitted-level-1) 1pt solid;\n",
       "  color: var(--sklearn-color-fitted-level-1);\n",
       "}\n",
       "\n",
       "/* On hover */\n",
       "div.sk-estimator:hover .sk-estimator-doc-link:hover,\n",
       ".sk-estimator-doc-link:hover,\n",
       "div.sk-label-container:hover .sk-estimator-doc-link:hover,\n",
       ".sk-estimator-doc-link:hover {\n",
       "  /* unfitted */\n",
       "  background-color: var(--sklearn-color-unfitted-level-3);\n",
       "  color: var(--sklearn-color-background);\n",
       "  text-decoration: none;\n",
       "}\n",
       "\n",
       "div.sk-estimator.fitted:hover .sk-estimator-doc-link.fitted:hover,\n",
       ".sk-estimator-doc-link.fitted:hover,\n",
       "div.sk-label-container:hover .sk-estimator-doc-link.fitted:hover,\n",
       ".sk-estimator-doc-link.fitted:hover {\n",
       "  /* fitted */\n",
       "  background-color: var(--sklearn-color-fitted-level-3);\n",
       "  color: var(--sklearn-color-background);\n",
       "  text-decoration: none;\n",
       "}\n",
       "\n",
       "/* Span, style for the box shown on hovering the info icon */\n",
       ".sk-estimator-doc-link span {\n",
       "  display: none;\n",
       "  z-index: 9999;\n",
       "  position: relative;\n",
       "  font-weight: normal;\n",
       "  right: .2ex;\n",
       "  padding: .5ex;\n",
       "  margin: .5ex;\n",
       "  width: min-content;\n",
       "  min-width: 20ex;\n",
       "  max-width: 50ex;\n",
       "  color: var(--sklearn-color-text);\n",
       "  box-shadow: 2pt 2pt 4pt #999;\n",
       "  /* unfitted */\n",
       "  background: var(--sklearn-color-unfitted-level-0);\n",
       "  border: .5pt solid var(--sklearn-color-unfitted-level-3);\n",
       "}\n",
       "\n",
       ".sk-estimator-doc-link.fitted span {\n",
       "  /* fitted */\n",
       "  background: var(--sklearn-color-fitted-level-0);\n",
       "  border: var(--sklearn-color-fitted-level-3);\n",
       "}\n",
       "\n",
       ".sk-estimator-doc-link:hover span {\n",
       "  display: block;\n",
       "}\n",
       "\n",
       "/* \"?\"-specific style due to the `<a>` HTML tag */\n",
       "\n",
       "#sk-container-id-1 a.estimator_doc_link {\n",
       "  float: right;\n",
       "  font-size: 1rem;\n",
       "  line-height: 1em;\n",
       "  font-family: monospace;\n",
       "  background-color: var(--sklearn-color-background);\n",
       "  border-radius: 1rem;\n",
       "  height: 1rem;\n",
       "  width: 1rem;\n",
       "  text-decoration: none;\n",
       "  /* unfitted */\n",
       "  color: var(--sklearn-color-unfitted-level-1);\n",
       "  border: var(--sklearn-color-unfitted-level-1) 1pt solid;\n",
       "}\n",
       "\n",
       "#sk-container-id-1 a.estimator_doc_link.fitted {\n",
       "  /* fitted */\n",
       "  border: var(--sklearn-color-fitted-level-1) 1pt solid;\n",
       "  color: var(--sklearn-color-fitted-level-1);\n",
       "}\n",
       "\n",
       "/* On hover */\n",
       "#sk-container-id-1 a.estimator_doc_link:hover {\n",
       "  /* unfitted */\n",
       "  background-color: var(--sklearn-color-unfitted-level-3);\n",
       "  color: var(--sklearn-color-background);\n",
       "  text-decoration: none;\n",
       "}\n",
       "\n",
       "#sk-container-id-1 a.estimator_doc_link.fitted:hover {\n",
       "  /* fitted */\n",
       "  background-color: var(--sklearn-color-fitted-level-3);\n",
       "}\n",
       "</style><div id=\"sk-container-id-1\" class=\"sk-top-container\"><div class=\"sk-text-repr-fallback\"><pre>LinearRegression()</pre><b>In a Jupyter environment, please rerun this cell to show the HTML representation or trust the notebook. <br />On GitHub, the HTML representation is unable to render, please try loading this page with nbviewer.org.</b></div><div class=\"sk-container\" hidden><div class=\"sk-item\"><div class=\"sk-estimator  sk-toggleable\"><input class=\"sk-toggleable__control sk-hidden--visually\" id=\"sk-estimator-id-1\" type=\"checkbox\" checked><label for=\"sk-estimator-id-1\" class=\"sk-toggleable__label  sk-toggleable__label-arrow \">&nbsp;&nbsp;LinearRegression<a class=\"sk-estimator-doc-link \" rel=\"noreferrer\" target=\"_blank\" href=\"https://scikit-learn.org/1.5/modules/generated/sklearn.linear_model.LinearRegression.html\">?<span>Documentation for LinearRegression</span></a><span class=\"sk-estimator-doc-link \">i<span>Not fitted</span></span></label><div class=\"sk-toggleable__content \"><pre>LinearRegression()</pre></div> </div></div></div></div>"
      ],
      "text/plain": [
       "LinearRegression()"
      ]
     },
     "execution_count": 4,
     "metadata": {},
     "output_type": "execute_result"
    }
   ],
   "source": [
    "model"
   ]
  },
  {
   "cell_type": "code",
   "execution_count": 7,
   "id": "9b429235-ff23-4e68-9396-350f5a324582",
   "metadata": {},
   "outputs": [
    {
     "data": {
      "text/html": [
       "<style>#sk-container-id-2 {\n",
       "  /* Definition of color scheme common for light and dark mode */\n",
       "  --sklearn-color-text: black;\n",
       "  --sklearn-color-line: gray;\n",
       "  /* Definition of color scheme for unfitted estimators */\n",
       "  --sklearn-color-unfitted-level-0: #fff5e6;\n",
       "  --sklearn-color-unfitted-level-1: #f6e4d2;\n",
       "  --sklearn-color-unfitted-level-2: #ffe0b3;\n",
       "  --sklearn-color-unfitted-level-3: chocolate;\n",
       "  /* Definition of color scheme for fitted estimators */\n",
       "  --sklearn-color-fitted-level-0: #f0f8ff;\n",
       "  --sklearn-color-fitted-level-1: #d4ebff;\n",
       "  --sklearn-color-fitted-level-2: #b3dbfd;\n",
       "  --sklearn-color-fitted-level-3: cornflowerblue;\n",
       "\n",
       "  /* Specific color for light theme */\n",
       "  --sklearn-color-text-on-default-background: var(--sg-text-color, var(--theme-code-foreground, var(--jp-content-font-color1, black)));\n",
       "  --sklearn-color-background: var(--sg-background-color, var(--theme-background, var(--jp-layout-color0, white)));\n",
       "  --sklearn-color-border-box: var(--sg-text-color, var(--theme-code-foreground, var(--jp-content-font-color1, black)));\n",
       "  --sklearn-color-icon: #696969;\n",
       "\n",
       "  @media (prefers-color-scheme: dark) {\n",
       "    /* Redefinition of color scheme for dark theme */\n",
       "    --sklearn-color-text-on-default-background: var(--sg-text-color, var(--theme-code-foreground, var(--jp-content-font-color1, white)));\n",
       "    --sklearn-color-background: var(--sg-background-color, var(--theme-background, var(--jp-layout-color0, #111)));\n",
       "    --sklearn-color-border-box: var(--sg-text-color, var(--theme-code-foreground, var(--jp-content-font-color1, white)));\n",
       "    --sklearn-color-icon: #878787;\n",
       "  }\n",
       "}\n",
       "\n",
       "#sk-container-id-2 {\n",
       "  color: var(--sklearn-color-text);\n",
       "}\n",
       "\n",
       "#sk-container-id-2 pre {\n",
       "  padding: 0;\n",
       "}\n",
       "\n",
       "#sk-container-id-2 input.sk-hidden--visually {\n",
       "  border: 0;\n",
       "  clip: rect(1px 1px 1px 1px);\n",
       "  clip: rect(1px, 1px, 1px, 1px);\n",
       "  height: 1px;\n",
       "  margin: -1px;\n",
       "  overflow: hidden;\n",
       "  padding: 0;\n",
       "  position: absolute;\n",
       "  width: 1px;\n",
       "}\n",
       "\n",
       "#sk-container-id-2 div.sk-dashed-wrapped {\n",
       "  border: 1px dashed var(--sklearn-color-line);\n",
       "  margin: 0 0.4em 0.5em 0.4em;\n",
       "  box-sizing: border-box;\n",
       "  padding-bottom: 0.4em;\n",
       "  background-color: var(--sklearn-color-background);\n",
       "}\n",
       "\n",
       "#sk-container-id-2 div.sk-container {\n",
       "  /* jupyter's `normalize.less` sets `[hidden] { display: none; }`\n",
       "     but bootstrap.min.css set `[hidden] { display: none !important; }`\n",
       "     so we also need the `!important` here to be able to override the\n",
       "     default hidden behavior on the sphinx rendered scikit-learn.org.\n",
       "     See: https://github.com/scikit-learn/scikit-learn/issues/21755 */\n",
       "  display: inline-block !important;\n",
       "  position: relative;\n",
       "}\n",
       "\n",
       "#sk-container-id-2 div.sk-text-repr-fallback {\n",
       "  display: none;\n",
       "}\n",
       "\n",
       "div.sk-parallel-item,\n",
       "div.sk-serial,\n",
       "div.sk-item {\n",
       "  /* draw centered vertical line to link estimators */\n",
       "  background-image: linear-gradient(var(--sklearn-color-text-on-default-background), var(--sklearn-color-text-on-default-background));\n",
       "  background-size: 2px 100%;\n",
       "  background-repeat: no-repeat;\n",
       "  background-position: center center;\n",
       "}\n",
       "\n",
       "/* Parallel-specific style estimator block */\n",
       "\n",
       "#sk-container-id-2 div.sk-parallel-item::after {\n",
       "  content: \"\";\n",
       "  width: 100%;\n",
       "  border-bottom: 2px solid var(--sklearn-color-text-on-default-background);\n",
       "  flex-grow: 1;\n",
       "}\n",
       "\n",
       "#sk-container-id-2 div.sk-parallel {\n",
       "  display: flex;\n",
       "  align-items: stretch;\n",
       "  justify-content: center;\n",
       "  background-color: var(--sklearn-color-background);\n",
       "  position: relative;\n",
       "}\n",
       "\n",
       "#sk-container-id-2 div.sk-parallel-item {\n",
       "  display: flex;\n",
       "  flex-direction: column;\n",
       "}\n",
       "\n",
       "#sk-container-id-2 div.sk-parallel-item:first-child::after {\n",
       "  align-self: flex-end;\n",
       "  width: 50%;\n",
       "}\n",
       "\n",
       "#sk-container-id-2 div.sk-parallel-item:last-child::after {\n",
       "  align-self: flex-start;\n",
       "  width: 50%;\n",
       "}\n",
       "\n",
       "#sk-container-id-2 div.sk-parallel-item:only-child::after {\n",
       "  width: 0;\n",
       "}\n",
       "\n",
       "/* Serial-specific style estimator block */\n",
       "\n",
       "#sk-container-id-2 div.sk-serial {\n",
       "  display: flex;\n",
       "  flex-direction: column;\n",
       "  align-items: center;\n",
       "  background-color: var(--sklearn-color-background);\n",
       "  padding-right: 1em;\n",
       "  padding-left: 1em;\n",
       "}\n",
       "\n",
       "\n",
       "/* Toggleable style: style used for estimator/Pipeline/ColumnTransformer box that is\n",
       "clickable and can be expanded/collapsed.\n",
       "- Pipeline and ColumnTransformer use this feature and define the default style\n",
       "- Estimators will overwrite some part of the style using the `sk-estimator` class\n",
       "*/\n",
       "\n",
       "/* Pipeline and ColumnTransformer style (default) */\n",
       "\n",
       "#sk-container-id-2 div.sk-toggleable {\n",
       "  /* Default theme specific background. It is overwritten whether we have a\n",
       "  specific estimator or a Pipeline/ColumnTransformer */\n",
       "  background-color: var(--sklearn-color-background);\n",
       "}\n",
       "\n",
       "/* Toggleable label */\n",
       "#sk-container-id-2 label.sk-toggleable__label {\n",
       "  cursor: pointer;\n",
       "  display: block;\n",
       "  width: 100%;\n",
       "  margin-bottom: 0;\n",
       "  padding: 0.5em;\n",
       "  box-sizing: border-box;\n",
       "  text-align: center;\n",
       "}\n",
       "\n",
       "#sk-container-id-2 label.sk-toggleable__label-arrow:before {\n",
       "  /* Arrow on the left of the label */\n",
       "  content: \"▸\";\n",
       "  float: left;\n",
       "  margin-right: 0.25em;\n",
       "  color: var(--sklearn-color-icon);\n",
       "}\n",
       "\n",
       "#sk-container-id-2 label.sk-toggleable__label-arrow:hover:before {\n",
       "  color: var(--sklearn-color-text);\n",
       "}\n",
       "\n",
       "/* Toggleable content - dropdown */\n",
       "\n",
       "#sk-container-id-2 div.sk-toggleable__content {\n",
       "  max-height: 0;\n",
       "  max-width: 0;\n",
       "  overflow: hidden;\n",
       "  text-align: left;\n",
       "  /* unfitted */\n",
       "  background-color: var(--sklearn-color-unfitted-level-0);\n",
       "}\n",
       "\n",
       "#sk-container-id-2 div.sk-toggleable__content.fitted {\n",
       "  /* fitted */\n",
       "  background-color: var(--sklearn-color-fitted-level-0);\n",
       "}\n",
       "\n",
       "#sk-container-id-2 div.sk-toggleable__content pre {\n",
       "  margin: 0.2em;\n",
       "  border-radius: 0.25em;\n",
       "  color: var(--sklearn-color-text);\n",
       "  /* unfitted */\n",
       "  background-color: var(--sklearn-color-unfitted-level-0);\n",
       "}\n",
       "\n",
       "#sk-container-id-2 div.sk-toggleable__content.fitted pre {\n",
       "  /* unfitted */\n",
       "  background-color: var(--sklearn-color-fitted-level-0);\n",
       "}\n",
       "\n",
       "#sk-container-id-2 input.sk-toggleable__control:checked~div.sk-toggleable__content {\n",
       "  /* Expand drop-down */\n",
       "  max-height: 200px;\n",
       "  max-width: 100%;\n",
       "  overflow: auto;\n",
       "}\n",
       "\n",
       "#sk-container-id-2 input.sk-toggleable__control:checked~label.sk-toggleable__label-arrow:before {\n",
       "  content: \"▾\";\n",
       "}\n",
       "\n",
       "/* Pipeline/ColumnTransformer-specific style */\n",
       "\n",
       "#sk-container-id-2 div.sk-label input.sk-toggleable__control:checked~label.sk-toggleable__label {\n",
       "  color: var(--sklearn-color-text);\n",
       "  background-color: var(--sklearn-color-unfitted-level-2);\n",
       "}\n",
       "\n",
       "#sk-container-id-2 div.sk-label.fitted input.sk-toggleable__control:checked~label.sk-toggleable__label {\n",
       "  background-color: var(--sklearn-color-fitted-level-2);\n",
       "}\n",
       "\n",
       "/* Estimator-specific style */\n",
       "\n",
       "/* Colorize estimator box */\n",
       "#sk-container-id-2 div.sk-estimator input.sk-toggleable__control:checked~label.sk-toggleable__label {\n",
       "  /* unfitted */\n",
       "  background-color: var(--sklearn-color-unfitted-level-2);\n",
       "}\n",
       "\n",
       "#sk-container-id-2 div.sk-estimator.fitted input.sk-toggleable__control:checked~label.sk-toggleable__label {\n",
       "  /* fitted */\n",
       "  background-color: var(--sklearn-color-fitted-level-2);\n",
       "}\n",
       "\n",
       "#sk-container-id-2 div.sk-label label.sk-toggleable__label,\n",
       "#sk-container-id-2 div.sk-label label {\n",
       "  /* The background is the default theme color */\n",
       "  color: var(--sklearn-color-text-on-default-background);\n",
       "}\n",
       "\n",
       "/* On hover, darken the color of the background */\n",
       "#sk-container-id-2 div.sk-label:hover label.sk-toggleable__label {\n",
       "  color: var(--sklearn-color-text);\n",
       "  background-color: var(--sklearn-color-unfitted-level-2);\n",
       "}\n",
       "\n",
       "/* Label box, darken color on hover, fitted */\n",
       "#sk-container-id-2 div.sk-label.fitted:hover label.sk-toggleable__label.fitted {\n",
       "  color: var(--sklearn-color-text);\n",
       "  background-color: var(--sklearn-color-fitted-level-2);\n",
       "}\n",
       "\n",
       "/* Estimator label */\n",
       "\n",
       "#sk-container-id-2 div.sk-label label {\n",
       "  font-family: monospace;\n",
       "  font-weight: bold;\n",
       "  display: inline-block;\n",
       "  line-height: 1.2em;\n",
       "}\n",
       "\n",
       "#sk-container-id-2 div.sk-label-container {\n",
       "  text-align: center;\n",
       "}\n",
       "\n",
       "/* Estimator-specific */\n",
       "#sk-container-id-2 div.sk-estimator {\n",
       "  font-family: monospace;\n",
       "  border: 1px dotted var(--sklearn-color-border-box);\n",
       "  border-radius: 0.25em;\n",
       "  box-sizing: border-box;\n",
       "  margin-bottom: 0.5em;\n",
       "  /* unfitted */\n",
       "  background-color: var(--sklearn-color-unfitted-level-0);\n",
       "}\n",
       "\n",
       "#sk-container-id-2 div.sk-estimator.fitted {\n",
       "  /* fitted */\n",
       "  background-color: var(--sklearn-color-fitted-level-0);\n",
       "}\n",
       "\n",
       "/* on hover */\n",
       "#sk-container-id-2 div.sk-estimator:hover {\n",
       "  /* unfitted */\n",
       "  background-color: var(--sklearn-color-unfitted-level-2);\n",
       "}\n",
       "\n",
       "#sk-container-id-2 div.sk-estimator.fitted:hover {\n",
       "  /* fitted */\n",
       "  background-color: var(--sklearn-color-fitted-level-2);\n",
       "}\n",
       "\n",
       "/* Specification for estimator info (e.g. \"i\" and \"?\") */\n",
       "\n",
       "/* Common style for \"i\" and \"?\" */\n",
       "\n",
       ".sk-estimator-doc-link,\n",
       "a:link.sk-estimator-doc-link,\n",
       "a:visited.sk-estimator-doc-link {\n",
       "  float: right;\n",
       "  font-size: smaller;\n",
       "  line-height: 1em;\n",
       "  font-family: monospace;\n",
       "  background-color: var(--sklearn-color-background);\n",
       "  border-radius: 1em;\n",
       "  height: 1em;\n",
       "  width: 1em;\n",
       "  text-decoration: none !important;\n",
       "  margin-left: 1ex;\n",
       "  /* unfitted */\n",
       "  border: var(--sklearn-color-unfitted-level-1) 1pt solid;\n",
       "  color: var(--sklearn-color-unfitted-level-1);\n",
       "}\n",
       "\n",
       ".sk-estimator-doc-link.fitted,\n",
       "a:link.sk-estimator-doc-link.fitted,\n",
       "a:visited.sk-estimator-doc-link.fitted {\n",
       "  /* fitted */\n",
       "  border: var(--sklearn-color-fitted-level-1) 1pt solid;\n",
       "  color: var(--sklearn-color-fitted-level-1);\n",
       "}\n",
       "\n",
       "/* On hover */\n",
       "div.sk-estimator:hover .sk-estimator-doc-link:hover,\n",
       ".sk-estimator-doc-link:hover,\n",
       "div.sk-label-container:hover .sk-estimator-doc-link:hover,\n",
       ".sk-estimator-doc-link:hover {\n",
       "  /* unfitted */\n",
       "  background-color: var(--sklearn-color-unfitted-level-3);\n",
       "  color: var(--sklearn-color-background);\n",
       "  text-decoration: none;\n",
       "}\n",
       "\n",
       "div.sk-estimator.fitted:hover .sk-estimator-doc-link.fitted:hover,\n",
       ".sk-estimator-doc-link.fitted:hover,\n",
       "div.sk-label-container:hover .sk-estimator-doc-link.fitted:hover,\n",
       ".sk-estimator-doc-link.fitted:hover {\n",
       "  /* fitted */\n",
       "  background-color: var(--sklearn-color-fitted-level-3);\n",
       "  color: var(--sklearn-color-background);\n",
       "  text-decoration: none;\n",
       "}\n",
       "\n",
       "/* Span, style for the box shown on hovering the info icon */\n",
       ".sk-estimator-doc-link span {\n",
       "  display: none;\n",
       "  z-index: 9999;\n",
       "  position: relative;\n",
       "  font-weight: normal;\n",
       "  right: .2ex;\n",
       "  padding: .5ex;\n",
       "  margin: .5ex;\n",
       "  width: min-content;\n",
       "  min-width: 20ex;\n",
       "  max-width: 50ex;\n",
       "  color: var(--sklearn-color-text);\n",
       "  box-shadow: 2pt 2pt 4pt #999;\n",
       "  /* unfitted */\n",
       "  background: var(--sklearn-color-unfitted-level-0);\n",
       "  border: .5pt solid var(--sklearn-color-unfitted-level-3);\n",
       "}\n",
       "\n",
       ".sk-estimator-doc-link.fitted span {\n",
       "  /* fitted */\n",
       "  background: var(--sklearn-color-fitted-level-0);\n",
       "  border: var(--sklearn-color-fitted-level-3);\n",
       "}\n",
       "\n",
       ".sk-estimator-doc-link:hover span {\n",
       "  display: block;\n",
       "}\n",
       "\n",
       "/* \"?\"-specific style due to the `<a>` HTML tag */\n",
       "\n",
       "#sk-container-id-2 a.estimator_doc_link {\n",
       "  float: right;\n",
       "  font-size: 1rem;\n",
       "  line-height: 1em;\n",
       "  font-family: monospace;\n",
       "  background-color: var(--sklearn-color-background);\n",
       "  border-radius: 1rem;\n",
       "  height: 1rem;\n",
       "  width: 1rem;\n",
       "  text-decoration: none;\n",
       "  /* unfitted */\n",
       "  color: var(--sklearn-color-unfitted-level-1);\n",
       "  border: var(--sklearn-color-unfitted-level-1) 1pt solid;\n",
       "}\n",
       "\n",
       "#sk-container-id-2 a.estimator_doc_link.fitted {\n",
       "  /* fitted */\n",
       "  border: var(--sklearn-color-fitted-level-1) 1pt solid;\n",
       "  color: var(--sklearn-color-fitted-level-1);\n",
       "}\n",
       "\n",
       "/* On hover */\n",
       "#sk-container-id-2 a.estimator_doc_link:hover {\n",
       "  /* unfitted */\n",
       "  background-color: var(--sklearn-color-unfitted-level-3);\n",
       "  color: var(--sklearn-color-background);\n",
       "  text-decoration: none;\n",
       "}\n",
       "\n",
       "#sk-container-id-2 a.estimator_doc_link.fitted:hover {\n",
       "  /* fitted */\n",
       "  background-color: var(--sklearn-color-fitted-level-3);\n",
       "}\n",
       "</style><div id=\"sk-container-id-2\" class=\"sk-top-container\"><div class=\"sk-text-repr-fallback\"><pre>LinearRegression()</pre><b>In a Jupyter environment, please rerun this cell to show the HTML representation or trust the notebook. <br />On GitHub, the HTML representation is unable to render, please try loading this page with nbviewer.org.</b></div><div class=\"sk-container\" hidden><div class=\"sk-item\"><div class=\"sk-estimator fitted sk-toggleable\"><input class=\"sk-toggleable__control sk-hidden--visually\" id=\"sk-estimator-id-2\" type=\"checkbox\" checked><label for=\"sk-estimator-id-2\" class=\"sk-toggleable__label fitted sk-toggleable__label-arrow fitted\">&nbsp;&nbsp;LinearRegression<a class=\"sk-estimator-doc-link fitted\" rel=\"noreferrer\" target=\"_blank\" href=\"https://scikit-learn.org/1.5/modules/generated/sklearn.linear_model.LinearRegression.html\">?<span>Documentation for LinearRegression</span></a><span class=\"sk-estimator-doc-link fitted\">i<span>Fitted</span></span></label><div class=\"sk-toggleable__content fitted\"><pre>LinearRegression()</pre></div> </div></div></div></div>"
      ],
      "text/plain": [
       "LinearRegression()"
      ]
     },
     "execution_count": 7,
     "metadata": {},
     "output_type": "execute_result"
    }
   ],
   "source": [
    "model.fit(df[[\"X\"]],df[\"y\"])"
   ]
  },
  {
   "cell_type": "code",
   "execution_count": 19,
   "id": "3c9b7a8c-4157-4b10-bc68-1168100b21c8",
   "metadata": {},
   "outputs": [
    {
     "data": {
      "text/plain": [
       "array([ 7.48042119,  8.46818387,  7.80071807,  7.45708713,  6.73736209,\n",
       "        8.05678246,  6.82007792,  9.51654944,  9.94335427,  6.49861846,\n",
       "        8.92257118,  7.36216585,  7.59459473,  9.71735818,  4.64388754,\n",
       "        4.73943207,  4.34218639,  9.165361  ,  8.84201714,  9.38735667,\n",
       "       10.03214459,  8.96670354,  6.96192406,  8.85610208,  4.92433866,\n",
       "        8.0213206 ,  5.07323023,  9.83058905,  7.32033065,  6.68397207,\n",
       "        5.79280056,  8.81872618,  6.93028596,  7.5969065 ,  4.3337049 ,\n",
       "        7.88901289,  7.85612361,  7.88484813,  9.8251221 ,  8.27007389,\n",
       "        6.35652612,  6.81678139,  8.36394216,  4.57970579,  8.18070174,\n",
       "        8.20368453,  5.47117867,  4.98757813,  6.0948287 ,  6.38147829,\n",
       "        7.60737225,  6.82609976, 10.09006233,  4.82798449,  5.46223881,\n",
       "        5.1798352 ,  8.09961277,  5.72592686,  6.99060784,  5.67328993,\n",
       "        5.16594317,  4.87744112,  8.1187372 ,  5.04253428,  5.38924779,\n",
       "        6.41124846,  9.09633454,  4.79863504,  9.19697554,  4.79268108,\n",
       "       10.01932747,  7.00450281, 10.02111819,  7.81307963,  8.61111091,\n",
       "        4.45480645,  5.90115764,  4.93575025,  5.98031619,  4.92702983,\n",
       "        6.10999655,  6.68160356,  4.6029906 ,  8.33331305,  7.58602709,\n",
       "        5.79775124,  7.32864077,  4.77986979,  7.641508  ,  9.73932222,\n",
       "        6.11347425,  8.18452314,  5.00462642,  8.47493914,  5.94033625,\n",
       "        5.30974629,  7.70424026,  4.34152827,  9.14351417,  4.25002781])"
      ]
     },
     "execution_count": 19,
     "metadata": {},
     "output_type": "execute_result"
    }
   ],
   "source": [
    "# new = model.predict(df[['X']])    #Another method mentioned below\n",
    "# new"
   ]
  },
  {
   "cell_type": "code",
   "execution_count": 14,
   "id": "f9bdc7b7-a70f-456a-b089-e40278bca160",
   "metadata": {},
   "outputs": [
    {
     "name": "stderr",
     "output_type": "stream",
     "text": [
      "C:\\Users\\Farogh\\AppData\\Local\\Programs\\Python\\Python312\\Lib\\site-packages\\sklearn\\base.py:493: UserWarning: X does not have valid feature names, but LinearRegression was fitted with feature names\n",
      "  warnings.warn(\n"
     ]
    }
   ],
   "source": [
    "y_pred = model.predict(X)"
   ]
  },
  {
   "cell_type": "code",
   "execution_count": 15,
   "id": "49ec5ea9-49ec-4e15-98f8-06b23683348c",
   "metadata": {},
   "outputs": [
    {
     "data": {
      "text/plain": [
       "array([ 7.48042119,  8.46818387,  7.80071807,  7.45708713,  6.73736209,\n",
       "        8.05678246,  6.82007792,  9.51654944,  9.94335427,  6.49861846,\n",
       "        8.92257118,  7.36216585,  7.59459473,  9.71735818,  4.64388754,\n",
       "        4.73943207,  4.34218639,  9.165361  ,  8.84201714,  9.38735667,\n",
       "       10.03214459,  8.96670354,  6.96192406,  8.85610208,  4.92433866,\n",
       "        8.0213206 ,  5.07323023,  9.83058905,  7.32033065,  6.68397207,\n",
       "        5.79280056,  8.81872618,  6.93028596,  7.5969065 ,  4.3337049 ,\n",
       "        7.88901289,  7.85612361,  7.88484813,  9.8251221 ,  8.27007389,\n",
       "        6.35652612,  6.81678139,  8.36394216,  4.57970579,  8.18070174,\n",
       "        8.20368453,  5.47117867,  4.98757813,  6.0948287 ,  6.38147829,\n",
       "        7.60737225,  6.82609976, 10.09006233,  4.82798449,  5.46223881,\n",
       "        5.1798352 ,  8.09961277,  5.72592686,  6.99060784,  5.67328993,\n",
       "        5.16594317,  4.87744112,  8.1187372 ,  5.04253428,  5.38924779,\n",
       "        6.41124846,  9.09633454,  4.79863504,  9.19697554,  4.79268108,\n",
       "       10.01932747,  7.00450281, 10.02111819,  7.81307963,  8.61111091,\n",
       "        4.45480645,  5.90115764,  4.93575025,  5.98031619,  4.92702983,\n",
       "        6.10999655,  6.68160356,  4.6029906 ,  8.33331305,  7.58602709,\n",
       "        5.79775124,  7.32864077,  4.77986979,  7.641508  ,  9.73932222,\n",
       "        6.11347425,  8.18452314,  5.00462642,  8.47493914,  5.94033625,\n",
       "        5.30974629,  7.70424026,  4.34152827,  9.14351417,  4.25002781])"
      ]
     },
     "execution_count": 15,
     "metadata": {},
     "output_type": "execute_result"
    }
   ],
   "source": [
    "y_pred"
   ]
  },
  {
   "cell_type": "code",
   "execution_count": null,
   "id": "de525439-8260-4268-8c2f-4dfe64612207",
   "metadata": {},
   "outputs": [],
   "source": []
  },
  {
   "cell_type": "code",
   "execution_count": 42,
   "id": "3ecf6e0a-e708-4963-8c11-9408d2c6bbf0",
   "metadata": {},
   "outputs": [
    {
     "data": {
      "text/plain": [
       "Text(0.5, 1.0, 'MultiLinear Regression')"
      ]
     },
     "execution_count": 42,
     "metadata": {},
     "output_type": "execute_result"
    },
    {
     "data": {
      "image/png": "[encoded data removed]",
      "text/plain": [
       "<Figure size 640x480 with 1 Axes>"
      ]
     },
     "metadata": {},
     "output_type": "display_data"
    }
   ],
   "source": [
    "plt.scatter (df.X, df.y, color = \"red\" )\n",
    "plt.plot(df.X, y_pred, color = \"green\" )\n",
    "plt.title(\"MultiLinear Regression\")\n",
    "# plt.xlabel('This is X Axix')\n",
    "# plt.ylabel('This is y Axis')\n",
    "# plt.legend()\n",
    "# plt.show()"
   ]
  },
  {
   "cell_type": "code",
   "execution_count": null,
   "id": "b52bc297-68ed-43bd-865a-91bf148d1092",
   "metadata": {},
   "outputs": [],
   "source": [
    "\n"
   ]
  },
  {
   "cell_type": "code",
   "execution_count": 28,
   "id": "7fbddf08-bd2c-45bf-acc8-2c6928b28726",
   "metadata": {},
   "outputs": [
    {
     "data": {
      "text/plain": [
       "0.7469629925504755"
      ]
     },
     "execution_count": 28,
     "metadata": {},
     "output_type": "execute_result"
    }
   ],
   "source": [
    "model.score(df[[\"X\"]], df[\"y\"])    # To check the score / relationship of the model"
   ]
  },
  {
   "cell_type": "code",
   "execution_count": null,
   "id": "66dfe988-e8e8-45c3-b241-51b5055adc67",
   "metadata": {},
   "outputs": [],
   "source": []
  },
  {
   "cell_type": "code",
   "execution_count": null,
   "id": "9e13eabf-f1a6-441c-87a8-ca4dc9f75c01",
   "metadata": {},
   "outputs": [],
   "source": []
  },
  {
   "cell_type": "code",
   "execution_count": null,
   "id": "be1e67c8-0a58-4494-bfba-74b8ed24aff2",
   "metadata": {},
   "outputs": [],
   "source": [
    "# -----------------GENERATING DATA FOR MLR-------------------------------------- "
   ]
  },
  {
   "cell_type": "code",
   "execution_count": 3,
   "id": "6e29c235-c298-4a46-840e-14675e6e568a",
   "metadata": {},
   "outputs": [],
   "source": [
    "import numpy as np\n",
    "import pandas as pd\n",
    "import matplotlib.pyplot as plt"
   ]
  },
  {
   "cell_type": "code",
   "execution_count": 6,
   "id": "007cdad6-7a11-4d0b-8c83-dd4c6f56e0be",
   "metadata": {},
   "outputs": [],
   "source": [
    "from sklearn.datasets import make_regression"
   ]
  },
  {
   "cell_type": "code",
   "execution_count": 7,
   "id": "658d3a59-bbdd-41b4-834e-74edb7e82f3e",
   "metadata": {},
   "outputs": [],
   "source": [
    "x,y = make_regression(n_samples = 150,\n",
    "                     n_features = 2,\n",
    "                     n_informative = 2,\n",
    "                     n_targets = 1)"
   ]
  },
  {
   "cell_type": "code",
   "execution_count": 8,
   "id": "f5b7a94c-d100-494f-9a88-7c408655f6f6",
   "metadata": {},
   "outputs": [
    {
     "data": {
      "text/plain": [
       "(150, 2)"
      ]
     },
     "execution_count": 8,
     "metadata": {},
     "output_type": "execute_result"
    }
   ],
   "source": [
    "x.shape"
   ]
  },
  {
   "cell_type": "code",
   "execution_count": 9,
   "id": "a1a808e8-b079-4740-809e-d6f07f541f48",
   "metadata": {},
   "outputs": [
    {
     "data": {
      "text/plain": [
       "(150,)"
      ]
     },
     "execution_count": 9,
     "metadata": {},
     "output_type": "execute_result"
    }
   ],
   "source": [
    "y.shape"
   ]
  },
  {
   "cell_type": "code",
   "execution_count": 2,
   "id": "cda00ba0-dafb-4d93-a19a-f332cee97e0d",
   "metadata": {},
   "outputs": [],
   "source": [
    "import plotly.express as px             # to plot a 3D graph we import plotly.express"
   ]
  },
  {
   "cell_type": "code",
   "execution_count": 10,
   "id": "44cfd36c-7e04-4151-8b41-af45a1246824",
   "metadata": {},
   "outputs": [],
   "source": [
    "# Creating a dataFrame\n",
    "\n",
    "df = pd.DataFrame({\n",
    "    'feature1': x[:,0],\n",
    "    'feature2': x[:,1],\n",
    "    'output' : y\n",
    "})"
   ]
  },
  {
   "cell_type": "code",
   "execution_count": 11,
   "id": "955adca9-6cfa-4546-b173-b3b73dda191b",
   "metadata": {},
   "outputs": [
    {
     "data": {
      "text/html": [
       "<div>\n",
       "<style scoped>\n",
       "    .dataframe tbody tr th:only-of-type {\n",
       "        vertical-align: middle;\n",
       "    }\n",
       "\n",
       "    .dataframe tbody tr th {\n",
       "        vertical-align: top;\n",
       "    }\n",
       "\n",
       "    .dataframe thead th {\n",
       "        text-align: right;\n",
       "    }\n",
       "</style>\n",
       "<table border=\"1\" class=\"dataframe\">\n",
       "  <thead>\n",
       "    <tr style=\"text-align: right;\">\n",
       "      <th></th>\n",
       "      <th>feature1</th>\n",
       "      <th>feature2</th>\n",
       "      <th>output</th>\n",
       "    </tr>\n",
       "  </thead>\n",
       "  <tbody>\n",
       "    <tr>\n",
       "      <th>0</th>\n",
       "      <td>0.160928</td>\n",
       "      <td>-0.015682</td>\n",
       "      <td>12.788358</td>\n",
       "    </tr>\n",
       "    <tr>\n",
       "      <th>1</th>\n",
       "      <td>-1.188945</td>\n",
       "      <td>0.747188</td>\n",
       "      <td>-32.849125</td>\n",
       "    </tr>\n",
       "    <tr>\n",
       "      <th>2</th>\n",
       "      <td>0.279096</td>\n",
       "      <td>0.463130</td>\n",
       "      <td>70.045735</td>\n",
       "    </tr>\n",
       "    <tr>\n",
       "      <th>3</th>\n",
       "      <td>0.880179</td>\n",
       "      <td>-0.206904</td>\n",
       "      <td>58.119293</td>\n",
       "    </tr>\n",
       "    <tr>\n",
       "      <th>4</th>\n",
       "      <td>-0.312292</td>\n",
       "      <td>-1.157355</td>\n",
       "      <td>-140.771557</td>\n",
       "    </tr>\n",
       "    <tr>\n",
       "      <th>...</th>\n",
       "      <td>...</td>\n",
       "      <td>...</td>\n",
       "      <td>...</td>\n",
       "    </tr>\n",
       "    <tr>\n",
       "      <th>145</th>\n",
       "      <td>-0.052567</td>\n",
       "      <td>-0.596314</td>\n",
       "      <td>-62.891111</td>\n",
       "    </tr>\n",
       "    <tr>\n",
       "      <th>146</th>\n",
       "      <td>-1.022507</td>\n",
       "      <td>-2.255564</td>\n",
       "      <td>-311.175979</td>\n",
       "    </tr>\n",
       "    <tr>\n",
       "      <th>147</th>\n",
       "      <td>-0.110389</td>\n",
       "      <td>-0.782629</td>\n",
       "      <td>-86.224636</td>\n",
       "    </tr>\n",
       "    <tr>\n",
       "      <th>148</th>\n",
       "      <td>0.620358</td>\n",
       "      <td>-0.479656</td>\n",
       "      <td>8.373856</td>\n",
       "    </tr>\n",
       "    <tr>\n",
       "      <th>149</th>\n",
       "      <td>0.356293</td>\n",
       "      <td>0.766663</td>\n",
       "      <td>106.546336</td>\n",
       "    </tr>\n",
       "  </tbody>\n",
       "</table>\n",
       "<p>150 rows × 3 columns</p>\n",
       "</div>"
      ],
      "text/plain": [
       "     feature1  feature2      output\n",
       "0    0.160928 -0.015682   12.788358\n",
       "1   -1.188945  0.747188  -32.849125\n",
       "2    0.279096  0.463130   70.045735\n",
       "3    0.880179 -0.206904   58.119293\n",
       "4   -0.312292 -1.157355 -140.771557\n",
       "..        ...       ...         ...\n",
       "145 -0.052567 -0.596314  -62.891111\n",
       "146 -1.022507 -2.255564 -311.175979\n",
       "147 -0.110389 -0.782629  -86.224636\n",
       "148  0.620358 -0.479656    8.373856\n",
       "149  0.356293  0.766663  106.546336\n",
       "\n",
       "[150 rows x 3 columns]"
      ]
     },
     "execution_count": 11,
     "metadata": {},
     "output_type": "execute_result"
    }
   ],
   "source": [
    "df"
   ]
  },
  {
   "cell_type": "code",
   "execution_count": 12,
   "id": "09eb919f-9d24-4904-a70a-a6eaf6199eb7",
   "metadata": {},
   "outputs": [
    {
     "data": {
      "text/plain": [
       "(150, 3)"
      ]
     },
     "execution_count": 12,
     "metadata": {},
     "output_type": "execute_result"
    }
   ],
   "source": [
    "df.shape"
   ]
  },
  {
   "cell_type": "code",
   "execution_count": 14,
   "id": "0bd32757-ddf5-4179-9e93-8e106d355b85",
   "metadata": {},
   "outputs": [
    {
     "data": {
      "text/html": [
       "<div>\n",
       "<style scoped>\n",
       "    .dataframe tbody tr th:only-of-type {\n",
       "        vertical-align: middle;\n",
       "    }\n",
       "\n",
       "    .dataframe tbody tr th {\n",
       "        vertical-align: top;\n",
       "    }\n",
       "\n",
       "    .dataframe thead th {\n",
       "        text-align: right;\n",
       "    }\n",
       "</style>\n",
       "<table border=\"1\" class=\"dataframe\">\n",
       "  <thead>\n",
       "    <tr style=\"text-align: right;\">\n",
       "      <th></th>\n",
       "      <th>feature1</th>\n",
       "      <th>feature2</th>\n",
       "      <th>output</th>\n",
       "    </tr>\n",
       "  </thead>\n",
       "  <tbody>\n",
       "    <tr>\n",
       "      <th>0</th>\n",
       "      <td>0.160928</td>\n",
       "      <td>-0.015682</td>\n",
       "      <td>12.788358</td>\n",
       "    </tr>\n",
       "    <tr>\n",
       "      <th>1</th>\n",
       "      <td>-1.188945</td>\n",
       "      <td>0.747188</td>\n",
       "      <td>-32.849125</td>\n",
       "    </tr>\n",
       "    <tr>\n",
       "      <th>2</th>\n",
       "      <td>0.279096</td>\n",
       "      <td>0.463130</td>\n",
       "      <td>70.045735</td>\n",
       "    </tr>\n",
       "    <tr>\n",
       "      <th>3</th>\n",
       "      <td>0.880179</td>\n",
       "      <td>-0.206904</td>\n",
       "      <td>58.119293</td>\n",
       "    </tr>\n",
       "    <tr>\n",
       "      <th>4</th>\n",
       "      <td>-0.312292</td>\n",
       "      <td>-1.157355</td>\n",
       "      <td>-140.771557</td>\n",
       "    </tr>\n",
       "  </tbody>\n",
       "</table>\n",
       "</div>"
      ],
      "text/plain": [
       "   feature1  feature2      output\n",
       "0  0.160928 -0.015682   12.788358\n",
       "1 -1.188945  0.747188  -32.849125\n",
       "2  0.279096  0.463130   70.045735\n",
       "3  0.880179 -0.206904   58.119293\n",
       "4 -0.312292 -1.157355 -140.771557"
      ]
     },
     "execution_count": 14,
     "metadata": {},
     "output_type": "execute_result"
    }
   ],
   "source": [
    "df.head()"
   ]
  },
  {
   "cell_type": "code",
   "execution_count": 16,
   "id": "809083e5-406e-49a8-b5b4-b1420742167a",
   "metadata": {},
   "outputs": [
    {
     "name": "stdout",
     "output_type": "stream",
     "text": [
      "<class 'pandas.core.frame.DataFrame'>\n",
      "RangeIndex: 150 entries, 0 to 149\n",
      "Data columns (total 3 columns):\n",
      " #   Column    Non-Null Count  Dtype  \n",
      "---  ------    --------------  -----  \n",
      " 0   feature1  150 non-null    float64\n",
      " 1   feature2  150 non-null    float64\n",
      " 2   output    150 non-null    float64\n",
      "dtypes: float64(3)\n",
      "memory usage: 3.6 KB\n"
     ]
    }
   ],
   "source": [
    "df.info()"
   ]
  },
  {
   "cell_type": "code",
   "execution_count": 18,
   "id": "73d79517-a4da-4de4-82dc-d6c5974e40aa",
   "metadata": {},
   "outputs": [
    {
     "data": {
      "text/html": [
       "<div>\n",
       "<style scoped>\n",
       "    .dataframe tbody tr th:only-of-type {\n",
       "        vertical-align: middle;\n",
       "    }\n",
       "\n",
       "    .dataframe tbody tr th {\n",
       "        vertical-align: top;\n",
       "    }\n",
       "\n",
       "    .dataframe thead th {\n",
       "        text-align: right;\n",
       "    }\n",
       "</style>\n",
       "<table border=\"1\" class=\"dataframe\">\n",
       "  <thead>\n",
       "    <tr style=\"text-align: right;\">\n",
       "      <th></th>\n",
       "      <th>feature1</th>\n",
       "      <th>feature2</th>\n",
       "      <th>output</th>\n",
       "    </tr>\n",
       "  </thead>\n",
       "  <tbody>\n",
       "    <tr>\n",
       "      <th>count</th>\n",
       "      <td>150.000000</td>\n",
       "      <td>150.000000</td>\n",
       "      <td>150.000000</td>\n",
       "    </tr>\n",
       "    <tr>\n",
       "      <th>mean</th>\n",
       "      <td>-0.100793</td>\n",
       "      <td>-0.110909</td>\n",
       "      <td>-19.795727</td>\n",
       "    </tr>\n",
       "    <tr>\n",
       "      <th>std</th>\n",
       "      <td>0.966774</td>\n",
       "      <td>0.988579</td>\n",
       "      <td>128.915753</td>\n",
       "    </tr>\n",
       "    <tr>\n",
       "      <th>min</th>\n",
       "      <td>-2.772593</td>\n",
       "      <td>-2.659172</td>\n",
       "      <td>-311.175979</td>\n",
       "    </tr>\n",
       "    <tr>\n",
       "      <th>25%</th>\n",
       "      <td>-0.725440</td>\n",
       "      <td>-0.690997</td>\n",
       "      <td>-120.593700</td>\n",
       "    </tr>\n",
       "    <tr>\n",
       "      <th>50%</th>\n",
       "      <td>-0.046430</td>\n",
       "      <td>-0.146808</td>\n",
       "      <td>-27.958520</td>\n",
       "    </tr>\n",
       "    <tr>\n",
       "      <th>75%</th>\n",
       "      <td>0.473845</td>\n",
       "      <td>0.642519</td>\n",
       "      <td>68.989808</td>\n",
       "    </tr>\n",
       "    <tr>\n",
       "      <th>max</th>\n",
       "      <td>2.412454</td>\n",
       "      <td>2.303917</td>\n",
       "      <td>330.104054</td>\n",
       "    </tr>\n",
       "  </tbody>\n",
       "</table>\n",
       "</div>"
      ],
      "text/plain": [
       "         feature1    feature2      output\n",
       "count  150.000000  150.000000  150.000000\n",
       "mean    -0.100793   -0.110909  -19.795727\n",
       "std      0.966774    0.988579  128.915753\n",
       "min     -2.772593   -2.659172 -311.175979\n",
       "25%     -0.725440   -0.690997 -120.593700\n",
       "50%     -0.046430   -0.146808  -27.958520\n",
       "75%      0.473845    0.642519   68.989808\n",
       "max      2.412454    2.303917  330.104054"
      ]
     },
     "execution_count": 18,
     "metadata": {},
     "output_type": "execute_result"
    }
   ],
   "source": [
    "df.describe()"
   ]
  },
  {
   "cell_type": "code",
   "execution_count": null,
   "id": "150d0ffc-83d6-4b4c-a59d-77e84e6b5782",
   "metadata": {},
   "outputs": [],
   "source": []
  },
  {
   "cell_type": "code",
   "execution_count": null,
   "id": "58bcff76-7bfc-4972-ad01-48cf78c4d86f",
   "metadata": {},
   "outputs": [],
   "source": []
  },
  {
   "cell_type": "code",
   "execution_count": null,
   "id": "9c7cf496-07b1-45d5-a1de-eff1fcaf6052",
   "metadata": {},
   "outputs": [],
   "source": []
  },
  {
   "cell_type": "code",
   "execution_count": null,
   "id": "0758717c-bec9-4a65-be60-b9e370f7e7ab",
   "metadata": {},
   "outputs": [],
   "source": []
  },
  {
   "cell_type": "code",
   "execution_count": null,
   "id": "30c66ebd-f999-47de-aa05-707d77207efc",
   "metadata": {},
   "outputs": [],
   "source": []
  },
  {
   "cell_type": "code",
   "execution_count": 21,
   "id": "1405fc79-95fb-47de-845e-962538acc5ed",
   "metadata": {},
   "outputs": [
    {
     "data": {
      "application/vnd.plotly.v1+json": {
       "config": {
        "plotlyServerURL": "https://plot.ly"
       },
       "data": [
        {
         "hovertemplate": "feature2=%{y}<br>feature1=%{x}<br>output=%{z}<extra></extra>",
         "legendgroup": "-0.01568211160255477",
         "marker": {
          "color": "#636efa",
          "symbol": "circle"
         },
         "mode": "markers",
         "name": "-0.01568211160255477",
         "scene": "scene",
         "showlegend": true,
         "type": "scatter3d",
         "x": [
          0.16092816829822298
         ],
         "y": [
          -0.01568211160255477
         ],
         "z": [
          12.788358349159822
         ]
        },
        {
         "hovertemplate": "feature2=%{y}<br>feature1=%{x}<br>output=%{z}<extra></extra>",
         "legendgroup": "0.7471883342046318",
         "marker": {
          "color": "#636efa",
          "symbol": "diamond"
         },
         "mode": "markers",
         "name": "0.7471883342046318",
         "scene": "scene",
         "showlegend": true,
         "type": "scatter3d",
         "x": [
          -1.188944955203736
         ],
         "y": [
          0.7471883342046318
         ],
         "z": [
          -32.84912517193402
         ]
        },
        {
         "hovertemplate": "feature2=%{y}<br>feature1=%{x}<br>output=%{z}<extra></extra>",
         "legendgroup": "0.4631303293186071",
         "marker": {
          "color": "#636efa",
          "symbol": "square"
         },
         "mode": "markers",
         "name": "0.4631303293186071",
         "scene": "scene",
         "showlegend": true,
         "type": "scatter3d",
         "x": [
          0.2790957643924534
         ],
         "y": [
          0.4631303293186071
         ],
         "z": [
          70.04573537018675
         ]
        },
        {
         "hovertemplate": "feature2=%{y}<br>feature1=%{x}<br>output=%{z}<extra></extra>",
         "legendgroup": "-0.20690367616397173",
         "marker": {
          "color": "#636efa",
          "symbol": "x"
         },
         "mode": "markers",
         "name": "-0.20690367616397173",
         "scene": "scene",
         "showlegend": true,
         "type": "scatter3d",
         "x": [
          0.8801789120807822
         ],
         "y": [
          -0.20690367616397173
         ],
         "z": [
          58.119293397240924
         ]
        },
        {
         "hovertemplate": "feature2=%{y}<br>feature1=%{x}<br>output=%{z}<extra></extra>",
         "legendgroup": "-1.1573552591908536",
         "marker": {
          "color": "#636efa",
          "symbol": "cross"
         },
         "mode": "markers",
         "name": "-1.1573552591908536",
         "scene": "scene",
         "showlegend": true,
         "type": "scatter3d",
         "x": [
          -0.3122922511256933
         ],
         "y": [
          -1.1573552591908536
         ],
         "z": [
          -140.77155697640984
         ]
        },
        {
         "hovertemplate": "feature2=%{y}<br>feature1=%{x}<br>output=%{z}<extra></extra>",
         "legendgroup": "0.9295051114795281",
         "marker": {
          "color": "#636efa",
          "symbol": "circle"
         },
         "mode": "markers",
         "name": "0.9295051114795281",
         "scene": "scene",
         "showlegend": true,
         "type": "scatter3d",
         "x": [
          0.5822245913979243
         ],
         "y": [
          0.9295051114795281
         ],
         "z": [
          142.5466492190289
         ]
        },
        {
         "hovertemplate": "feature2=%{y}<br>feature1=%{x}<br>output=%{z}<extra></extra>",
         "legendgroup": "1.15233156478312",
         "marker": {
          "color": "#636efa",
          "symbol": "diamond"
         },
         "mode": "markers",
         "name": "1.15233156478312",
         "scene": "scene",
         "showlegend": true,
         "type": "scatter3d",
         "x": [
          1.079618592036821
         ],
         "y": [
          1.15233156478312
         ],
         "z": [
          208.5573420924209
         ]
        },
        {
         "hovertemplate": "feature2=%{y}<br>feature1=%{x}<br>output=%{z}<extra></extra>",
         "legendgroup": "-0.637437025552229",
         "marker": {
          "color": "#636efa",
          "symbol": "square"
         },
         "mode": "markers",
         "name": "-0.637437025552229",
         "scene": "scene",
         "showlegend": true,
         "type": "scatter3d",
         "x": [
          -0.39727181432879766
         ],
         "y": [
          -0.637437025552229
         ],
         "z": [
          -97.57723234541291
         ]
        },
        {
         "hovertemplate": "feature2=%{y}<br>feature1=%{x}<br>output=%{z}<extra></extra>",
         "legendgroup": "-0.3090129690471222",
         "marker": {
          "color": "#636efa",
          "symbol": "x"
         },
         "mode": "markers",
         "name": "-0.3090129690471222",
         "scene": "scene",
         "showlegend": true,
         "type": "scatter3d",
         "x": [
          -1.6760038063299767
         ],
         "y": [
          -0.3090129690471222
         ],
         "z": [
          -179.29639457748544
         ]
        },
        {
         "hovertemplate": "feature2=%{y}<br>feature1=%{x}<br>output=%{z}<extra></extra>",
         "legendgroup": "0.0386305518401881",
         "marker": {
          "color": "#636efa",
          "symbol": "cross"
         },
         "mode": "markers",
         "name": "0.0386305518401881",
         "scene": "scene",
         "showlegend": true,
         "type": "scatter3d",
         "x": [
          -1.6567151023219537
         ],
         "y": [
          0.0386305518401881
         ],
         "z": [
          -143.64224524838238
         ]
        },
        {
         "hovertemplate": "feature2=%{y}<br>feature1=%{x}<br>output=%{z}<extra></extra>",
         "legendgroup": "-0.1576670161638159",
         "marker": {
          "color": "#636efa",
          "symbol": "circle"
         },
         "mode": "markers",
         "name": "-0.1576670161638159",
         "scene": "scene",
         "showlegend": true,
         "type": "scatter3d",
         "x": [
          2.2567234972982093
         ],
         "y": [
          -0.1576670161638159
         ],
         "z": [
          185.40996647882355
         ]
        },
        {
         "hovertemplate": "feature2=%{y}<br>feature1=%{x}<br>output=%{z}<extra></extra>",
         "legendgroup": "-0.35343174875719907",
         "marker": {
          "color": "#636efa",
          "symbol": "diamond"
         },
         "mode": "markers",
         "name": "-0.35343174875719907",
         "scene": "scene",
         "showlegend": true,
         "type": "scatter3d",
         "x": [
          -1.6164741886510325
         ],
         "y": [
          -0.35343174875719907
         ],
         "z": [
          -178.33576222857806
         ]
        },
        {
         "hovertemplate": "feature2=%{y}<br>feature1=%{x}<br>output=%{z}<extra></extra>",
         "legendgroup": "-1.1561824318219127",
         "marker": {
          "color": "#636efa",
          "symbol": "square"
         },
         "mode": "markers",
         "name": "-1.1561824318219127",
         "scene": "scene",
         "showlegend": true,
         "type": "scatter3d",
         "x": [
          0.7811981017099934
         ],
         "y": [
          -1.1561824318219127
         ],
         "z": [
          -43.35898462501477
         ]
        },
        {
         "hovertemplate": "feature2=%{y}<br>feature1=%{x}<br>output=%{z}<extra></extra>",
         "legendgroup": "-0.19065349358139935",
         "marker": {
          "color": "#636efa",
          "symbol": "x"
         },
         "mode": "markers",
         "name": "-0.19065349358139935",
         "scene": "scene",
         "showlegend": true,
         "type": "scatter3d",
         "x": [
          -0.3948495140334503
         ],
         "y": [
          -0.19065349358139935
         ],
         "z": [
          -53.74554260988586
         ]
        },
        {
         "hovertemplate": "feature2=%{y}<br>feature1=%{x}<br>output=%{z}<extra></extra>",
         "legendgroup": "-2.01640662779976",
         "marker": {
          "color": "#636efa",
          "symbol": "cross"
         },
         "mode": "markers",
         "name": "-2.01640662779976",
         "scene": "scene",
         "showlegend": true,
         "type": "scatter3d",
         "x": [
          -0.5394546333745014
         ],
         "y": [
          -2.01640662779976
         ],
         "z": [
          -244.84712087332866
         ]
        },
        {
         "hovertemplate": "feature2=%{y}<br>feature1=%{x}<br>output=%{z}<extra></extra>",
         "legendgroup": "0.6433144650629279",
         "marker": {
          "color": "#636efa",
          "symbol": "circle"
         },
         "mode": "markers",
         "name": "0.6433144650629279",
         "scene": "scene",
         "showlegend": true,
         "type": "scatter3d",
         "x": [
          -1.5706234086334527
         ],
         "y": [
          0.6433144650629279
         ],
         "z": [
          -76.95106552014215
         ]
        },
        {
         "hovertemplate": "feature2=%{y}<br>feature1=%{x}<br>output=%{z}<extra></extra>",
         "legendgroup": "0.640131526097592",
         "marker": {
          "color": "#636efa",
          "symbol": "diamond"
         },
         "mode": "markers",
         "name": "0.640131526097592",
         "scene": "scene",
         "showlegend": true,
         "type": "scatter3d",
         "x": [
          -1.6169560443108344
         ],
         "y": [
          0.640131526097592
         ],
         "z": [
          -81.3844407216726
         ]
        },
        {
         "hovertemplate": "feature2=%{y}<br>feature1=%{x}<br>output=%{z}<extra></extra>",
         "legendgroup": "-0.0616264020956474",
         "marker": {
          "color": "#636efa",
          "symbol": "square"
         },
         "mode": "markers",
         "name": "-0.0616264020956474",
         "scene": "scene",
         "showlegend": true,
         "type": "scatter3d",
         "x": [
          -0.10730527629117469
         ],
         "y": [
          -0.0616264020956474
         ],
         "z": [
          -15.564082941911852
         ]
        },
        {
         "hovertemplate": "feature2=%{y}<br>feature1=%{x}<br>output=%{z}<extra></extra>",
         "legendgroup": "-0.39522898265435435",
         "marker": {
          "color": "#636efa",
          "symbol": "x"
         },
         "mode": "markers",
         "name": "-0.39522898265435435",
         "scene": "scene",
         "showlegend": true,
         "type": "scatter3d",
         "x": [
          -1.159420516399913
         ],
         "y": [
          -0.39522898265435435
         ],
         "z": [
          -141.74776964533805
         ]
        },
        {
         "hovertemplate": "feature2=%{y}<br>feature1=%{x}<br>output=%{z}<extra></extra>",
         "legendgroup": "-1.188859257784029",
         "marker": {
          "color": "#636efa",
          "symbol": "cross"
         },
         "mode": "markers",
         "name": "-1.188859257784029",
         "scene": "scene",
         "showlegend": true,
         "type": "scatter3d",
         "x": [
          -0.5068163542986875
         ],
         "y": [
          -1.188859257784029
         ],
         "z": [
          -161.15568947212572
         ]
        },
        {
         "hovertemplate": "feature2=%{y}<br>feature1=%{x}<br>output=%{z}<extra></extra>",
         "legendgroup": "-0.9711045704444846",
         "marker": {
          "color": "#636efa",
          "symbol": "circle"
         },
         "mode": "markers",
         "name": "-0.9711045704444846",
         "scene": "scene",
         "showlegend": true,
         "type": "scatter3d",
         "x": [
          0.3148172045158238
         ],
         "y": [
          -0.9711045704444846
         ],
         "z": [
          -66.78948520471056
         ]
        },
        {
         "hovertemplate": "feature2=%{y}<br>feature1=%{x}<br>output=%{z}<extra></extra>",
         "legendgroup": "-0.08593076697161273",
         "marker": {
          "color": "#636efa",
          "symbol": "diamond"
         },
         "mode": "markers",
         "name": "-0.08593076697161273",
         "scene": "scene",
         "showlegend": true,
         "type": "scatter3d",
         "x": [
          0.19429293804577166
         ],
         "y": [
          -0.08593076697161273
         ],
         "z": [
          8.899280376733577
         ]
        },
        {
         "hovertemplate": "feature2=%{y}<br>feature1=%{x}<br>output=%{z}<extra></extra>",
         "legendgroup": "0.04949498165009074",
         "marker": {
          "color": "#636efa",
          "symbol": "square"
         },
         "mode": "markers",
         "name": "0.04949498165009074",
         "scene": "scene",
         "showlegend": true,
         "type": "scatter3d",
         "x": [
          0.49383677628095635
         ],
         "y": [
          0.04949498165009074
         ],
         "z": [
          48.77311021533048
         ]
        },
        {
         "hovertemplate": "feature2=%{y}<br>feature1=%{x}<br>output=%{z}<extra></extra>",
         "legendgroup": "0.9318483741143037",
         "marker": {
          "color": "#636efa",
          "symbol": "x"
         },
         "mode": "markers",
         "name": "0.9318483741143037",
         "scene": "scene",
         "showlegend": true,
         "type": "scatter3d",
         "x": [
          0.339964983801262
         ],
         "y": [
          0.9318483741143037
         ],
         "z": [
          121.21929832580733
         ]
        },
        {
         "hovertemplate": "feature2=%{y}<br>feature1=%{x}<br>output=%{z}<extra></extra>",
         "legendgroup": "0.698457149107336",
         "marker": {
          "color": "#636efa",
          "symbol": "cross"
         },
         "mode": "markers",
         "name": "0.698457149107336",
         "scene": "scene",
         "showlegend": true,
         "type": "scatter3d",
         "x": [
          0.00377088908626934
         ],
         "y": [
          0.698457149107336
         ],
         "z": [
          68.5207106969495
         ]
        },
        {
         "hovertemplate": "feature2=%{y}<br>feature1=%{x}<br>output=%{z}<extra></extra>",
         "legendgroup": "-0.13288057758695562",
         "marker": {
          "color": "#636efa",
          "symbol": "circle"
         },
         "mode": "markers",
         "name": "-0.13288057758695562",
         "scene": "scene",
         "showlegend": true,
         "type": "scatter3d",
         "x": [
          -0.2977908794017283
         ],
         "y": [
          -0.13288057758695562
         ],
         "z": [
          -39.469386545394926
         ]
        },
        {
         "hovertemplate": "feature2=%{y}<br>feature1=%{x}<br>output=%{z}<extra></extra>",
         "legendgroup": "-0.960504381633148",
         "marker": {
          "color": "#636efa",
          "symbol": "diamond"
         },
         "mode": "markers",
         "name": "-0.960504381633148",
         "scene": "scene",
         "showlegend": true,
         "type": "scatter3d",
         "x": [
          -0.7931173627076716
         ],
         "y": [
          -0.960504381633148
         ],
         "z": [
          -164.33798253642237
         ]
        },
        {
         "hovertemplate": "feature2=%{y}<br>feature1=%{x}<br>output=%{z}<extra></extra>",
         "legendgroup": "-0.8133642592042029",
         "marker": {
          "color": "#636efa",
          "symbol": "square"
         },
         "mode": "markers",
         "name": "-0.8133642592042029",
         "scene": "scene",
         "showlegend": true,
         "type": "scatter3d",
         "x": [
          -1.466424327802514
         ],
         "y": [
          -0.8133642592042029
         ],
         "z": [
          -209.884212810734
         ]
        },
        {
         "hovertemplate": "feature2=%{y}<br>feature1=%{x}<br>output=%{z}<extra></extra>",
         "legendgroup": "0.8215857120497958",
         "marker": {
          "color": "#636efa",
          "symbol": "x"
         },
         "mode": "markers",
         "name": "0.8215857120497958",
         "scene": "scene",
         "showlegend": true,
         "type": "scatter3d",
         "x": [
          0.005292646299360854
         ],
         "y": [
          0.8215857120497958
         ],
         "z": [
          80.67624199329723
         ]
        },
        {
         "hovertemplate": "feature2=%{y}<br>feature1=%{x}<br>output=%{z}<extra></extra>",
         "legendgroup": "-0.11054065723247261",
         "marker": {
          "color": "#636efa",
          "symbol": "cross"
         },
         "mode": "markers",
         "name": "-0.11054065723247261",
         "scene": "scene",
         "showlegend": true,
         "type": "scatter3d",
         "x": [
          1.0201727117157997
         ],
         "y": [
          -0.11054065723247261
         ],
         "z": [
          79.98305809181716
         ]
        },
        {
         "hovertemplate": "feature2=%{y}<br>feature1=%{x}<br>output=%{z}<extra></extra>",
         "legendgroup": "2.303916697683942",
         "marker": {
          "color": "#636efa",
          "symbol": "circle"
         },
         "mode": "markers",
         "name": "2.303916697683942",
         "scene": "scene",
         "showlegend": true,
         "type": "scatter3d",
         "x": [
          -1.0600158227215473
         ],
         "y": [
          2.303916697683942
         ],
         "z": [
          130.59472519493067
         ]
        },
        {
         "hovertemplate": "feature2=%{y}<br>feature1=%{x}<br>output=%{z}<extra></extra>",
         "legendgroup": "0.280441705316296",
         "marker": {
          "color": "#636efa",
          "symbol": "diamond"
         },
         "mode": "markers",
         "name": "0.280441705316296",
         "scene": "scene",
         "showlegend": true,
         "type": "scatter3d",
         "x": [
          -0.9931236109295807
         ],
         "y": [
          0.280441705316296
         ],
         "z": [
          -60.990069923890786
         ]
        },
        {
         "hovertemplate": "feature2=%{y}<br>feature1=%{x}<br>output=%{z}<extra></extra>",
         "legendgroup": "-0.35399391125348395",
         "marker": {
          "color": "#636efa",
          "symbol": "square"
         },
         "mode": "markers",
         "name": "-0.35399391125348395",
         "scene": "scene",
         "showlegend": true,
         "type": "scatter3d",
         "x": [
          -1.3749512934180188
         ],
         "y": [
          -0.35399391125348395
         ],
         "z": [
          -156.90008796769888
         ]
        },
        {
         "hovertemplate": "feature2=%{y}<br>feature1=%{x}<br>output=%{z}<extra></extra>",
         "legendgroup": "1.4944845444913688",
         "marker": {
          "color": "#636efa",
          "symbol": "x"
         },
         "mode": "markers",
         "name": "1.4944845444913688",
         "scene": "scene",
         "showlegend": true,
         "type": "scatter3d",
         "x": [
          -2.0699850250135325
         ],
         "y": [
          1.4944845444913688
         ],
         "z": [
          -38.29053782267377
         ]
        },
        {
         "hovertemplate": "feature2=%{y}<br>feature1=%{x}<br>output=%{z}<extra></extra>",
         "legendgroup": "0.4574156062209908",
         "marker": {
          "color": "#636efa",
          "symbol": "cross"
         },
         "mode": "markers",
         "name": "0.4574156062209908",
         "scene": "scene",
         "showlegend": true,
         "type": "scatter3d",
         "x": [
          -0.9646120137337284
         ],
         "y": [
          0.4574156062209908
         ],
         "z": [
          -41.17647970942118
         ]
        },
        {
         "hovertemplate": "feature2=%{y}<br>feature1=%{x}<br>output=%{z}<extra></extra>",
         "legendgroup": "-0.6436184028328905",
         "marker": {
          "color": "#636efa",
          "symbol": "circle"
         },
         "mode": "markers",
         "name": "-0.6436184028328905",
         "scene": "scene",
         "showlegend": true,
         "type": "scatter3d",
         "x": [
          -2.2234031522244266
         ],
         "y": [
          -0.6436184028328905
         ],
         "z": [
          -260.6686822886939
         ]
        },
        {
         "hovertemplate": "feature2=%{y}<br>feature1=%{x}<br>output=%{z}<extra></extra>",
         "legendgroup": "-1.7558905834377194",
         "marker": {
          "color": "#636efa",
          "symbol": "diamond"
         },
         "mode": "markers",
         "name": "-1.7558905834377194",
         "scene": "scene",
         "showlegend": true,
         "type": "scatter3d",
         "x": [
          0.45093446180591484
         ],
         "y": [
          -1.7558905834377194
         ],
         "z": [
          -131.2906826181216
         ]
        },
        {
         "hovertemplate": "feature2=%{y}<br>feature1=%{x}<br>output=%{z}<extra></extra>",
         "legendgroup": "-1.582938397335082",
         "marker": {
          "color": "#636efa",
          "symbol": "square"
         },
         "mode": "markers",
         "name": "-1.582938397335082",
         "scene": "scene",
         "showlegend": true,
         "type": "scatter3d",
         "x": [
          0.6103793791072052
         ],
         "y": [
          -1.582938397335082
         ],
         "z": [
          -100.21933875902081
         ]
        },
        {
         "hovertemplate": "feature2=%{y}<br>feature1=%{x}<br>output=%{z}<extra></extra>",
         "legendgroup": "-0.5028167006425383",
         "marker": {
          "color": "#636efa",
          "symbol": "x"
         },
         "mode": "markers",
         "name": "-0.5028167006425383",
         "scene": "scene",
         "showlegend": true,
         "type": "scatter3d",
         "x": [
          2.4124536795437486
         ],
         "y": [
          -0.5028167006425383
         ],
         "z": [
          165.5723413346307
         ]
        },
        {
         "hovertemplate": "feature2=%{y}<br>feature1=%{x}<br>output=%{z}<extra></extra>",
         "legendgroup": "0.6663830820319143",
         "marker": {
          "color": "#636efa",
          "symbol": "cross"
         },
         "mode": "markers",
         "name": "0.6663830820319143",
         "scene": "scene",
         "showlegend": true,
         "type": "scatter3d",
         "x": [
          -0.4607197873885533
         ],
         "y": [
          0.6663830820319143
         ],
         "z": [
          24.059472215373418
         ]
        },
        {
         "hovertemplate": "feature2=%{y}<br>feature1=%{x}<br>output=%{z}<extra></extra>",
         "legendgroup": "1.738872677454511",
         "marker": {
          "color": "#636efa",
          "symbol": "circle"
         },
         "mode": "markers",
         "name": "1.738872677454511",
         "scene": "scene",
         "showlegend": true,
         "type": "scatter3d",
         "x": [
          0.9943943913154989
         ],
         "y": [
          1.738872677454511
         ],
         "z": [
          258.23379546073056
         ]
        },
        {
         "hovertemplate": "feature2=%{y}<br>feature1=%{x}<br>output=%{z}<extra></extra>",
         "legendgroup": "0.6898181645347884",
         "marker": {
          "color": "#636efa",
          "symbol": "diamond"
         },
         "mode": "markers",
         "name": "0.6898181645347884",
         "scene": "scene",
         "showlegend": true,
         "type": "scatter3d",
         "x": [
          1.3018462295649984
         ],
         "y": [
          0.6898181645347884
         ],
         "z": [
          183.179271206995
         ]
        },
        {
         "hovertemplate": "feature2=%{y}<br>feature1=%{x}<br>output=%{z}<extra></extra>",
         "legendgroup": "-0.38487980918127546",
         "marker": {
          "color": "#636efa",
          "symbol": "square"
         },
         "mode": "markers",
         "name": "-0.38487980918127546",
         "scene": "scene",
         "showlegend": true,
         "type": "scatter3d",
         "x": [
          0.094351589317074
         ],
         "y": [
          -0.38487980918127546
         ],
         "z": [
          -29.1776101418083
         ]
        },
        {
         "hovertemplate": "feature2=%{y}<br>feature1=%{x}<br>output=%{z}<extra></extra>",
         "legendgroup": "0.6915387510701866",
         "marker": {
          "color": "#636efa",
          "symbol": "x"
         },
         "mode": "markers",
         "name": "0.6915387510701866",
         "scene": "scene",
         "showlegend": true,
         "type": "scatter3d",
         "x": [
          0.6947491436560059
         ],
         "y": [
          0.6915387510701866
         ],
         "z": [
          129.32812569136044
         ]
        },
        {
         "hovertemplate": "feature2=%{y}<br>feature1=%{x}<br>output=%{z}<extra></extra>",
         "legendgroup": "-1.3065268517353166",
         "marker": {
          "color": "#636efa",
          "symbol": "cross"
         },
         "mode": "markers",
         "name": "-1.3065268517353166",
         "scene": "scene",
         "showlegend": true,
         "type": "scatter3d",
         "x": [
          1.658130679618188
         ],
         "y": [
          -1.3065268517353166
         ],
         "z": [
          19.992911762645605
         ]
        },
        {
         "hovertemplate": "feature2=%{y}<br>feature1=%{x}<br>output=%{z}<extra></extra>",
         "legendgroup": "-0.3108861716984717",
         "marker": {
          "color": "#636efa",
          "symbol": "circle"
         },
         "mode": "markers",
         "name": "-0.3108861716984717",
         "scene": "scene",
         "showlegend": true,
         "type": "scatter3d",
         "x": [
          0.09740016626878341
         ],
         "y": [
          -0.3108861716984717
         ],
         "z": [
          -21.682900914225435
         ]
        },
        {
         "hovertemplate": "feature2=%{y}<br>feature1=%{x}<br>output=%{z}<extra></extra>",
         "legendgroup": "1.6481349322075596",
         "marker": {
          "color": "#636efa",
          "symbol": "diamond"
         },
         "mode": "markers",
         "name": "1.6481349322075596",
         "scene": "scene",
         "showlegend": true,
         "type": "scatter3d",
         "x": [
          0.16422775548733395
         ],
         "y": [
          1.6481349322075596
         ],
         "z": [
          175.50804327006605
         ]
        },
        {
         "hovertemplate": "feature2=%{y}<br>feature1=%{x}<br>output=%{z}<extra></extra>",
         "legendgroup": "-0.017020413861440594",
         "marker": {
          "color": "#636efa",
          "symbol": "square"
         },
         "mode": "markers",
         "name": "-0.017020413861440594",
         "scene": "scene",
         "showlegend": true,
         "type": "scatter3d",
         "x": [
          0.3791517355550818
         ],
         "y": [
          -0.017020413861440594
         ],
         "z": [
          32.07510443130853
         ]
        },
        {
         "hovertemplate": "feature2=%{y}<br>feature1=%{x}<br>output=%{z}<extra></extra>",
         "legendgroup": "0.27992459904323824",
         "marker": {
          "color": "#636efa",
          "symbol": "x"
         },
         "mode": "markers",
         "name": "0.27992459904323824",
         "scene": "scene",
         "showlegend": true,
         "type": "scatter3d",
         "x": [
          -0.09815038964295794
         ],
         "y": [
          0.27992459904323824
         ],
         "z": [
          18.593598333606778
         ]
        },
        {
         "hovertemplate": "feature2=%{y}<br>feature1=%{x}<br>output=%{z}<extra></extra>",
         "legendgroup": "-0.11816404512856976",
         "marker": {
          "color": "#636efa",
          "symbol": "cross"
         },
         "mode": "markers",
         "name": "-0.11816404512856976",
         "scene": "scene",
         "showlegend": true,
         "type": "scatter3d",
         "x": [
          -0.6801782039968504
         ],
         "y": [
          -0.11816404512856976
         ],
         "z": [
          -72.05730245209432
         ]
        },
        {
         "hovertemplate": "feature2=%{y}<br>feature1=%{x}<br>output=%{z}<extra></extra>",
         "legendgroup": "1.068509399316009",
         "marker": {
          "color": "#636efa",
          "symbol": "circle"
         },
         "mode": "markers",
         "name": "1.068509399316009",
         "scene": "scene",
         "showlegend": true,
         "type": "scatter3d",
         "x": [
          -0.45338580385138766
         ],
         "y": [
          1.068509399316009
         ],
         "z": [
          63.968648506448694
         ]
        },
        {
         "hovertemplate": "feature2=%{y}<br>feature1=%{x}<br>output=%{z}<extra></extra>",
         "legendgroup": "0.6937731526901325",
         "marker": {
          "color": "#636efa",
          "symbol": "diamond"
         },
         "mode": "markers",
         "name": "0.6937731526901325",
         "scene": "scene",
         "showlegend": true,
         "type": "scatter3d",
         "x": [
          -0.1595734381462669
         ],
         "y": [
          0.6937731526901325
         ],
         "z": [
          53.52917232716199
         ]
        },
        {
         "hovertemplate": "feature2=%{y}<br>feature1=%{x}<br>output=%{z}<extra></extra>",
         "legendgroup": "-0.5175190425104033",
         "marker": {
          "color": "#636efa",
          "symbol": "square"
         },
         "mode": "markers",
         "name": "-0.5175190425104033",
         "scene": "scene",
         "showlegend": true,
         "type": "scatter3d",
         "x": [
          -0.9788298593587699
         ],
         "y": [
          -0.5175190425104033
         ],
         "z": [
          -137.61719702216178
         ]
        },
        {
         "hovertemplate": "feature2=%{y}<br>feature1=%{x}<br>output=%{z}<extra></extra>",
         "legendgroup": "-0.130106954193704",
         "marker": {
          "color": "#636efa",
          "symbol": "x"
         },
         "mode": "markers",
         "name": "-0.130106954193704",
         "scene": "scene",
         "showlegend": true,
         "type": "scatter3d",
         "x": [
          0.09395322938556872
         ],
         "y": [
          -0.130106954193704
         ],
         "z": [
          -4.341476016785268
         ]
        },
        {
         "hovertemplate": "feature2=%{y}<br>feature1=%{x}<br>output=%{z}<extra></extra>",
         "legendgroup": "-1.0452533661469547",
         "marker": {
          "color": "#636efa",
          "symbol": "cross"
         },
         "mode": "markers",
         "name": "-1.0452533661469547",
         "scene": "scene",
         "showlegend": true,
         "type": "scatter3d",
         "x": [
          1.2111452896827009
         ],
         "y": [
          -1.0452533661469547
         ],
         "z": [
          5.726623494941393
         ]
        },
        {
         "hovertemplate": "feature2=%{y}<br>feature1=%{x}<br>output=%{z}<extra></extra>",
         "legendgroup": "0.1993001968964652",
         "marker": {
          "color": "#636efa",
          "symbol": "circle"
         },
         "mode": "markers",
         "name": "0.1993001968964652",
         "scene": "scene",
         "showlegend": true,
         "type": "scatter3d",
         "x": [
          -0.050603540961665895
         ],
         "y": [
          0.1993001968964652
         ],
         "z": [
          14.95352572003563
         ]
        },
        {
         "hovertemplate": "feature2=%{y}<br>feature1=%{x}<br>output=%{z}<extra></extra>",
         "legendgroup": "-0.2918373627478628",
         "marker": {
          "color": "#636efa",
          "symbol": "diamond"
         },
         "mode": "markers",
         "name": "-0.2918373627478628",
         "scene": "scene",
         "showlegend": true,
         "type": "scatter3d",
         "x": [
          -0.7614922118116233
         ],
         "y": [
          -0.2918373627478628
         ],
         "z": [
          -96.24700625718116
         ]
        },
        {
         "hovertemplate": "feature2=%{y}<br>feature1=%{x}<br>output=%{z}<extra></extra>",
         "legendgroup": "-1.3342584714027534",
         "marker": {
          "color": "#636efa",
          "symbol": "square"
         },
         "mode": "markers",
         "name": "-1.3342584714027534",
         "scene": "scene",
         "showlegend": true,
         "type": "scatter3d",
         "x": [
          -1.3467175057975553
         ],
         "y": [
          -1.3342584714027534
         ],
         "z": [
          -250.08380551468576
         ]
        },
        {
         "hovertemplate": "feature2=%{y}<br>feature1=%{x}<br>output=%{z}<extra></extra>",
         "legendgroup": "0.0977249677148556",
         "marker": {
          "color": "#636efa",
          "symbol": "x"
         },
         "mode": "markers",
         "name": "0.0977249677148556",
         "scene": "scene",
         "showlegend": true,
         "type": "scatter3d",
         "x": [
          0.5829536797532936
         ],
         "y": [
          0.0977249677148556
         ],
         "z": [
          61.41101076895036
         ]
        },
        {
         "hovertemplate": "feature2=%{y}<br>feature1=%{x}<br>output=%{z}<extra></extra>",
         "legendgroup": "0.9430460873225178",
         "marker": {
          "color": "#636efa",
          "symbol": "cross"
         },
         "mode": "markers",
         "name": "0.9430460873225178",
         "scene": "scene",
         "showlegend": true,
         "type": "scatter3d",
         "x": [
          -2.7396771671895563
         ],
         "y": [
          0.9430460873225178
         ],
         "z": [
          -151.7121571810001
         ]
        },
        {
         "hovertemplate": "feature2=%{y}<br>feature1=%{x}<br>output=%{z}<extra></extra>",
         "legendgroup": "0.7732529774025997",
         "marker": {
          "color": "#636efa",
          "symbol": "circle"
         },
         "mode": "markers",
         "name": "0.7732529774025997",
         "scene": "scene",
         "showlegend": true,
         "type": "scatter3d",
         "x": [
          -1.1838806401933177
         ],
         "y": [
          0.7732529774025997
         ],
         "z": [
          -29.854008275020462
         ]
        },
        {
         "hovertemplate": "feature2=%{y}<br>feature1=%{x}<br>output=%{z}<extra></extra>",
         "legendgroup": "1.1285940645145685",
         "marker": {
          "color": "#636efa",
          "symbol": "diamond"
         },
         "mode": "markers",
         "name": "1.1285940645145685",
         "scene": "scene",
         "showlegend": true,
         "type": "scatter3d",
         "x": [
          0.4960009463439622
         ],
         "y": [
          1.1285940645145685
         ],
         "z": [
          154.31009850486203
         ]
        },
        {
         "hovertemplate": "feature2=%{y}<br>feature1=%{x}<br>output=%{z}<extra></extra>",
         "legendgroup": "0.8579239242923363",
         "marker": {
          "color": "#636efa",
          "symbol": "square"
         },
         "mode": "markers",
         "name": "0.8579239242923363",
         "scene": "scene",
         "showlegend": true,
         "type": "scatter3d",
         "x": [
          1.1411018666575734
         ],
         "y": [
          0.8579239242923363
         ],
         "z": [
          185.28725544952644
         ]
        },
        {
         "hovertemplate": "feature2=%{y}<br>feature1=%{x}<br>output=%{z}<extra></extra>",
         "legendgroup": "-0.18505367100934153",
         "marker": {
          "color": "#636efa",
          "symbol": "x"
         },
         "mode": "markers",
         "name": "-0.18505367100934153",
         "scene": "scene",
         "showlegend": true,
         "type": "scatter3d",
         "x": [
          -0.8076484876163557
         ],
         "y": [
          -0.18505367100934153
         ],
         "z": [
          -89.92946436745271
         ]
        },
        {
         "hovertemplate": "feature2=%{y}<br>feature1=%{x}<br>output=%{z}<extra></extra>",
         "legendgroup": "-0.7047002758562337",
         "marker": {
          "color": "#636efa",
          "symbol": "cross"
         },
         "mode": "markers",
         "name": "-0.7047002758562337",
         "scene": "scene",
         "showlegend": true,
         "type": "scatter3d",
         "x": [
          0.9432607249694948
         ],
         "y": [
          -0.7047002758562337
         ],
         "z": [
          15.136091511823608
         ]
        },
        {
         "hovertemplate": "feature2=%{y}<br>feature1=%{x}<br>output=%{z}<extra></extra>",
         "legendgroup": "-1.1268258087567435",
         "marker": {
          "color": "#636efa",
          "symbol": "circle"
         },
         "mode": "markers",
         "name": "-1.1268258087567435",
         "scene": "scene",
         "showlegend": true,
         "type": "scatter3d",
         "x": [
          -0.7306777528648248
         ],
         "y": [
          -1.1268258087567435
         ],
         "z": [
          -175.01887021554427
         ]
        },
        {
         "hovertemplate": "feature2=%{y}<br>feature1=%{x}<br>output=%{z}<extra></extra>",
         "legendgroup": "-2.2886200400145285",
         "marker": {
          "color": "#636efa",
          "symbol": "diamond"
         },
         "mode": "markers",
         "name": "-2.2886200400145285",
         "scene": "scene",
         "showlegend": true,
         "type": "scatter3d",
         "x": [
          0.251484415021537
         ],
         "y": [
          -2.2886200400145285
         ],
         "z": [
          -201.04403797758098
         ]
        },
        {
         "hovertemplate": "feature2=%{y}<br>feature1=%{x}<br>output=%{z}<extra></extra>",
         "legendgroup": "0.5232766605317537",
         "marker": {
          "color": "#636efa",
          "symbol": "square"
         },
         "mode": "markers",
         "name": "0.5232766605317537",
         "scene": "scene",
         "showlegend": true,
         "type": "scatter3d",
         "x": [
          -0.1715463312222481
         ],
         "y": [
          0.5232766605317537
         ],
         "z": [
          35.819526778944876
         ]
        },
        {
         "hovertemplate": "feature2=%{y}<br>feature1=%{x}<br>output=%{z}<extra></extra>",
         "legendgroup": "0.28634368889227957",
         "marker": {
          "color": "#636efa",
          "symbol": "x"
         },
         "mode": "markers",
         "name": "0.28634368889227957",
         "scene": "scene",
         "showlegend": true,
         "type": "scatter3d",
         "x": [
          0.6088438344754508
         ],
         "y": [
          0.28634368889227957
         ],
         "z": [
          82.12814393469144
         ]
        },
        {
         "hovertemplate": "feature2=%{y}<br>feature1=%{x}<br>output=%{z}<extra></extra>",
         "legendgroup": "-1.4465346995633879",
         "marker": {
          "color": "#636efa",
          "symbol": "cross"
         },
         "mode": "markers",
         "name": "-1.4465346995633879",
         "scene": "scene",
         "showlegend": true,
         "type": "scatter3d",
         "x": [
          0.8002979493400275
         ],
         "y": [
          -1.4465346995633879
         ],
         "z": [
          -70.00442582011097
         ]
        },
        {
         "hovertemplate": "feature2=%{y}<br>feature1=%{x}<br>output=%{z}<extra></extra>",
         "legendgroup": "0.9101789080925919",
         "marker": {
          "color": "#636efa",
          "symbol": "circle"
         },
         "mode": "markers",
         "name": "0.9101789080925919",
         "scene": "scene",
         "showlegend": true,
         "type": "scatter3d",
         "x": [
          0.31721821519130206
         ],
         "y": [
          0.9101789080925919
         ],
         "z": [
          117.0798764000561
         ]
        },
        {
         "hovertemplate": "feature2=%{y}<br>feature1=%{x}<br>output=%{z}<extra></extra>",
         "legendgroup": "0.2745163577239395",
         "marker": {
          "color": "#636efa",
          "symbol": "diamond"
         },
         "mode": "markers",
         "name": "0.2745163577239395",
         "scene": "scene",
         "showlegend": true,
         "type": "scatter3d",
         "x": [
          -0.8909150829955279
         ],
         "y": [
          0.2745163577239395
         ],
         "z": [
          -52.47406758330938
         ]
        },
        {
         "hovertemplate": "feature2=%{y}<br>feature1=%{x}<br>output=%{z}<extra></extra>",
         "legendgroup": "-2.0946030712061448",
         "marker": {
          "color": "#636efa",
          "symbol": "square"
         },
         "mode": "markers",
         "name": "-2.0946030712061448",
         "scene": "scene",
         "showlegend": true,
         "type": "scatter3d",
         "x": [
          0.12372191423350658
         ],
         "y": [
          -2.0946030712061448
         ],
         "z": [
          -193.47182984123543
         ]
        },
        {
         "hovertemplate": "feature2=%{y}<br>feature1=%{x}<br>output=%{z}<extra></extra>",
         "legendgroup": "0.5672902778526694",
         "marker": {
          "color": "#636efa",
          "symbol": "x"
         },
         "mode": "markers",
         "name": "0.5672902778526694",
         "scene": "scene",
         "showlegend": true,
         "type": "scatter3d",
         "x": [
          -0.2226751005151545
         ],
         "y": [
          0.5672902778526694
         ],
         "z": [
          35.56684359808665
         ]
        },
        {
         "hovertemplate": "feature2=%{y}<br>feature1=%{x}<br>output=%{z}<extra></extra>",
         "legendgroup": "0.42625873077810095",
         "marker": {
          "color": "#636efa",
          "symbol": "cross"
         },
         "mode": "markers",
         "name": "0.42625873077810095",
         "scene": "scene",
         "showlegend": true,
         "type": "scatter3d",
         "x": [
          0.6769080350302455
         ],
         "y": [
          0.42625873077810095
         ],
         "z": [
          101.84331878237629
         ]
        },
        {
         "hovertemplate": "feature2=%{y}<br>feature1=%{x}<br>output=%{z}<extra></extra>",
         "legendgroup": "1.9559123082506942",
         "marker": {
          "color": "#636efa",
          "symbol": "circle"
         },
         "mode": "markers",
         "name": "1.9559123082506942",
         "scene": "scene",
         "showlegend": true,
         "type": "scatter3d",
         "x": [
          0.39009332268792646
         ],
         "y": [
          1.9559123082506942
         ],
         "z": [
          225.65143547290063
         ]
        },
        {
         "hovertemplate": "feature2=%{y}<br>feature1=%{x}<br>output=%{z}<extra></extra>",
         "legendgroup": "-0.9855107376841507",
         "marker": {
          "color": "#636efa",
          "symbol": "diamond"
         },
         "mode": "markers",
         "name": "-0.9855107376841507",
         "scene": "scene",
         "showlegend": true,
         "type": "scatter3d",
         "x": [
          -1.4718350074635869
         ],
         "y": [
          -0.9855107376841507
         ],
         "z": [
          -227.17103267121473
         ]
        },
        {
         "hovertemplate": "feature2=%{y}<br>feature1=%{x}<br>output=%{z}<extra></extra>",
         "legendgroup": "0.1565065379653756",
         "marker": {
          "color": "#636efa",
          "symbol": "square"
         },
         "mode": "markers",
         "name": "0.1565065379653756",
         "scene": "scene",
         "showlegend": true,
         "type": "scatter3d",
         "x": [
          0.23218103620027578
         ],
         "y": [
          0.1565065379653756
         ],
         "z": [
          35.93789120180669
         ]
        },
        {
         "hovertemplate": "feature2=%{y}<br>feature1=%{x}<br>output=%{z}<extra></extra>",
         "legendgroup": "0.7863279621089762",
         "marker": {
          "color": "#636efa",
          "symbol": "x"
         },
         "mode": "markers",
         "name": "0.7863279621089762",
         "scene": "scene",
         "showlegend": true,
         "type": "scatter3d",
         "x": [
          -0.46641909673594306
         ],
         "y": [
          0.7863279621089762
         ],
         "z": [
          35.261678298142456
         ]
        },
        {
         "hovertemplate": "feature2=%{y}<br>feature1=%{x}<br>output=%{z}<extra></extra>",
         "legendgroup": "-0.6920498477843912",
         "marker": {
          "color": "#636efa",
          "symbol": "cross"
         },
         "mode": "markers",
         "name": "-0.6920498477843912",
         "scene": "scene",
         "showlegend": true,
         "type": "scatter3d",
         "x": [
          1.5363770542457977
         ],
         "y": [
          -0.6920498477843912
         ],
         "z": [
          69.14617349799641
         ]
        },
        {
         "hovertemplate": "feature2=%{y}<br>feature1=%{x}<br>output=%{z}<extra></extra>",
         "legendgroup": "-0.3091144447717088",
         "marker": {
          "color": "#636efa",
          "symbol": "circle"
         },
         "mode": "markers",
         "name": "-0.3091144447717088",
         "scene": "scene",
         "showlegend": true,
         "type": "scatter3d",
         "x": [
          -0.23346666154369272
         ],
         "y": [
          -0.3091144447717088
         ],
         "z": [
          -50.95026083635163
         ]
        },
        {
         "hovertemplate": "feature2=%{y}<br>feature1=%{x}<br>output=%{z}<extra></extra>",
         "legendgroup": "-0.0392828182274956",
         "marker": {
          "color": "#636efa",
          "symbol": "diamond"
         },
         "mode": "markers",
         "name": "-0.0392828182274956",
         "scene": "scene",
         "showlegend": true,
         "type": "scatter3d",
         "x": [
          -1.1680934977411974
         ],
         "y": [
          -0.0392828182274956
         ],
         "z": [
          -107.7711079711873
         ]
        },
        {
         "hovertemplate": "feature2=%{y}<br>feature1=%{x}<br>output=%{z}<extra></extra>",
         "legendgroup": "0.3990463456401302",
         "marker": {
          "color": "#636efa",
          "symbol": "square"
         },
         "mode": "markers",
         "name": "0.3990463456401302",
         "scene": "scene",
         "showlegend": true,
         "type": "scatter3d",
         "x": [
          -2.77259275642665
         ],
         "y": [
          0.3990463456401302
         ],
         "z": [
          -207.74761630539297
         ]
        },
        {
         "hovertemplate": "feature2=%{y}<br>feature1=%{x}<br>output=%{z}<extra></extra>",
         "legendgroup": "-1.4240609089825316",
         "marker": {
          "color": "#636efa",
          "symbol": "x"
         },
         "mode": "markers",
         "name": "-1.4240609089825316",
         "scene": "scene",
         "showlegend": true,
         "type": "scatter3d",
         "x": [
          -0.49331988336219407
         ],
         "y": [
          -1.4240609089825316
         ],
         "z": [
          -182.9157708484256
         ]
        },
        {
         "hovertemplate": "feature2=%{y}<br>feature1=%{x}<br>output=%{z}<extra></extra>",
         "legendgroup": "1.3645318481024713",
         "marker": {
          "color": "#636efa",
          "symbol": "cross"
         },
         "mode": "markers",
         "name": "1.3645318481024713",
         "scene": "scene",
         "showlegend": true,
         "type": "scatter3d",
         "x": [
          -0.6894491845499376
         ],
         "y": [
          1.3645318481024713
         ],
         "z": [
          71.8623497863617
         ]
        },
        {
         "hovertemplate": "feature2=%{y}<br>feature1=%{x}<br>output=%{z}<extra></extra>",
         "legendgroup": "2.259308950690852",
         "marker": {
          "color": "#636efa",
          "symbol": "circle"
         },
         "mode": "markers",
         "name": "2.259308950690852",
         "scene": "scene",
         "showlegend": true,
         "type": "scatter3d",
         "x": [
          -0.04225715166064269
         ],
         "y": [
          2.259308950690852
         ],
         "z": [
          216.7995233848234
         ]
        },
        {
         "hovertemplate": "feature2=%{y}<br>feature1=%{x}<br>output=%{z}<extra></extra>",
         "legendgroup": "-0.27567053456055696",
         "marker": {
          "color": "#636efa",
          "symbol": "diamond"
         },
         "mode": "markers",
         "name": "-0.27567053456055696",
         "scene": "scene",
         "showlegend": true,
         "type": "scatter3d",
         "x": [
          -0.7097279658468882
         ],
         "y": [
          -0.27567053456055696
         ],
         "z": [
          -90.06280923086071
         ]
        },
        {
         "hovertemplate": "feature2=%{y}<br>feature1=%{x}<br>output=%{z}<extra></extra>",
         "legendgroup": "-0.042171451290578935",
         "marker": {
          "color": "#636efa",
          "symbol": "square"
         },
         "mode": "markers",
         "name": "-0.042171451290578935",
         "scene": "scene",
         "showlegend": true,
         "type": "scatter3d",
         "x": [
          -0.2868871923899076
         ],
         "y": [
          -0.042171451290578935
         ],
         "z": [
          -29.64392569189669
         ]
        },
        {
         "hovertemplate": "feature2=%{y}<br>feature1=%{x}<br>output=%{z}<extra></extra>",
         "legendgroup": "-0.6280875596415789",
         "marker": {
          "color": "#636efa",
          "symbol": "x"
         },
         "mode": "markers",
         "name": "-0.6280875596415789",
         "scene": "scene",
         "showlegend": true,
         "type": "scatter3d",
         "x": [
          -0.4810271184607877
         ],
         "y": [
          -0.6280875596415789
         ],
         "z": [
          -104.11700732028774
         ]
        },
        {
         "hovertemplate": "feature2=%{y}<br>feature1=%{x}<br>output=%{z}<extra></extra>",
         "legendgroup": "-0.764143923906443",
         "marker": {
          "color": "#636efa",
          "symbol": "cross"
         },
         "mode": "markers",
         "name": "-0.764143923906443",
         "scene": "scene",
         "showlegend": true,
         "type": "scatter3d",
         "x": [
          -1.4377914738015785
         ],
         "y": [
          -0.764143923906443
         ],
         "z": [
          -202.53146417699014
         ]
        },
        {
         "hovertemplate": "feature2=%{y}<br>feature1=%{x}<br>output=%{z}<extra></extra>",
         "legendgroup": "1.3191368763015756",
         "marker": {
          "color": "#636efa",
          "symbol": "circle"
         },
         "mode": "markers",
         "name": "1.3191368763015756",
         "scene": "scene",
         "showlegend": true,
         "type": "scatter3d",
         "x": [
          -0.8824188185499185
         ],
         "y": [
          1.3191368763015756
         ],
         "z": [
          50.26046051800198
         ]
        },
        {
         "hovertemplate": "feature2=%{y}<br>feature1=%{x}<br>output=%{z}<extra></extra>",
         "legendgroup": "-0.9444462559182504",
         "marker": {
          "color": "#636efa",
          "symbol": "diamond"
         },
         "mode": "markers",
         "name": "-0.9444462559182504",
         "scene": "scene",
         "showlegend": true,
         "type": "scatter3d",
         "x": [
          -0.41004969320254847
         ],
         "y": [
          -0.9444462559182504
         ],
         "z": [
          -128.68522886193378
         ]
        },
        {
         "hovertemplate": "feature2=%{y}<br>feature1=%{x}<br>output=%{z}<extra></extra>",
         "legendgroup": "-0.13594970067832082",
         "marker": {
          "color": "#636efa",
          "symbol": "square"
         },
         "mode": "markers",
         "name": "-0.13594970067832082",
         "scene": "scene",
         "showlegend": true,
         "type": "scatter3d",
         "x": [
          1.1368913626026953
         ],
         "y": [
          -0.13594970067832082
         ],
         "z": [
          87.88811357705629
         ]
        },
        {
         "hovertemplate": "feature2=%{y}<br>feature1=%{x}<br>output=%{z}<extra></extra>",
         "legendgroup": "-1.936279805846507",
         "marker": {
          "color": "#636efa",
          "symbol": "x"
         },
         "mode": "markers",
         "name": "-1.936279805846507",
         "scene": "scene",
         "showlegend": true,
         "type": "scatter3d",
         "x": [
          0.18877859679382855
         ],
         "y": [
          -1.936279805846507
         ],
         "z": [
          -172.2272040194901
         ]
        },
        {
         "hovertemplate": "feature2=%{y}<br>feature1=%{x}<br>output=%{z}<extra></extra>",
         "legendgroup": "-0.955945000492777",
         "marker": {
          "color": "#636efa",
          "symbol": "cross"
         },
         "mode": "markers",
         "name": "-0.955945000492777",
         "scene": "scene",
         "showlegend": true,
         "type": "scatter3d",
         "x": [
          -0.34598177569938643
         ],
         "y": [
          -0.955945000492777
         ],
         "z": [
          -124.10704315945013
         ]
        },
        {
         "hovertemplate": "feature2=%{y}<br>feature1=%{x}<br>output=%{z}<extra></extra>",
         "legendgroup": "-0.4635959746460942",
         "marker": {
          "color": "#636efa",
          "symbol": "circle"
         },
         "mode": "markers",
         "name": "-0.4635959746460942",
         "scene": "scene",
         "showlegend": true,
         "type": "scatter3d",
         "x": [
          0.4814814737734622
         ],
         "y": [
          -0.4635959746460942
         ],
         "z": [
          -2.415512686372722
         ]
        },
        {
         "hovertemplate": "feature2=%{y}<br>feature1=%{x}<br>output=%{z}<extra></extra>",
         "legendgroup": "-0.65240858238702",
         "marker": {
          "color": "#636efa",
          "symbol": "diamond"
         },
         "mode": "markers",
         "name": "-0.65240858238702",
         "scene": "scene",
         "showlegend": true,
         "type": "scatter3d",
         "x": [
          -0.3909533751876011
         ],
         "y": [
          -0.65240858238702
         ],
         "z": [
          -98.47658343916356
         ]
        },
        {
         "hovertemplate": "feature2=%{y}<br>feature1=%{x}<br>output=%{z}<extra></extra>",
         "legendgroup": "-0.7196043885517929",
         "marker": {
          "color": "#636efa",
          "symbol": "square"
         },
         "mode": "markers",
         "name": "-0.7196043885517929",
         "scene": "scene",
         "showlegend": true,
         "type": "scatter3d",
         "x": [
          -0.8129929885540773
         ],
         "y": [
          -0.7196043885517929
         ],
         "z": [
          -142.58922755883742
         ]
        },
        {
         "hovertemplate": "feature2=%{y}<br>feature1=%{x}<br>output=%{z}<extra></extra>",
         "legendgroup": "0.33890412521594454",
         "marker": {
          "color": "#636efa",
          "symbol": "x"
         },
         "mode": "markers",
         "name": "0.33890412521594454",
         "scene": "scene",
         "showlegend": true,
         "type": "scatter3d",
         "x": [
          2.0210435614847975
         ],
         "y": [
          0.33890412521594454
         ],
         "z": [
          212.91586448954467
         ]
        },
        {
         "hovertemplate": "feature2=%{y}<br>feature1=%{x}<br>output=%{z}<extra></extra>",
         "legendgroup": "-0.6878376110286823",
         "marker": {
          "color": "#636efa",
          "symbol": "cross"
         },
         "mode": "markers",
         "name": "-0.6878376110286823",
         "scene": "scene",
         "showlegend": true,
         "type": "scatter3d",
         "x": [
          -1.2140774030941206
         ],
         "y": [
          -0.6878376110286823
         ],
         "z": [
          -175.17630998819897
         ]
        },
        {
         "hovertemplate": "feature2=%{y}<br>feature1=%{x}<br>output=%{z}<extra></extra>",
         "legendgroup": "-0.024326124398935636",
         "marker": {
          "color": "#636efa",
          "symbol": "circle"
         },
         "mode": "markers",
         "name": "-0.024326124398935636",
         "scene": "scene",
         "showlegend": true,
         "type": "scatter3d",
         "x": [
          -0.7380309092056887
         ],
         "y": [
          -0.024326124398935636
         ],
         "z": [
          -68.04430082025672
         ]
        },
        {
         "hovertemplate": "feature2=%{y}<br>feature1=%{x}<br>output=%{z}<extra></extra>",
         "legendgroup": "-0.46886418796679563",
         "marker": {
          "color": "#636efa",
          "symbol": "diamond"
         },
         "mode": "markers",
         "name": "-0.46886418796679563",
         "scene": "scene",
         "showlegend": true,
         "type": "scatter3d",
         "x": [
          -2.201441285500558
         ],
         "y": [
          -0.46886418796679563
         ],
         "z": [
          -241.65457438433333
         ]
        },
        {
         "hovertemplate": "feature2=%{y}<br>feature1=%{x}<br>output=%{z}<extra></extra>",
         "legendgroup": "-2.659172237996741",
         "marker": {
          "color": "#636efa",
          "symbol": "square"
         },
         "mode": "markers",
         "name": "-2.659172237996741",
         "scene": "scene",
         "showlegend": true,
         "type": "scatter3d",
         "x": [
          0.6063195243593807
         ],
         "y": [
          -2.659172237996741
         ],
         "z": [
          -205.64529157222933
         ]
        },
        {
         "hovertemplate": "feature2=%{y}<br>feature1=%{x}<br>output=%{z}<extra></extra>",
         "legendgroup": "-1.1043833394284506",
         "marker": {
          "color": "#636efa",
          "symbol": "x"
         },
         "mode": "markers",
         "name": "-1.1043833394284506",
         "scene": "scene",
         "showlegend": true,
         "type": "scatter3d",
         "x": [
          0.052165079260974405
         ],
         "y": [
          -1.1043833394284506
         ],
         "z": [
          -103.17112016264906
         ]
        },
        {
         "hovertemplate": "feature2=%{y}<br>feature1=%{x}<br>output=%{z}<extra></extra>",
         "legendgroup": "-0.3646935443916854",
         "marker": {
          "color": "#636efa",
          "symbol": "cross"
         },
         "mode": "markers",
         "name": "-0.3646935443916854",
         "scene": "scene",
         "showlegend": true,
         "type": "scatter3d",
         "x": [
          0.15670385527236397
         ],
         "y": [
          -0.3646935443916854
         ],
         "z": [
          -21.658910096918873
         ]
        },
        {
         "hovertemplate": "feature2=%{y}<br>feature1=%{x}<br>output=%{z}<extra></extra>",
         "legendgroup": "0.8005648034309968",
         "marker": {
          "color": "#636efa",
          "symbol": "circle"
         },
         "mode": "markers",
         "name": "0.8005648034309968",
         "scene": "scene",
         "showlegend": true,
         "type": "scatter3d",
         "x": [
          0.07826017516166135
         ],
         "y": [
          0.8005648034309968
         ],
         "z": [
          85.11673137783649
         ]
        },
        {
         "hovertemplate": "feature2=%{y}<br>feature1=%{x}<br>output=%{z}<extra></extra>",
         "legendgroup": "-0.26773353689396645",
         "marker": {
          "color": "#636efa",
          "symbol": "diamond"
         },
         "mode": "markers",
         "name": "-0.26773353689396645",
         "scene": "scene",
         "showlegend": true,
         "type": "scatter3d",
         "x": [
          -1.1280113314700069
         ],
         "y": [
          -0.26773353689396645
         ],
         "z": [
          -126.50656768238498
         ]
        },
        {
         "hovertemplate": "feature2=%{y}<br>feature1=%{x}<br>output=%{z}<extra></extra>",
         "legendgroup": "-0.5973160689653627",
         "marker": {
          "color": "#636efa",
          "symbol": "square"
         },
         "mode": "markers",
         "name": "-0.5973160689653627",
         "scene": "scene",
         "showlegend": true,
         "type": "scatter3d",
         "x": [
          -0.237921729736007
         ],
         "y": [
          -0.5973160689653627
         ],
         "z": [
          -79.48165215669881
         ]
        },
        {
         "hovertemplate": "feature2=%{y}<br>feature1=%{x}<br>output=%{z}<extra></extra>",
         "legendgroup": "0.8145198224878664",
         "marker": {
          "color": "#636efa",
          "symbol": "x"
         },
         "mode": "markers",
         "name": "0.8145198224878664",
         "scene": "scene",
         "showlegend": true,
         "type": "scatter3d",
         "x": [
          0.05892558918162996
         ],
         "y": [
          0.8145198224878664
         ],
         "z": [
          84.75867695606354
         ]
        },
        {
         "hovertemplate": "feature2=%{y}<br>feature1=%{x}<br>output=%{z}<extra></extra>",
         "legendgroup": "-0.7395629963913133",
         "marker": {
          "color": "#636efa",
          "symbol": "cross"
         },
         "mode": "markers",
         "name": "-0.7395629963913133",
         "scene": "scene",
         "showlegend": true,
         "type": "scatter3d",
         "x": [
          1.5430145954067358
         ],
         "y": [
          -0.7395629963913133
         ],
         "z": [
          65.09842219777906
         ]
        },
        {
         "hovertemplate": "feature2=%{y}<br>feature1=%{x}<br>output=%{z}<extra></extra>",
         "legendgroup": "2.16323594928069",
         "marker": {
          "color": "#636efa",
          "symbol": "circle"
         },
         "mode": "markers",
         "name": "2.16323594928069",
         "scene": "scene",
         "showlegend": true,
         "type": "scatter3d",
         "x": [
          1.336527949436392
         ],
         "y": [
          2.16323594928069
         ],
         "z": [
          330.1040540864363
         ]
        },
        {
         "hovertemplate": "feature2=%{y}<br>feature1=%{x}<br>output=%{z}<extra></extra>",
         "legendgroup": "0.5785214977288784",
         "marker": {
          "color": "#636efa",
          "symbol": "diamond"
         },
         "mode": "markers",
         "name": "0.5785214977288784",
         "scene": "scene",
         "showlegend": true,
         "type": "scatter3d",
         "x": [
          0.349654456993174
         ],
         "y": [
          0.5785214977288784
         ],
         "z": [
          87.58878507231081
         ]
        },
        {
         "hovertemplate": "feature2=%{y}<br>feature1=%{x}<br>output=%{z}<extra></extra>",
         "legendgroup": "-0.6840108977372166",
         "marker": {
          "color": "#636efa",
          "symbol": "square"
         },
         "mode": "markers",
         "name": "-0.6840108977372166",
         "scene": "scene",
         "showlegend": true,
         "type": "scatter3d",
         "x": [
          1.6595507961898721
         ],
         "y": [
          -0.6840108977372166
         ],
         "z": [
          80.89087785457365
         ]
        },
        {
         "hovertemplate": "feature2=%{y}<br>feature1=%{x}<br>output=%{z}<extra></extra>",
         "legendgroup": "-2.0306844677814944",
         "marker": {
          "color": "#636efa",
          "symbol": "x"
         },
         "mode": "markers",
         "name": "-2.0306844677814944",
         "scene": "scene",
         "showlegend": true,
         "type": "scatter3d",
         "x": [
          2.0644928613593194
         ],
         "y": [
          -2.0306844677814944
         ],
         "z": [
          -14.5433640010732
         ]
        },
        {
         "hovertemplate": "feature2=%{y}<br>feature1=%{x}<br>output=%{z}<extra></extra>",
         "legendgroup": "-1.8430695501566485",
         "marker": {
          "color": "#636efa",
          "symbol": "cross"
         },
         "mode": "markers",
         "name": "-1.8430695501566485",
         "scene": "scene",
         "showlegend": true,
         "type": "scatter3d",
         "x": [
          -0.4779740040404867
         ],
         "y": [
          -1.8430695501566485
         ],
         "z": [
          -222.4550031134308
         ]
        },
        {
         "hovertemplate": "feature2=%{y}<br>feature1=%{x}<br>output=%{z}<extra></extra>",
         "legendgroup": "0.5210648764527586",
         "marker": {
          "color": "#636efa",
          "symbol": "circle"
         },
         "mode": "markers",
         "name": "0.5210648764527586",
         "scene": "scene",
         "showlegend": true,
         "type": "scatter3d",
         "x": [
          -0.5757879698130661
         ],
         "y": [
          0.5210648764527586
         ],
         "z": [
          -0.3655578279745484
         ]
        },
        {
         "hovertemplate": "feature2=%{y}<br>feature1=%{x}<br>output=%{z}<extra></extra>",
         "legendgroup": "-0.5693120534701851",
         "marker": {
          "color": "#636efa",
          "symbol": "diamond"
         },
         "mode": "markers",
         "name": "-0.5693120534701851",
         "scene": "scene",
         "showlegend": true,
         "type": "scatter3d",
         "x": [
          0.26990435494076137
         ],
         "y": [
          -0.5693120534701851
         ],
         "z": [
          -31.56178542378731
         ]
        },
        {
         "hovertemplate": "feature2=%{y}<br>feature1=%{x}<br>output=%{z}<extra></extra>",
         "legendgroup": "-0.43918952180214793",
         "marker": {
          "color": "#636efa",
          "symbol": "square"
         },
         "mode": "markers",
         "name": "-0.43918952180214793",
         "scene": "scene",
         "showlegend": true,
         "type": "scatter3d",
         "x": [
          0.18133842921782128
         ],
         "y": [
          -0.43918952180214793
         ],
         "z": [
          -26.73942983154518
         ]
        },
        {
         "hovertemplate": "feature2=%{y}<br>feature1=%{x}<br>output=%{z}<extra></extra>",
         "legendgroup": "0.8689634868967954",
         "marker": {
          "color": "#636efa",
          "symbol": "x"
         },
         "mode": "markers",
         "name": "0.8689634868967954",
         "scene": "scene",
         "showlegend": true,
         "type": "scatter3d",
         "x": [
          0.27687190584612803
         ],
         "y": [
          0.8689634868967954
         ],
         "z": [
          109.46633219828405
         ]
        },
        {
         "hovertemplate": "feature2=%{y}<br>feature1=%{x}<br>output=%{z}<extra></extra>",
         "legendgroup": "0.14195316332077967",
         "marker": {
          "color": "#636efa",
          "symbol": "cross"
         },
         "mode": "markers",
         "name": "0.14195316332077967",
         "scene": "scene",
         "showlegend": true,
         "type": "scatter3d",
         "x": [
          -0.3193284171450952
         ],
         "y": [
          0.14195316332077967
         ],
         "z": [
          -14.555807885630436
         ]
        },
        {
         "hovertemplate": "feature2=%{y}<br>feature1=%{x}<br>output=%{z}<extra></extra>",
         "legendgroup": "-0.3994490292628752",
         "marker": {
          "color": "#636efa",
          "symbol": "circle"
         },
         "mode": "markers",
         "name": "-0.3994490292628752",
         "scene": "scene",
         "showlegend": true,
         "type": "scatter3d",
         "x": [
          0.37005588784751875
         ],
         "y": [
          -0.3994490292628752
         ],
         "z": [
          -6.067901207109017
         ]
        },
        {
         "hovertemplate": "feature2=%{y}<br>feature1=%{x}<br>output=%{z}<extra></extra>",
         "legendgroup": "1.7327211869191332",
         "marker": {
          "color": "#636efa",
          "symbol": "diamond"
         },
         "mode": "markers",
         "name": "1.7327211869191332",
         "scene": "scene",
         "showlegend": true,
         "type": "scatter3d",
         "x": [
          0.6845011068591904
         ],
         "y": [
          1.7327211869191332
         ],
         "z": [
          230.059163299388
         ]
        },
        {
         "hovertemplate": "feature2=%{y}<br>feature1=%{x}<br>output=%{z}<extra></extra>",
         "legendgroup": "-0.13370155966843916",
         "marker": {
          "color": "#636efa",
          "symbol": "square"
         },
         "mode": "markers",
         "name": "-0.13370155966843916",
         "scene": "scene",
         "showlegend": true,
         "type": "scatter3d",
         "x": [
          1.0777438059762627
         ],
         "y": [
          -0.13370155966843916
         ],
         "z": [
          82.84467080390192
         ]
        },
        {
         "hovertemplate": "feature2=%{y}<br>feature1=%{x}<br>output=%{z}<extra></extra>",
         "legendgroup": "0.8758327615873309",
         "marker": {
          "color": "#636efa",
          "symbol": "x"
         },
         "mode": "markers",
         "name": "0.8758327615873309",
         "scene": "scene",
         "showlegend": true,
         "type": "scatter3d",
         "x": [
          -0.11510746848722672
         ],
         "y": [
          0.8758327615873309
         ],
         "z": [
          75.25885234857441
         ]
        },
        {
         "hovertemplate": "feature2=%{y}<br>feature1=%{x}<br>output=%{z}<extra></extra>",
         "legendgroup": "-0.4668455460527625",
         "marker": {
          "color": "#636efa",
          "symbol": "cross"
         },
         "mode": "markers",
         "name": "-0.4668455460527625",
         "scene": "scene",
         "showlegend": true,
         "type": "scatter3d",
         "x": [
          -1.4169061131262595
         ],
         "y": [
          -0.4668455460527625
         ],
         "z": [
          -171.65006741644714
         ]
        },
        {
         "hovertemplate": "feature2=%{y}<br>feature1=%{x}<br>output=%{z}<extra></extra>",
         "legendgroup": "-0.7255973784635843",
         "marker": {
          "color": "#636efa",
          "symbol": "circle"
         },
         "mode": "markers",
         "name": "-0.7255973784635843",
         "scene": "scene",
         "showlegend": true,
         "type": "scatter3d",
         "x": [
          -1.3833639553950554
         ],
         "y": [
          -0.7255973784635843
         ],
         "z": [
          -193.92552542568967
         ]
        },
        {
         "hovertemplate": "feature2=%{y}<br>feature1=%{x}<br>output=%{z}<extra></extra>",
         "legendgroup": "-1.2928569097234486",
         "marker": {
          "color": "#636efa",
          "symbol": "diamond"
         },
         "mode": "markers",
         "name": "-1.2928569097234486",
         "scene": "scene",
         "showlegend": true,
         "type": "scatter3d",
         "x": [
          0.26705086934918293
         ],
         "y": [
          -1.2928569097234486
         ],
         "z": [
          -102.44999249504593
         ]
        },
        {
         "hovertemplate": "feature2=%{y}<br>feature1=%{x}<br>output=%{z}<extra></extra>",
         "legendgroup": "-0.3691818379424436",
         "marker": {
          "color": "#636efa",
          "symbol": "square"
         },
         "mode": "markers",
         "name": "-0.3691818379424436",
         "scene": "scene",
         "showlegend": true,
         "type": "scatter3d",
         "x": [
          -0.2393791775759264
         ],
         "y": [
          -0.3691818379424436
         ],
         "z": [
          -57.340285837267245
         ]
        },
        {
         "hovertemplate": "feature2=%{y}<br>feature1=%{x}<br>output=%{z}<extra></extra>",
         "legendgroup": "0.7717905512136674",
         "marker": {
          "color": "#636efa",
          "symbol": "x"
         },
         "mode": "markers",
         "name": "0.7717905512136674",
         "scene": "scene",
         "showlegend": true,
         "type": "scatter3d",
         "x": [
          0.8235041539637314
         ],
         "y": [
          0.7717905512136674
         ],
         "z": [
          148.61905151594317
         ]
        },
        {
         "hovertemplate": "feature2=%{y}<br>feature1=%{x}<br>output=%{z}<extra></extra>",
         "legendgroup": "0.6252314510271875",
         "marker": {
          "color": "#636efa",
          "symbol": "cross"
         },
         "mode": "markers",
         "name": "0.6252314510271875",
         "scene": "scene",
         "showlegend": true,
         "type": "scatter3d",
         "x": [
          -1.6020576556067476
         ],
         "y": [
          0.6252314510271875
         ],
         "z": [
          -81.51337511276874
         ]
        },
        {
         "hovertemplate": "feature2=%{y}<br>feature1=%{x}<br>output=%{z}<extra></extra>",
         "legendgroup": "-0.6522935999350191",
         "marker": {
          "color": "#636efa",
          "symbol": "circle"
         },
         "mode": "markers",
         "name": "-0.6522935999350191",
         "scene": "scene",
         "showlegend": true,
         "type": "scatter3d",
         "x": [
          -0.5211893123011109
         ],
         "y": [
          -0.6522935999350191
         ],
         "z": [
          -110.05366962559867
         ]
        },
        {
         "hovertemplate": "feature2=%{y}<br>feature1=%{x}<br>output=%{z}<extra></extra>",
         "legendgroup": "-0.4409226322925914",
         "marker": {
          "color": "#636efa",
          "symbol": "diamond"
         },
         "mode": "markers",
         "name": "-0.4409226322925914",
         "scene": "scene",
         "showlegend": true,
         "type": "scatter3d",
         "x": [
          -0.2803554951845091
         ],
         "y": [
          -0.4409226322925914
         ],
         "z": [
          -67.98985304064641
         ]
        },
        {
         "hovertemplate": "feature2=%{y}<br>feature1=%{x}<br>output=%{z}<extra></extra>",
         "legendgroup": "-1.6981058194322545",
         "marker": {
          "color": "#636efa",
          "symbol": "square"
         },
         "mode": "markers",
         "name": "-1.6981058194322545",
         "scene": "scene",
         "showlegend": true,
         "type": "scatter3d",
         "x": [
          0.3872804753950634
         ],
         "y": [
          -1.6981058194322545
         ],
         "z": [
          -131.31347699183047
         ]
        },
        {
         "hovertemplate": "feature2=%{y}<br>feature1=%{x}<br>output=%{z}<extra></extra>",
         "legendgroup": "0.8416312640736364",
         "marker": {
          "color": "#636efa",
          "symbol": "x"
         },
         "mode": "markers",
         "name": "0.8416312640736364",
         "scene": "scene",
         "showlegend": true,
         "type": "scatter3d",
         "x": [
          -0.24945858016094885
         ],
         "y": [
          0.8416312640736364
         ],
         "z": [
          59.965537698063926
         ]
        },
        {
         "hovertemplate": "feature2=%{y}<br>feature1=%{x}<br>output=%{z}<extra></extra>",
         "legendgroup": "0.49374177734918845",
         "marker": {
          "color": "#636efa",
          "symbol": "cross"
         },
         "mode": "markers",
         "name": "0.49374177734918845",
         "scene": "scene",
         "showlegend": true,
         "type": "scatter3d",
         "x": [
          -0.11610393903436653
         ],
         "y": [
          0.49374177734918845
         ],
         "z": [
          37.86948457264607
         ]
        },
        {
         "hovertemplate": "feature2=%{y}<br>feature1=%{x}<br>output=%{z}<extra></extra>",
         "legendgroup": "-0.5428614760167177",
         "marker": {
          "color": "#636efa",
          "symbol": "circle"
         },
         "mode": "markers",
         "name": "-0.5428614760167177",
         "scene": "scene",
         "showlegend": true,
         "type": "scatter3d",
         "x": [
          0.4160500462614255
         ],
         "y": [
          -0.5428614760167177
         ],
         "z": [
          -15.975661266065032
         ]
        },
        {
         "hovertemplate": "feature2=%{y}<br>feature1=%{x}<br>output=%{z}<extra></extra>",
         "legendgroup": "1.5199948607657727",
         "marker": {
          "color": "#636efa",
          "symbol": "diamond"
         },
         "mode": "markers",
         "name": "1.5199948607657727",
         "scene": "scene",
         "showlegend": true,
         "type": "scatter3d",
         "x": [
          1.7195893074161945
         ],
         "y": [
          1.5199948607657727
         ],
         "z": [
          301.3937648827973
         ]
        },
        {
         "hovertemplate": "feature2=%{y}<br>feature1=%{x}<br>output=%{z}<extra></extra>",
         "legendgroup": "-1.0546284639850139",
         "marker": {
          "color": "#636efa",
          "symbol": "square"
         },
         "mode": "markers",
         "name": "-1.0546284639850139",
         "scene": "scene",
         "showlegend": true,
         "type": "scatter3d",
         "x": [
          0.8202478373246812
         ],
         "y": [
          -1.0546284639850139
         ],
         "z": [
          -29.970404958637843
         ]
        },
        {
         "hovertemplate": "feature2=%{y}<br>feature1=%{x}<br>output=%{z}<extra></extra>",
         "legendgroup": "1.0996595958871132",
         "marker": {
          "color": "#636efa",
          "symbol": "x"
         },
         "mode": "markers",
         "name": "1.0996595958871132",
         "scene": "scene",
         "showlegend": true,
         "type": "scatter3d",
         "x": [
          0.6552637307225978
         ],
         "y": [
          1.0996595958871132
         ],
         "z": [
          165.6565429464063
         ]
        },
        {
         "hovertemplate": "feature2=%{y}<br>feature1=%{x}<br>output=%{z}<extra></extra>",
         "legendgroup": "1.4665787155741776",
         "marker": {
          "color": "#636efa",
          "symbol": "cross"
         },
         "mode": "markers",
         "name": "1.4665787155741776",
         "scene": "scene",
         "showlegend": true,
         "type": "scatter3d",
         "x": [
          0.852551939461232
         ],
         "y": [
          1.4665787155741776
         ],
         "z": [
          219.0307087141599
         ]
        },
        {
         "hovertemplate": "feature2=%{y}<br>feature1=%{x}<br>output=%{z}<extra></extra>",
         "legendgroup": "-1.5407970144446248",
         "marker": {
          "color": "#636efa",
          "symbol": "circle"
         },
         "mode": "markers",
         "name": "-1.5407970144446248",
         "scene": "scene",
         "showlegend": true,
         "type": "scatter3d",
         "x": [
          0.06326199420033171
         ],
         "y": [
          -1.5407970144446248
         ],
         "z": [
          -144.78754665403193
         ]
        },
        {
         "hovertemplate": "feature2=%{y}<br>feature1=%{x}<br>output=%{z}<extra></extra>",
         "legendgroup": "0.3708250012811021",
         "marker": {
          "color": "#636efa",
          "symbol": "diamond"
         },
         "mode": "markers",
         "name": "0.3708250012811021",
         "scene": "scene",
         "showlegend": true,
         "type": "scatter3d",
         "x": [
          0.14206180518723566
         ],
         "y": [
          0.3708250012811021
         ],
         "z": [
          48.84145759797119
         ]
        },
        {
         "hovertemplate": "feature2=%{y}<br>feature1=%{x}<br>output=%{z}<extra></extra>",
         "legendgroup": "-0.5986539369229861",
         "marker": {
          "color": "#636efa",
          "symbol": "square"
         },
         "mode": "markers",
         "name": "-0.5986539369229861",
         "scene": "scene",
         "showlegend": true,
         "type": "scatter3d",
         "x": [
          -1.1158969859603944
         ],
         "y": [
          -0.5986539369229861
         ],
         "z": [
          -157.73393961061404
         ]
        },
        {
         "hovertemplate": "feature2=%{y}<br>feature1=%{x}<br>output=%{z}<extra></extra>",
         "legendgroup": "0.5238910238342056",
         "marker": {
          "color": "#636efa",
          "symbol": "x"
         },
         "mode": "markers",
         "name": "0.5238910238342056",
         "scene": "scene",
         "showlegend": true,
         "type": "scatter3d",
         "x": [
          0.08842208704466141
         ],
         "y": [
          0.5238910238342056
         ],
         "z": [
          59.011327446206344
         ]
        },
        {
         "hovertemplate": "feature2=%{y}<br>feature1=%{x}<br>output=%{z}<extra></extra>",
         "legendgroup": "-1.7685384506770307",
         "marker": {
          "color": "#636efa",
          "symbol": "cross"
         },
         "mode": "markers",
         "name": "-1.7685384506770307",
         "scene": "scene",
         "showlegend": true,
         "type": "scatter3d",
         "x": [
          0.35548179274376907
         ],
         "y": [
          -1.7685384506770307
         ],
         "z": [
          -141.0187178190481
         ]
        },
        {
         "hovertemplate": "feature2=%{y}<br>feature1=%{x}<br>output=%{z}<extra></extra>",
         "legendgroup": "-0.5963140384505081",
         "marker": {
          "color": "#636efa",
          "symbol": "circle"
         },
         "mode": "markers",
         "name": "-0.5963140384505081",
         "scene": "scene",
         "showlegend": true,
         "type": "scatter3d",
         "x": [
          -0.05256729626954629
         ],
         "y": [
          -0.5963140384505081
         ],
         "z": [
          -62.89111145703096
         ]
        },
        {
         "hovertemplate": "feature2=%{y}<br>feature1=%{x}<br>output=%{z}<extra></extra>",
         "legendgroup": "-2.2555642294021894",
         "marker": {
          "color": "#636efa",
          "symbol": "diamond"
         },
         "mode": "markers",
         "name": "-2.2555642294021894",
         "scene": "scene",
         "showlegend": true,
         "type": "scatter3d",
         "x": [
          -1.0225068436356035
         ],
         "y": [
          -2.2555642294021894
         ],
         "z": [
          -311.1759789449968
         ]
        },
        {
         "hovertemplate": "feature2=%{y}<br>feature1=%{x}<br>output=%{z}<extra></extra>",
         "legendgroup": "-0.7826291558275251",
         "marker": {
          "color": "#636efa",
          "symbol": "square"
         },
         "mode": "markers",
         "name": "-0.7826291558275251",
         "scene": "scene",
         "showlegend": true,
         "type": "scatter3d",
         "x": [
          -0.11038929902688775
         ],
         "y": [
          -0.7826291558275251
         ],
         "z": [
          -86.22463648996234
         ]
        },
        {
         "hovertemplate": "feature2=%{y}<br>feature1=%{x}<br>output=%{z}<extra></extra>",
         "legendgroup": "-0.47965581400794766",
         "marker": {
          "color": "#636efa",
          "symbol": "x"
         },
         "mode": "markers",
         "name": "-0.47965581400794766",
         "scene": "scene",
         "showlegend": true,
         "type": "scatter3d",
         "x": [
          0.6203582983435125
         ],
         "y": [
          -0.47965581400794766
         ],
         "z": [
          8.373856333001655
         ]
        },
        {
         "hovertemplate": "feature2=%{y}<br>feature1=%{x}<br>output=%{z}<extra></extra>",
         "legendgroup": "0.7666631816450861",
         "marker": {
          "color": "#636efa",
          "symbol": "cross"
         },
         "mode": "markers",
         "name": "0.7666631816450861",
         "scene": "scene",
         "showlegend": true,
         "type": "scatter3d",
         "x": [
          0.3562928174722889
         ],
         "y": [
          0.7666631816450861
         ],
         "z": [
          106.54633619710421
         ]
        }
       ],
       "layout": {
        "autosize": true,
        "legend": {
         "title": {
          "text": "feature2"
         },
         "tracegroupgap": 0
        },
        "margin": {
         "t": 60
        },
        "scene": {
         "aspectmode": "auto",
         "aspectratio": {
          "x": 1,
          "y": 1,
          "z": 1
         },
         "camera": {
          "center": {
           "x": 0,
           "y": 0,
           "z": 0
          },
          "eye": {
           "x": 0.7386311325607112,
           "y": 0.738631132560711,
           "z": 0.738631132560711
          },
          "projection": {
           "type": "perspective"
          },
          "up": {
           "x": 0.054463639345837804,
           "y": -0.051643016792911375,
           "z": 0.9971793774470739
          }
         },
         "domain": {
          "x": [
           0,
           1
          ],
          "y": [
           0,
           1
          ]
         },
         "xaxis": {
          "title": {
           "text": "feature1"
          },
          "type": "linear"
         },
         "yaxis": {
          "categoryarray": [
           -0.01568211160255477,
           0.7471883342046318,
           0.4631303293186071,
           -0.20690367616397173,
           -1.1573552591908536,
           0.9295051114795281,
           1.15233156478312,
           -0.637437025552229,
           -0.3090129690471222,
           0.0386305518401881,
           -0.1576670161638159,
           -0.35343174875719907,
           -1.1561824318219127,
           -0.19065349358139935,
           -2.01640662779976,
           0.6433144650629279,
           0.640131526097592,
           -0.0616264020956474,
           -0.39522898265435435,
           -1.188859257784029,
           -0.9711045704444846,
           -0.08593076697161273,
           0.04949498165009074,
           0.9318483741143037,
           0.698457149107336,
           -0.13288057758695562,
           -0.960504381633148,
           -0.8133642592042029,
           0.8215857120497958,
           -0.11054065723247261,
           2.303916697683942,
           0.280441705316296,
           -0.35399391125348395,
           1.4944845444913688,
           0.4574156062209908,
           -0.6436184028328905,
           -1.7558905834377194,
           -1.582938397335082,
           -0.5028167006425383,
           0.6663830820319143,
           1.738872677454511,
           0.6898181645347884,
           -0.38487980918127546,
           0.6915387510701866,
           -1.3065268517353166,
           -0.3108861716984717,
           1.6481349322075596,
           -0.017020413861440594,
           0.27992459904323824,
           -0.11816404512856976,
           1.068509399316009,
           0.6937731526901325,
           -0.5175190425104033,
           -0.130106954193704,
           -1.0452533661469547,
           0.1993001968964652,
           -0.2918373627478628,
           -1.3342584714027534,
           0.0977249677148556,
           0.9430460873225178,
           0.7732529774025997,
           1.1285940645145685,
           0.8579239242923363,
           -0.18505367100934153,
           -0.7047002758562337,
           -1.1268258087567435,
           -2.2886200400145285,
           0.5232766605317537,
           0.28634368889227957,
           -1.4465346995633879,
           0.9101789080925919,
           0.2745163577239395,
           -2.0946030712061448,
           0.5672902778526694,
           0.42625873077810095,
           1.9559123082506942,
           -0.9855107376841507,
           0.1565065379653756,
           0.7863279621089762,
           -0.6920498477843912,
           -0.3091144447717088,
           -0.0392828182274956,
           0.3990463456401302,
           -1.4240609089825316,
           1.3645318481024713,
           2.259308950690852,
           -0.27567053456055696,
           -0.042171451290578935,
           -0.6280875596415789,
           -0.764143923906443,
           1.3191368763015756,
           -0.9444462559182504,
           -0.13594970067832082,
           -1.936279805846507,
           -0.955945000492777,
           -0.4635959746460942,
           -0.65240858238702,
           -0.7196043885517929,
           0.33890412521594454,
           -0.6878376110286823,
           -0.024326124398935636,
           -0.46886418796679563,
           -2.659172237996741,
           -1.1043833394284506,
           -0.3646935443916854,
           0.8005648034309968,
           -0.26773353689396645,
           -0.5973160689653627,
           0.8145198224878664,
           -0.7395629963913133,
           2.16323594928069,
           0.5785214977288784,
           -0.6840108977372166,
           -2.0306844677814944,
           -1.8430695501566485,
           0.5210648764527586,
           -0.5693120534701851,
           -0.43918952180214793,
           0.8689634868967954,
           0.14195316332077967,
           -0.3994490292628752,
           1.7327211869191332,
           -0.13370155966843916,
           0.8758327615873309,
           -0.4668455460527625,
           -0.7255973784635843,
           -1.2928569097234486,
           -0.3691818379424436,
           0.7717905512136674,
           0.6252314510271875,
           -0.6522935999350191,
           -0.4409226322925914,
           -1.6981058194322545,
           0.8416312640736364,
           0.49374177734918845,
           -0.5428614760167177,
           1.5199948607657727,
           -1.0546284639850139,
           1.0996595958871132,
           1.4665787155741776,
           -1.5407970144446248,
           0.3708250012811021,
           -0.5986539369229861,
           0.5238910238342056,
           -1.7685384506770307,
           -0.5963140384505081,
           -2.2555642294021894,
           -0.7826291558275251,
           -0.47965581400794766,
           0.7666631816450861
          ],
          "categoryorder": "array",
          "title": {
           "text": "feature2"
          },
          "type": "linear"
         },
         "zaxis": {
          "title": {
           "text": "output"
          },
          "type": "linear"
         }
        },
        "template": {
         "data": {
          "bar": [
           {
            "error_x": {
             "color": "#2a3f5f"
            },
            "error_y": {
             "color": "#2a3f5f"
            },
            "marker": {
             "line": {
              "color": "#E5ECF6",
              "width": 0.5
             },
             "pattern": {
              "fillmode": "overlay",
              "size": 10,
              "solidity": 0.2
             }
            },
            "type": "bar"
           }
          ],
          "barpolar": [
           {
            "marker": {
             "line": {
              "color": "#E5ECF6",
              "width": 0.5
             },
             "pattern": {
              "fillmode": "overlay",
              "size": 10,
              "solidity": 0.2
             }
            },
            "type": "barpolar"
           }
          ],
          "carpet": [
           {
            "aaxis": {
             "endlinecolor": "#2a3f5f",
             "gridcolor": "white",
             "linecolor": "white",
             "minorgridcolor": "white",
             "startlinecolor": "#2a3f5f"
            },
            "baxis": {
             "endlinecolor": "#2a3f5f",
             "gridcolor": "white",
             "linecolor": "white",
             "minorgridcolor": "white",
             "startlinecolor": "#2a3f5f"
            },
            "type": "carpet"
           }
          ],
          "choropleth": [
           {
            "colorbar": {
             "outlinewidth": 0,
             "ticks": ""
            },
            "type": "choropleth"
           }
          ],
          "contour": [
           {
            "colorbar": {
             "outlinewidth": 0,
             "ticks": ""
            },
            "colorscale": [
             [
              0,
              "#0d0887"
             ],
             [
              0.1111111111111111,
              "#46039f"
             ],
             [
              0.2222222222222222,
              "#7201a8"
             ],
             [
              0.3333333333333333,
              "#9c179e"
             ],
             [
              0.4444444444444444,
              "#bd3786"
             ],
             [
              0.5555555555555556,
              "#d8576b"
             ],
             [
              0.6666666666666666,
              "#ed7953"
             ],
             [
              0.7777777777777778,
              "#fb9f3a"
             ],
             [
              0.8888888888888888,
              "#fdca26"
             ],
             [
              1,
              "#f0f921"
             ]
            ],
            "type": "contour"
           }
          ],
          "contourcarpet": [
           {
            "colorbar": {
             "outlinewidth": 0,
             "ticks": ""
            },
            "type": "contourcarpet"
           }
          ],
          "heatmap": [
           {
            "colorbar": {
             "outlinewidth": 0,
             "ticks": ""
            },
            "colorscale": [
             [
              0,
              "#0d0887"
             ],
             [
              0.1111111111111111,
              "#46039f"
             ],
             [
              0.2222222222222222,
              "#7201a8"
             ],
             [
              0.3333333333333333,
              "#9c179e"
             ],
             [
              0.4444444444444444,
              "#bd3786"
             ],
             [
              0.5555555555555556,
              "#d8576b"
             ],
             [
              0.6666666666666666,
              "#ed7953"
             ],
             [
              0.7777777777777778,
              "#fb9f3a"
             ],
             [
              0.8888888888888888,
              "#fdca26"
             ],
             [
              1,
              "#f0f921"
             ]
            ],
            "type": "heatmap"
           }
          ],
          "heatmapgl": [
           {
            "colorbar": {
             "outlinewidth": 0,
             "ticks": ""
            },
            "colorscale": [
             [
              0,
              "#0d0887"
             ],
             [
              0.1111111111111111,
              "#46039f"
             ],
             [
              0.2222222222222222,
              "#7201a8"
             ],
             [
              0.3333333333333333,
              "#9c179e"
             ],
             [
              0.4444444444444444,
              "#bd3786"
             ],
             [
              0.5555555555555556,
              "#d8576b"
             ],
             [
              0.6666666666666666,
              "#ed7953"
             ],
             [
              0.7777777777777778,
              "#fb9f3a"
             ],
             [
              0.8888888888888888,
              "#fdca26"
             ],
             [
              1,
              "#f0f921"
             ]
            ],
            "type": "heatmapgl"
           }
          ],
          "histogram": [
           {
            "marker": {
             "pattern": {
              "fillmode": "overlay",
              "size": 10,
              "solidity": 0.2
             }
            },
            "type": "histogram"
           }
          ],
          "histogram2d": [
           {
            "colorbar": {
             "outlinewidth": 0,
             "ticks": ""
            },
            "colorscale": [
             [
              0,
              "#0d0887"
             ],
             [
              0.1111111111111111,
              "#46039f"
             ],
             [
              0.2222222222222222,
              "#7201a8"
             ],
             [
              0.3333333333333333,
              "#9c179e"
             ],
             [
              0.4444444444444444,
              "#bd3786"
             ],
             [
              0.5555555555555556,
              "#d8576b"
             ],
             [
              0.6666666666666666,
              "#ed7953"
             ],
             [
              0.7777777777777778,
              "#fb9f3a"
             ],
             [
              0.8888888888888888,
              "#fdca26"
             ],
             [
              1,
              "#f0f921"
             ]
            ],
            "type": "histogram2d"
           }
          ],
          "histogram2dcontour": [
           {
            "colorbar": {
             "outlinewidth": 0,
             "ticks": ""
            },
            "colorscale": [
             [
              0,
              "#0d0887"
             ],
             [
              0.1111111111111111,
              "#46039f"
             ],
             [
              0.2222222222222222,
              "#7201a8"
             ],
             [
              0.3333333333333333,
              "#9c179e"
             ],
             [
              0.4444444444444444,
              "#bd3786"
             ],
             [
              0.5555555555555556,
              "#d8576b"
             ],
             [
              0.6666666666666666,
              "#ed7953"
             ],
             [
              0.7777777777777778,
              "#fb9f3a"
             ],
             [
              0.8888888888888888,
              "#fdca26"
             ],
             [
              1,
              "#f0f921"
             ]
            ],
            "type": "histogram2dcontour"
           }
          ],
          "mesh3d": [
           {
            "colorbar": {
             "outlinewidth": 0,
             "ticks": ""
            },
            "type": "mesh3d"
           }
          ],
          "parcoords": [
           {
            "line": {
             "colorbar": {
              "outlinewidth": 0,
              "ticks": ""
             }
            },
            "type": "parcoords"
           }
          ],
          "pie": [
           {
            "automargin": true,
            "type": "pie"
           }
          ],
          "scatter": [
           {
            "fillpattern": {
             "fillmode": "overlay",
             "size": 10,
             "solidity": 0.2
            },
            "type": "scatter"
           }
          ],
          "scatter3d": [
           {
            "line": {
             "colorbar": {
              "outlinewidth": 0,
              "ticks": ""
             }
            },
            "marker": {
             "colorbar": {
              "outlinewidth": 0,
              "ticks": ""
             }
            },
            "type": "scatter3d"
           }
          ],
          "scattercarpet": [
           {
            "marker": {
             "colorbar": {
              "outlinewidth": 0,
              "ticks": ""
             }
            },
            "type": "scattercarpet"
           }
          ],
          "scattergeo": [
           {
            "marker": {
             "colorbar": {
              "outlinewidth": 0,
              "ticks": ""
             }
            },
            "type": "scattergeo"
           }
          ],
          "scattergl": [
           {
            "marker": {
             "colorbar": {
              "outlinewidth": 0,
              "ticks": ""
             }
            },
            "type": "scattergl"
           }
          ],
          "scattermapbox": [
           {
            "marker": {
             "colorbar": {
              "outlinewidth": 0,
              "ticks": ""
             }
            },
            "type": "scattermapbox"
           }
          ],
          "scatterpolar": [
           {
            "marker": {
             "colorbar": {
              "outlinewidth": 0,
              "ticks": ""
             }
            },
            "type": "scatterpolar"
           }
          ],
          "scatterpolargl": [
           {
            "marker": {
             "colorbar": {
              "outlinewidth": 0,
              "ticks": ""
             }
            },
            "type": "scatterpolargl"
           }
          ],
          "scatterternary": [
           {
            "marker": {
             "colorbar": {
              "outlinewidth": 0,
              "ticks": ""
             }
            },
            "type": "scatterternary"
           }
          ],
          "surface": [
           {
            "colorbar": {
             "outlinewidth": 0,
             "ticks": ""
            },
            "colorscale": [
             [
              0,
              "#0d0887"
             ],
             [
              0.1111111111111111,
              "#46039f"
             ],
             [
              0.2222222222222222,
              "#7201a8"
             ],
             [
              0.3333333333333333,
              "#9c179e"
             ],
             [
              0.4444444444444444,
              "#bd3786"
             ],
             [
              0.5555555555555556,
              "#d8576b"
             ],
             [
              0.6666666666666666,
              "#ed7953"
             ],
             [
              0.7777777777777778,
              "#fb9f3a"
             ],
             [
              0.8888888888888888,
              "#fdca26"
             ],
             [
              1,
              "#f0f921"
             ]
            ],
            "type": "surface"
           }
          ],
          "table": [
           {
            "cells": {
             "fill": {
              "color": "#EBF0F8"
             },
             "line": {
              "color": "white"
             }
            },
            "header": {
             "fill": {
              "color": "#C8D4E3"
             },
             "line": {
              "color": "white"
             }
            },
            "type": "table"
           }
          ]
         },
         "layout": {
          "annotationdefaults": {
           "arrowcolor": "#2a3f5f",
           "arrowhead": 0,
           "arrowwidth": 1
          },
          "autotypenumbers": "strict",
          "coloraxis": {
           "colorbar": {
            "outlinewidth": 0,
            "ticks": ""
           }
          },
          "colorscale": {
           "diverging": [
            [
             0,
             "#8e0152"
            ],
            [
             0.1,
             "#c51b7d"
            ],
            [
             0.2,
             "#de77ae"
            ],
            [
             0.3,
             "#f1b6da"
            ],
            [
             0.4,
             "#fde0ef"
            ],
            [
             0.5,
             "#f7f7f7"
            ],
            [
             0.6,
             "#e6f5d0"
            ],
            [
             0.7,
             "#b8e186"
            ],
            [
             0.8,
             "#7fbc41"
            ],
            [
             0.9,
             "#4d9221"
            ],
            [
             1,
             "#276419"
            ]
           ],
           "sequential": [
            [
             0,
             "#0d0887"
            ],
            [
             0.1111111111111111,
             "#46039f"
            ],
            [
             0.2222222222222222,
             "#7201a8"
            ],
            [
             0.3333333333333333,
             "#9c179e"
            ],
            [
             0.4444444444444444,
             "#bd3786"
            ],
            [
             0.5555555555555556,
             "#d8576b"
            ],
            [
             0.6666666666666666,
             "#ed7953"
            ],
            [
             0.7777777777777778,
             "#fb9f3a"
            ],
            [
             0.8888888888888888,
             "#fdca26"
            ],
            [
             1,
             "#f0f921"
            ]
           ],
           "sequentialminus": [
            [
             0,
             "#0d0887"
            ],
            [
             0.1111111111111111,
             "#46039f"
            ],
            [
             0.2222222222222222,
             "#7201a8"
            ],
            [
             0.3333333333333333,
             "#9c179e"
            ],
            [
             0.4444444444444444,
             "#bd3786"
            ],
            [
             0.5555555555555556,
             "#d8576b"
            ],
            [
             0.6666666666666666,
             "#ed7953"
            ],
            [
             0.7777777777777778,
             "#fb9f3a"
            ],
            [
             0.8888888888888888,
             "#fdca26"
            ],
            [
             1,
             "#f0f921"
            ]
           ]
          },
          "colorway": [
           "#636efa",
           "#EF553B",
           "#00cc96",
           "#ab63fa",
           "#FFA15A",
           "#19d3f3",
           "#FF6692",
           "#B6E880",
           "#FF97FF",
           "#FECB52"
          ],
          "font": {
           "color": "#2a3f5f"
          },
          "geo": {
           "bgcolor": "white",
           "lakecolor": "white",
           "landcolor": "#E5ECF6",
           "showlakes": true,
           "showland": true,
           "subunitcolor": "white"
          },
          "hoverlabel": {
           "align": "left"
          },
          "hovermode": "closest",
          "mapbox": {
           "style": "light"
          },
          "paper_bgcolor": "white",
          "plot_bgcolor": "#E5ECF6",
          "polar": {
           "angularaxis": {
            "gridcolor": "white",
            "linecolor": "white",
            "ticks": ""
           },
           "bgcolor": "#E5ECF6",
           "radialaxis": {
            "gridcolor": "white",
            "linecolor": "white",
            "ticks": ""
           }
          },
          "scene": {
           "xaxis": {
            "backgroundcolor": "#E5ECF6",
            "gridcolor": "white",
            "gridwidth": 2,
            "linecolor": "white",
            "showbackground": true,
            "ticks": "",
            "zerolinecolor": "white"
           },
           "yaxis": {
            "backgroundcolor": "#E5ECF6",
            "gridcolor": "white",
            "gridwidth": 2,
            "linecolor": "white",
            "showbackground": true,
            "ticks": "",
            "zerolinecolor": "white"
           },
           "zaxis": {
            "backgroundcolor": "#E5ECF6",
            "gridcolor": "white",
            "gridwidth": 2,
            "linecolor": "white",
            "showbackground": true,
            "ticks": "",
            "zerolinecolor": "white"
           }
          },
          "shapedefaults": {
           "line": {
            "color": "#2a3f5f"
           }
          },
          "ternary": {
           "aaxis": {
            "gridcolor": "white",
            "linecolor": "white",
            "ticks": ""
           },
           "baxis": {
            "gridcolor": "white",
            "linecolor": "white",
            "ticks": ""
           },
           "bgcolor": "#E5ECF6",
           "caxis": {
            "gridcolor": "white",
            "linecolor": "white",
            "ticks": ""
           }
          },
          "title": {
           "x": 0.05
          },
          "xaxis": {
           "automargin": true,
           "gridcolor": "white",
           "linecolor": "white",
           "ticks": "",
           "title": {
            "standoff": 15
           },
           "zerolinecolor": "white",
           "zerolinewidth": 2
          },
          "yaxis": {
           "automargin": true,
           "gridcolor": "white",
           "linecolor": "white",
           "ticks": "",
           "title": {
            "standoff": 15
           },
           "zerolinecolor": "white",
           "zerolinewidth": 2
          }
         }
        }
       }
      },
      "image/png": "[encoded data removed]",
      "text/html": [
       "<div>                            <div id=\"aae32000-c857-4cd0-989e-1ede0b041ddc\" class=\"plotly-graph-div\" style=\"height:525px; width:100%;\"></div>            <script type=\"text/javascript\">                require([\"plotly\"], function(Plotly) {                    window.PLOTLYENV=window.PLOTLYENV || {};                                    if (document.getElementById(\"aae32000-c857-4cd0-989e-1ede0b041ddc\")) {                    Plotly.newPlot(                        \"aae32000-c857-4cd0-989e-1ede0b041ddc\",                        [{\"hovertemplate\":\"feature2=%{y}\\u003cbr\\u003efeature1=%{x}\\u003cbr\\u003eoutput=%{z}\\u003cextra\\u003e\\u003c\\u002fextra\\u003e\",\"legendgroup\":\"-0.01568211160255477\",\"marker\":{\"color\":\"#636efa\",\"symbol\":\"circle\"},\"mode\":\"markers\",\"name\":\"-0.01568211160255477\",\"scene\":\"scene\",\"showlegend\":true,\"x\":[0.16092816829822298],\"y\":[-0.01568211160255477],\"z\":[12.788358349159822],\"type\":\"scatter3d\"},{\"hovertemplate\":\"feature2=%{y}\\u003cbr\\u003efeature1=%{x}\\u003cbr\\u003eoutput=%{z}\\u003cextra\\u003e\\u003c\\u002fextra\\u003e\",\"legendgroup\":\"0.7471883342046318\",\"marker\":{\"color\":\"#636efa\",\"symbol\":\"diamond\"},\"mode\":\"markers\",\"name\":\"0.7471883342046318\",\"scene\":\"scene\",\"showlegend\":true,\"x\":[-1.188944955203736],\"y\":[0.7471883342046318],\"z\":[-32.84912517193402],\"type\":\"scatter3d\"},{\"hovertemplate\":\"feature2=%{y}\\u003cbr\\u003efeature1=%{x}\\u003cbr\\u003eoutput=%{z}\\u003cextra\\u003e\\u003c\\u002fextra\\u003e\",\"legendgroup\":\"0.4631303293186071\",\"marker\":{\"color\":\"#636efa\",\"symbol\":\"square\"},\"mode\":\"markers\",\"name\":\"0.4631303293186071\",\"scene\":\"scene\",\"showlegend\":true,\"x\":[0.2790957643924534],\"y\":[0.4631303293186071],\"z\":[70.04573537018675],\"type\":\"scatter3d\"},{\"hovertemplate\":\"feature2=%{y}\\u003cbr\\u003efeature1=%{x}\\u003cbr\\u003eoutput=%{z}\\u003cextra\\u003e\\u003c\\u002fextra\\u003e\",\"legendgroup\":\"-0.20690367616397173\",\"marker\":{\"color\":\"#636efa\",\"symbol\":\"x\"},\"mode\":\"markers\",\"name\":\"-0.20690367616397173\",\"scene\":\"scene\",\"showlegend\":true,\"x\":[0.8801789120807822],\"y\":[-0.20690367616397173],\"z\":[58.119293397240924],\"type\":\"scatter3d\"},{\"hovertemplate\":\"feature2=%{y}\\u003cbr\\u003efeature1=%{x}\\u003cbr\\u003eoutput=%{z}\\u003cextra\\u003e\\u003c\\u002fextra\\u003e\",\"legendgroup\":\"-1.1573552591908536\",\"marker\":{\"color\":\"#636efa\",\"symbol\":\"cross\"},\"mode\":\"markers\",\"name\":\"-1.1573552591908536\",\"scene\":\"scene\",\"showlegend\":true,\"x\":[-0.3122922511256933],\"y\":[-1.1573552591908536],\"z\":[-140.77155697640984],\"type\":\"scatter3d\"},{\"hovertemplate\":\"feature2=%{y}\\u003cbr\\u003efeature1=%{x}\\u003cbr\\u003eoutput=%{z}\\u003cextra\\u003e\\u003c\\u002fextra\\u003e\",\"legendgroup\":\"0.9295051114795281\",\"marker\":{\"color\":\"#636efa\",\"symbol\":\"circle\"},\"mode\":\"markers\",\"name\":\"0.9295051114795281\",\"scene\":\"scene\",\"showlegend\":true,\"x\":[0.5822245913979243],\"y\":[0.9295051114795281],\"z\":[142.5466492190289],\"type\":\"scatter3d\"},{\"hovertemplate\":\"feature2=%{y}\\u003cbr\\u003efeature1=%{x}\\u003cbr\\u003eoutput=%{z}\\u003cextra\\u003e\\u003c\\u002fextra\\u003e\",\"legendgroup\":\"1.15233156478312\",\"marker\":{\"color\":\"#636efa\",\"symbol\":\"diamond\"},\"mode\":\"markers\",\"name\":\"1.15233156478312\",\"scene\":\"scene\",\"showlegend\":true,\"x\":[1.079618592036821],\"y\":[1.15233156478312],\"z\":[208.5573420924209],\"type\":\"scatter3d\"},{\"hovertemplate\":\"feature2=%{y}\\u003cbr\\u003efeature1=%{x}\\u003cbr\\u003eoutput=%{z}\\u003cextra\\u003e\\u003c\\u002fextra\\u003e\",\"legendgroup\":\"-0.637437025552229\",\"marker\":{\"color\":\"#636efa\",\"symbol\":\"square\"},\"mode\":\"markers\",\"name\":\"-0.637437025552229\",\"scene\":\"scene\",\"showlegend\":true,\"x\":[-0.39727181432879766],\"y\":[-0.637437025552229],\"z\":[-97.57723234541291],\"type\":\"scatter3d\"},{\"hovertemplate\":\"feature2=%{y}\\u003cbr\\u003efeature1=%{x}\\u003cbr\\u003eoutput=%{z}\\u003cextra\\u003e\\u003c\\u002fextra\\u003e\",\"legendgroup\":\"-0.3090129690471222\",\"marker\":{\"color\":\"#636efa\",\"symbol\":\"x\"},\"mode\":\"markers\",\"name\":\"-0.3090129690471222\",\"scene\":\"scene\",\"showlegend\":true,\"x\":[-1.6760038063299767],\"y\":[-0.3090129690471222],\"z\":[-179.29639457748544],\"type\":\"scatter3d\"},{\"hovertemplate\":\"feature2=%{y}\\u003cbr\\u003efeature1=%{x}\\u003cbr\\u003eoutput=%{z}\\u003cextra\\u003e\\u003c\\u002fextra\\u003e\",\"legendgroup\":\"0.0386305518401881\",\"marker\":{\"color\":\"#636efa\",\"symbol\":\"cross\"},\"mode\":\"markers\",\"name\":\"0.0386305518401881\",\"scene\":\"scene\",\"showlegend\":true,\"x\":[-1.6567151023219537],\"y\":[0.0386305518401881],\"z\":[-143.64224524838238],\"type\":\"scatter3d\"},{\"hovertemplate\":\"feature2=%{y}\\u003cbr\\u003efeature1=%{x}\\u003cbr\\u003eoutput=%{z}\\u003cextra\\u003e\\u003c\\u002fextra\\u003e\",\"legendgroup\":\"-0.1576670161638159\",\"marker\":{\"color\":\"#636efa\",\"symbol\":\"circle\"},\"mode\":\"markers\",\"name\":\"-0.1576670161638159\",\"scene\":\"scene\",\"showlegend\":true,\"x\":[2.2567234972982093],\"y\":[-0.1576670161638159],\"z\":[185.40996647882355],\"type\":\"scatter3d\"},{\"hovertemplate\":\"feature2=%{y}\\u003cbr\\u003efeature1=%{x}\\u003cbr\\u003eoutput=%{z}\\u003cextra\\u003e\\u003c\\u002fextra\\u003e\",\"legendgroup\":\"-0.35343174875719907\",\"marker\":{\"color\":\"#636efa\",\"symbol\":\"diamond\"},\"mode\":\"markers\",\"name\":\"-0.35343174875719907\",\"scene\":\"scene\",\"showlegend\":true,\"x\":[-1.6164741886510325],\"y\":[-0.35343174875719907],\"z\":[-178.33576222857806],\"type\":\"scatter3d\"},{\"hovertemplate\":\"feature2=%{y}\\u003cbr\\u003efeature1=%{x}\\u003cbr\\u003eoutput=%{z}\\u003cextra\\u003e\\u003c\\u002fextra\\u003e\",\"legendgroup\":\"-1.1561824318219127\",\"marker\":{\"color\":\"#636efa\",\"symbol\":\"square\"},\"mode\":\"markers\",\"name\":\"-1.1561824318219127\",\"scene\":\"scene\",\"showlegend\":true,\"x\":[0.7811981017099934],\"y\":[-1.1561824318219127],\"z\":[-43.35898462501477],\"type\":\"scatter3d\"},{\"hovertemplate\":\"feature2=%{y}\\u003cbr\\u003efeature1=%{x}\\u003cbr\\u003eoutput=%{z}\\u003cextra\\u003e\\u003c\\u002fextra\\u003e\",\"legendgroup\":\"-0.19065349358139935\",\"marker\":{\"color\":\"#636efa\",\"symbol\":\"x\"},\"mode\":\"markers\",\"name\":\"-0.19065349358139935\",\"scene\":\"scene\",\"showlegend\":true,\"x\":[-0.3948495140334503],\"y\":[-0.19065349358139935],\"z\":[-53.74554260988586],\"type\":\"scatter3d\"},{\"hovertemplate\":\"feature2=%{y}\\u003cbr\\u003efeature1=%{x}\\u003cbr\\u003eoutput=%{z}\\u003cextra\\u003e\\u003c\\u002fextra\\u003e\",\"legendgroup\":\"-2.01640662779976\",\"marker\":{\"color\":\"#636efa\",\"symbol\":\"cross\"},\"mode\":\"markers\",\"name\":\"-2.01640662779976\",\"scene\":\"scene\",\"showlegend\":true,\"x\":[-0.5394546333745014],\"y\":[-2.01640662779976],\"z\":[-244.84712087332866],\"type\":\"scatter3d\"},{\"hovertemplate\":\"feature2=%{y}\\u003cbr\\u003efeature1=%{x}\\u003cbr\\u003eoutput=%{z}\\u003cextra\\u003e\\u003c\\u002fextra\\u003e\",\"legendgroup\":\"0.6433144650629279\",\"marker\":{\"color\":\"#636efa\",\"symbol\":\"circle\"},\"mode\":\"markers\",\"name\":\"0.6433144650629279\",\"scene\":\"scene\",\"showlegend\":true,\"x\":[-1.5706234086334527],\"y\":[0.6433144650629279],\"z\":[-76.95106552014215],\"type\":\"scatter3d\"},{\"hovertemplate\":\"feature2=%{y}\\u003cbr\\u003efeature1=%{x}\\u003cbr\\u003eoutput=%{z}\\u003cextra\\u003e\\u003c\\u002fextra\\u003e\",\"legendgroup\":\"0.640131526097592\",\"marker\":{\"color\":\"#636efa\",\"symbol\":\"diamond\"},\"mode\":\"markers\",\"name\":\"0.640131526097592\",\"scene\":\"scene\",\"showlegend\":true,\"x\":[-1.6169560443108344],\"y\":[0.640131526097592],\"z\":[-81.3844407216726],\"type\":\"scatter3d\"},{\"hovertemplate\":\"feature2=%{y}\\u003cbr\\u003efeature1=%{x}\\u003cbr\\u003eoutput=%{z}\\u003cextra\\u003e\\u003c\\u002fextra\\u003e\",\"legendgroup\":\"-0.0616264020956474\",\"marker\":{\"color\":\"#636efa\",\"symbol\":\"square\"},\"mode\":\"markers\",\"name\":\"-0.0616264020956474\",\"scene\":\"scene\",\"showlegend\":true,\"x\":[-0.10730527629117469],\"y\":[-0.0616264020956474],\"z\":[-15.564082941911852],\"type\":\"scatter3d\"},{\"hovertemplate\":\"feature2=%{y}\\u003cbr\\u003efeature1=%{x}\\u003cbr\\u003eoutput=%{z}\\u003cextra\\u003e\\u003c\\u002fextra\\u003e\",\"legendgroup\":\"-0.39522898265435435\",\"marker\":{\"color\":\"#636efa\",\"symbol\":\"x\"},\"mode\":\"markers\",\"name\":\"-0.39522898265435435\",\"scene\":\"scene\",\"showlegend\":true,\"x\":[-1.159420516399913],\"y\":[-0.39522898265435435],\"z\":[-141.74776964533805],\"type\":\"scatter3d\"},{\"hovertemplate\":\"feature2=%{y}\\u003cbr\\u003efeature1=%{x}\\u003cbr\\u003eoutput=%{z}\\u003cextra\\u003e\\u003c\\u002fextra\\u003e\",\"legendgroup\":\"-1.188859257784029\",\"marker\":{\"color\":\"#636efa\",\"symbol\":\"cross\"},\"mode\":\"markers\",\"name\":\"-1.188859257784029\",\"scene\":\"scene\",\"showlegend\":true,\"x\":[-0.5068163542986875],\"y\":[-1.188859257784029],\"z\":[-161.15568947212572],\"type\":\"scatter3d\"},{\"hovertemplate\":\"feature2=%{y}\\u003cbr\\u003efeature1=%{x}\\u003cbr\\u003eoutput=%{z}\\u003cextra\\u003e\\u003c\\u002fextra\\u003e\",\"legendgroup\":\"-0.9711045704444846\",\"marker\":{\"color\":\"#636efa\",\"symbol\":\"circle\"},\"mode\":\"markers\",\"name\":\"-0.9711045704444846\",\"scene\":\"scene\",\"showlegend\":true,\"x\":[0.3148172045158238],\"y\":[-0.9711045704444846],\"z\":[-66.78948520471056],\"type\":\"scatter3d\"},{\"hovertemplate\":\"feature2=%{y}\\u003cbr\\u003efeature1=%{x}\\u003cbr\\u003eoutput=%{z}\\u003cextra\\u003e\\u003c\\u002fextra\\u003e\",\"legendgroup\":\"-0.08593076697161273\",\"marker\":{\"color\":\"#636efa\",\"symbol\":\"diamond\"},\"mode\":\"markers\",\"name\":\"-0.08593076697161273\",\"scene\":\"scene\",\"showlegend\":true,\"x\":[0.19429293804577166],\"y\":[-0.08593076697161273],\"z\":[8.899280376733577],\"type\":\"scatter3d\"},{\"hovertemplate\":\"feature2=%{y}\\u003cbr\\u003efeature1=%{x}\\u003cbr\\u003eoutput=%{z}\\u003cextra\\u003e\\u003c\\u002fextra\\u003e\",\"legendgroup\":\"0.04949498165009074\",\"marker\":{\"color\":\"#636efa\",\"symbol\":\"square\"},\"mode\":\"markers\",\"name\":\"0.04949498165009074\",\"scene\":\"scene\",\"showlegend\":true,\"x\":[0.49383677628095635],\"y\":[0.04949498165009074],\"z\":[48.77311021533048],\"type\":\"scatter3d\"},{\"hovertemplate\":\"feature2=%{y}\\u003cbr\\u003efeature1=%{x}\\u003cbr\\u003eoutput=%{z}\\u003cextra\\u003e\\u003c\\u002fextra\\u003e\",\"legendgroup\":\"0.9318483741143037\",\"marker\":{\"color\":\"#636efa\",\"symbol\":\"x\"},\"mode\":\"markers\",\"name\":\"0.9318483741143037\",\"scene\":\"scene\",\"showlegend\":true,\"x\":[0.339964983801262],\"y\":[0.9318483741143037],\"z\":[121.21929832580733],\"type\":\"scatter3d\"},{\"hovertemplate\":\"feature2=%{y}\\u003cbr\\u003efeature1=%{x}\\u003cbr\\u003eoutput=%{z}\\u003cextra\\u003e\\u003c\\u002fextra\\u003e\",\"legendgroup\":\"0.698457149107336\",\"marker\":{\"color\":\"#636efa\",\"symbol\":\"cross\"},\"mode\":\"markers\",\"name\":\"0.698457149107336\",\"scene\":\"scene\",\"showlegend\":true,\"x\":[0.00377088908626934],\"y\":[0.698457149107336],\"z\":[68.5207106969495],\"type\":\"scatter3d\"},{\"hovertemplate\":\"feature2=%{y}\\u003cbr\\u003efeature1=%{x}\\u003cbr\\u003eoutput=%{z}\\u003cextra\\u003e\\u003c\\u002fextra\\u003e\",\"legendgroup\":\"-0.13288057758695562\",\"marker\":{\"color\":\"#636efa\",\"symbol\":\"circle\"},\"mode\":\"markers\",\"name\":\"-0.13288057758695562\",\"scene\":\"scene\",\"showlegend\":true,\"x\":[-0.2977908794017283],\"y\":[-0.13288057758695562],\"z\":[-39.469386545394926],\"type\":\"scatter3d\"},{\"hovertemplate\":\"feature2=%{y}\\u003cbr\\u003efeature1=%{x}\\u003cbr\\u003eoutput=%{z}\\u003cextra\\u003e\\u003c\\u002fextra\\u003e\",\"legendgroup\":\"-0.960504381633148\",\"marker\":{\"color\":\"#636efa\",\"symbol\":\"diamond\"},\"mode\":\"markers\",\"name\":\"-0.960504381633148\",\"scene\":\"scene\",\"showlegend\":true,\"x\":[-0.7931173627076716],\"y\":[-0.960504381633148],\"z\":[-164.33798253642237],\"type\":\"scatter3d\"},{\"hovertemplate\":\"feature2=%{y}\\u003cbr\\u003efeature1=%{x}\\u003cbr\\u003eoutput=%{z}\\u003cextra\\u003e\\u003c\\u002fextra\\u003e\",\"legendgroup\":\"-0.8133642592042029\",\"marker\":{\"color\":\"#636efa\",\"symbol\":\"square\"},\"mode\":\"markers\",\"name\":\"-0.8133642592042029\",\"scene\":\"scene\",\"showlegend\":true,\"x\":[-1.466424327802514],\"y\":[-0.8133642592042029],\"z\":[-209.884212810734],\"type\":\"scatter3d\"},{\"hovertemplate\":\"feature2=%{y}\\u003cbr\\u003efeature1=%{x}\\u003cbr\\u003eoutput=%{z}\\u003cextra\\u003e\\u003c\\u002fextra\\u003e\",\"legendgroup\":\"0.8215857120497958\",\"marker\":{\"color\":\"#636efa\",\"symbol\":\"x\"},\"mode\":\"markers\",\"name\":\"0.8215857120497958\",\"scene\":\"scene\",\"showlegend\":true,\"x\":[0.005292646299360854],\"y\":[0.8215857120497958],\"z\":[80.67624199329723],\"type\":\"scatter3d\"},{\"hovertemplate\":\"feature2=%{y}\\u003cbr\\u003efeature1=%{x}\\u003cbr\\u003eoutput=%{z}\\u003cextra\\u003e\\u003c\\u002fextra\\u003e\",\"legendgroup\":\"-0.11054065723247261\",\"marker\":{\"color\":\"#636efa\",\"symbol\":\"cross\"},\"mode\":\"markers\",\"name\":\"-0.11054065723247261\",\"scene\":\"scene\",\"showlegend\":true,\"x\":[1.0201727117157997],\"y\":[-0.11054065723247261],\"z\":[79.98305809181716],\"type\":\"scatter3d\"},{\"hovertemplate\":\"feature2=%{y}\\u003cbr\\u003efeature1=%{x}\\u003cbr\\u003eoutput=%{z}\\u003cextra\\u003e\\u003c\\u002fextra\\u003e\",\"legendgroup\":\"2.303916697683942\",\"marker\":{\"color\":\"#636efa\",\"symbol\":\"circle\"},\"mode\":\"markers\",\"name\":\"2.303916697683942\",\"scene\":\"scene\",\"showlegend\":true,\"x\":[-1.0600158227215473],\"y\":[2.303916697683942],\"z\":[130.59472519493067],\"type\":\"scatter3d\"},{\"hovertemplate\":\"feature2=%{y}\\u003cbr\\u003efeature1=%{x}\\u003cbr\\u003eoutput=%{z}\\u003cextra\\u003e\\u003c\\u002fextra\\u003e\",\"legendgroup\":\"0.280441705316296\",\"marker\":{\"color\":\"#636efa\",\"symbol\":\"diamond\"},\"mode\":\"markers\",\"name\":\"0.280441705316296\",\"scene\":\"scene\",\"showlegend\":true,\"x\":[-0.9931236109295807],\"y\":[0.280441705316296],\"z\":[-60.990069923890786],\"type\":\"scatter3d\"},{\"hovertemplate\":\"feature2=%{y}\\u003cbr\\u003efeature1=%{x}\\u003cbr\\u003eoutput=%{z}\\u003cextra\\u003e\\u003c\\u002fextra\\u003e\",\"legendgroup\":\"-0.35399391125348395\",\"marker\":{\"color\":\"#636efa\",\"symbol\":\"square\"},\"mode\":\"markers\",\"name\":\"-0.35399391125348395\",\"scene\":\"scene\",\"showlegend\":true,\"x\":[-1.3749512934180188],\"y\":[-0.35399391125348395],\"z\":[-156.90008796769888],\"type\":\"scatter3d\"},{\"hovertemplate\":\"feature2=%{y}\\u003cbr\\u003efeature1=%{x}\\u003cbr\\u003eoutput=%{z}\\u003cextra\\u003e\\u003c\\u002fextra\\u003e\",\"legendgroup\":\"1.4944845444913688\",\"marker\":{\"color\":\"#636efa\",\"symbol\":\"x\"},\"mode\":\"markers\",\"name\":\"1.4944845444913688\",\"scene\":\"scene\",\"showlegend\":true,\"x\":[-2.0699850250135325],\"y\":[1.4944845444913688],\"z\":[-38.29053782267377],\"type\":\"scatter3d\"},{\"hovertemplate\":\"feature2=%{y}\\u003cbr\\u003efeature1=%{x}\\u003cbr\\u003eoutput=%{z}\\u003cextra\\u003e\\u003c\\u002fextra\\u003e\",\"legendgroup\":\"0.4574156062209908\",\"marker\":{\"color\":\"#636efa\",\"symbol\":\"cross\"},\"mode\":\"markers\",\"name\":\"0.4574156062209908\",\"scene\":\"scene\",\"showlegend\":true,\"x\":[-0.9646120137337284],\"y\":[0.4574156062209908],\"z\":[-41.17647970942118],\"type\":\"scatter3d\"},{\"hovertemplate\":\"feature2=%{y}\\u003cbr\\u003efeature1=%{x}\\u003cbr\\u003eoutput=%{z}\\u003cextra\\u003e\\u003c\\u002fextra\\u003e\",\"legendgroup\":\"-0.6436184028328905\",\"marker\":{\"color\":\"#636efa\",\"symbol\":\"circle\"},\"mode\":\"markers\",\"name\":\"-0.6436184028328905\",\"scene\":\"scene\",\"showlegend\":true,\"x\":[-2.2234031522244266],\"y\":[-0.6436184028328905],\"z\":[-260.6686822886939],\"type\":\"scatter3d\"},{\"hovertemplate\":\"feature2=%{y}\\u003cbr\\u003efeature1=%{x}\\u003cbr\\u003eoutput=%{z}\\u003cextra\\u003e\\u003c\\u002fextra\\u003e\",\"legendgroup\":\"-1.7558905834377194\",\"marker\":{\"color\":\"#636efa\",\"symbol\":\"diamond\"},\"mode\":\"markers\",\"name\":\"-1.7558905834377194\",\"scene\":\"scene\",\"showlegend\":true,\"x\":[0.45093446180591484],\"y\":[-1.7558905834377194],\"z\":[-131.2906826181216],\"type\":\"scatter3d\"},{\"hovertemplate\":\"feature2=%{y}\\u003cbr\\u003efeature1=%{x}\\u003cbr\\u003eoutput=%{z}\\u003cextra\\u003e\\u003c\\u002fextra\\u003e\",\"legendgroup\":\"-1.582938397335082\",\"marker\":{\"color\":\"#636efa\",\"symbol\":\"square\"},\"mode\":\"markers\",\"name\":\"-1.582938397335082\",\"scene\":\"scene\",\"showlegend\":true,\"x\":[0.6103793791072052],\"y\":[-1.582938397335082],\"z\":[-100.21933875902081],\"type\":\"scatter3d\"},{\"hovertemplate\":\"feature2=%{y}\\u003cbr\\u003efeature1=%{x}\\u003cbr\\u003eoutput=%{z}\\u003cextra\\u003e\\u003c\\u002fextra\\u003e\",\"legendgroup\":\"-0.5028167006425383\",\"marker\":{\"color\":\"#636efa\",\"symbol\":\"x\"},\"mode\":\"markers\",\"name\":\"-0.5028167006425383\",\"scene\":\"scene\",\"showlegend\":true,\"x\":[2.4124536795437486],\"y\":[-0.5028167006425383],\"z\":[165.5723413346307],\"type\":\"scatter3d\"},{\"hovertemplate\":\"feature2=%{y}\\u003cbr\\u003efeature1=%{x}\\u003cbr\\u003eoutput=%{z}\\u003cextra\\u003e\\u003c\\u002fextra\\u003e\",\"legendgroup\":\"0.6663830820319143\",\"marker\":{\"color\":\"#636efa\",\"symbol\":\"cross\"},\"mode\":\"markers\",\"name\":\"0.6663830820319143\",\"scene\":\"scene\",\"showlegend\":true,\"x\":[-0.4607197873885533],\"y\":[0.6663830820319143],\"z\":[24.059472215373418],\"type\":\"scatter3d\"},{\"hovertemplate\":\"feature2=%{y}\\u003cbr\\u003efeature1=%{x}\\u003cbr\\u003eoutput=%{z}\\u003cextra\\u003e\\u003c\\u002fextra\\u003e\",\"legendgroup\":\"1.738872677454511\",\"marker\":{\"color\":\"#636efa\",\"symbol\":\"circle\"},\"mode\":\"markers\",\"name\":\"1.738872677454511\",\"scene\":\"scene\",\"showlegend\":true,\"x\":[0.9943943913154989],\"y\":[1.738872677454511],\"z\":[258.23379546073056],\"type\":\"scatter3d\"},{\"hovertemplate\":\"feature2=%{y}\\u003cbr\\u003efeature1=%{x}\\u003cbr\\u003eoutput=%{z}\\u003cextra\\u003e\\u003c\\u002fextra\\u003e\",\"legendgroup\":\"0.6898181645347884\",\"marker\":{\"color\":\"#636efa\",\"symbol\":\"diamond\"},\"mode\":\"markers\",\"name\":\"0.6898181645347884\",\"scene\":\"scene\",\"showlegend\":true,\"x\":[1.3018462295649984],\"y\":[0.6898181645347884],\"z\":[183.179271206995],\"type\":\"scatter3d\"},{\"hovertemplate\":\"feature2=%{y}\\u003cbr\\u003efeature1=%{x}\\u003cbr\\u003eoutput=%{z}\\u003cextra\\u003e\\u003c\\u002fextra\\u003e\",\"legendgroup\":\"-0.38487980918127546\",\"marker\":{\"color\":\"#636efa\",\"symbol\":\"square\"},\"mode\":\"markers\",\"name\":\"-0.38487980918127546\",\"scene\":\"scene\",\"showlegend\":true,\"x\":[0.094351589317074],\"y\":[-0.38487980918127546],\"z\":[-29.1776101418083],\"type\":\"scatter3d\"},{\"hovertemplate\":\"feature2=%{y}\\u003cbr\\u003efeature1=%{x}\\u003cbr\\u003eoutput=%{z}\\u003cextra\\u003e\\u003c\\u002fextra\\u003e\",\"legendgroup\":\"0.6915387510701866\",\"marker\":{\"color\":\"#636efa\",\"symbol\":\"x\"},\"mode\":\"markers\",\"name\":\"0.6915387510701866\",\"scene\":\"scene\",\"showlegend\":true,\"x\":[0.6947491436560059],\"y\":[0.6915387510701866],\"z\":[129.32812569136044],\"type\":\"scatter3d\"},{\"hovertemplate\":\"feature2=%{y}\\u003cbr\\u003efeature1=%{x}\\u003cbr\\u003eoutput=%{z}\\u003cextra\\u003e\\u003c\\u002fextra\\u003e\",\"legendgroup\":\"-1.3065268517353166\",\"marker\":{\"color\":\"#636efa\",\"symbol\":\"cross\"},\"mode\":\"markers\",\"name\":\"-1.3065268517353166\",\"scene\":\"scene\",\"showlegend\":true,\"x\":[1.658130679618188],\"y\":[-1.3065268517353166],\"z\":[19.992911762645605],\"type\":\"scatter3d\"},{\"hovertemplate\":\"feature2=%{y}\\u003cbr\\u003efeature1=%{x}\\u003cbr\\u003eoutput=%{z}\\u003cextra\\u003e\\u003c\\u002fextra\\u003e\",\"legendgroup\":\"-0.3108861716984717\",\"marker\":{\"color\":\"#636efa\",\"symbol\":\"circle\"},\"mode\":\"markers\",\"name\":\"-0.3108861716984717\",\"scene\":\"scene\",\"showlegend\":true,\"x\":[0.09740016626878341],\"y\":[-0.3108861716984717],\"z\":[-21.682900914225435],\"type\":\"scatter3d\"},{\"hovertemplate\":\"feature2=%{y}\\u003cbr\\u003efeature1=%{x}\\u003cbr\\u003eoutput=%{z}\\u003cextra\\u003e\\u003c\\u002fextra\\u003e\",\"legendgroup\":\"1.6481349322075596\",\"marker\":{\"color\":\"#636efa\",\"symbol\":\"diamond\"},\"mode\":\"markers\",\"name\":\"1.6481349322075596\",\"scene\":\"scene\",\"showlegend\":true,\"x\":[0.16422775548733395],\"y\":[1.6481349322075596],\"z\":[175.50804327006605],\"type\":\"scatter3d\"},{\"hovertemplate\":\"feature2=%{y}\\u003cbr\\u003efeature1=%{x}\\u003cbr\\u003eoutput=%{z}\\u003cextra\\u003e\\u003c\\u002fextra\\u003e\",\"legendgroup\":\"-0.017020413861440594\",\"marker\":{\"color\":\"#636efa\",\"symbol\":\"square\"},\"mode\":\"markers\",\"name\":\"-0.017020413861440594\",\"scene\":\"scene\",\"showlegend\":true,\"x\":[0.3791517355550818],\"y\":[-0.017020413861440594],\"z\":[32.07510443130853],\"type\":\"scatter3d\"},{\"hovertemplate\":\"feature2=%{y}\\u003cbr\\u003efeature1=%{x}\\u003cbr\\u003eoutput=%{z}\\u003cextra\\u003e\\u003c\\u002fextra\\u003e\",\"legendgroup\":\"0.27992459904323824\",\"marker\":{\"color\":\"#636efa\",\"symbol\":\"x\"},\"mode\":\"markers\",\"name\":\"0.27992459904323824\",\"scene\":\"scene\",\"showlegend\":true,\"x\":[-0.09815038964295794],\"y\":[0.27992459904323824],\"z\":[18.593598333606778],\"type\":\"scatter3d\"},{\"hovertemplate\":\"feature2=%{y}\\u003cbr\\u003efeature1=%{x}\\u003cbr\\u003eoutput=%{z}\\u003cextra\\u003e\\u003c\\u002fextra\\u003e\",\"legendgroup\":\"-0.11816404512856976\",\"marker\":{\"color\":\"#636efa\",\"symbol\":\"cross\"},\"mode\":\"markers\",\"name\":\"-0.11816404512856976\",\"scene\":\"scene\",\"showlegend\":true,\"x\":[-0.6801782039968504],\"y\":[-0.11816404512856976],\"z\":[-72.05730245209432],\"type\":\"scatter3d\"},{\"hovertemplate\":\"feature2=%{y}\\u003cbr\\u003efeature1=%{x}\\u003cbr\\u003eoutput=%{z}\\u003cextra\\u003e\\u003c\\u002fextra\\u003e\",\"legendgroup\":\"1.068509399316009\",\"marker\":{\"color\":\"#636efa\",\"symbol\":\"circle\"},\"mode\":\"markers\",\"name\":\"1.068509399316009\",\"scene\":\"scene\",\"showlegend\":true,\"x\":[-0.45338580385138766],\"y\":[1.068509399316009],\"z\":[63.968648506448694],\"type\":\"scatter3d\"},{\"hovertemplate\":\"feature2=%{y}\\u003cbr\\u003efeature1=%{x}\\u003cbr\\u003eoutput=%{z}\\u003cextra\\u003e\\u003c\\u002fextra\\u003e\",\"legendgroup\":\"0.6937731526901325\",\"marker\":{\"color\":\"#636efa\",\"symbol\":\"diamond\"},\"mode\":\"markers\",\"name\":\"0.6937731526901325\",\"scene\":\"scene\",\"showlegend\":true,\"x\":[-0.1595734381462669],\"y\":[0.6937731526901325],\"z\":[53.52917232716199],\"type\":\"scatter3d\"},{\"hovertemplate\":\"feature2=%{y}\\u003cbr\\u003efeature1=%{x}\\u003cbr\\u003eoutput=%{z}\\u003cextra\\u003e\\u003c\\u002fextra\\u003e\",\"legendgroup\":\"-0.5175190425104033\",\"marker\":{\"color\":\"#636efa\",\"symbol\":\"square\"},\"mode\":\"markers\",\"name\":\"-0.5175190425104033\",\"scene\":\"scene\",\"showlegend\":true,\"x\":[-0.9788298593587699],\"y\":[-0.5175190425104033],\"z\":[-137.61719702216178],\"type\":\"scatter3d\"},{\"hovertemplate\":\"feature2=%{y}\\u003cbr\\u003efeature1=%{x}\\u003cbr\\u003eoutput=%{z}\\u003cextra\\u003e\\u003c\\u002fextra\\u003e\",\"legendgroup\":\"-0.130106954193704\",\"marker\":{\"color\":\"#636efa\",\"symbol\":\"x\"},\"mode\":\"markers\",\"name\":\"-0.130106954193704\",\"scene\":\"scene\",\"showlegend\":true,\"x\":[0.09395322938556872],\"y\":[-0.130106954193704],\"z\":[-4.341476016785268],\"type\":\"scatter3d\"},{\"hovertemplate\":\"feature2=%{y}\\u003cbr\\u003efeature1=%{x}\\u003cbr\\u003eoutput=%{z}\\u003cextra\\u003e\\u003c\\u002fextra\\u003e\",\"legendgroup\":\"-1.0452533661469547\",\"marker\":{\"color\":\"#636efa\",\"symbol\":\"cross\"},\"mode\":\"markers\",\"name\":\"-1.0452533661469547\",\"scene\":\"scene\",\"showlegend\":true,\"x\":[1.2111452896827009],\"y\":[-1.0452533661469547],\"z\":[5.726623494941393],\"type\":\"scatter3d\"},{\"hovertemplate\":\"feature2=%{y}\\u003cbr\\u003efeature1=%{x}\\u003cbr\\u003eoutput=%{z}\\u003cextra\\u003e\\u003c\\u002fextra\\u003e\",\"legendgroup\":\"0.1993001968964652\",\"marker\":{\"color\":\"#636efa\",\"symbol\":\"circle\"},\"mode\":\"markers\",\"name\":\"0.1993001968964652\",\"scene\":\"scene\",\"showlegend\":true,\"x\":[-0.050603540961665895],\"y\":[0.1993001968964652],\"z\":[14.95352572003563],\"type\":\"scatter3d\"},{\"hovertemplate\":\"feature2=%{y}\\u003cbr\\u003efeature1=%{x}\\u003cbr\\u003eoutput=%{z}\\u003cextra\\u003e\\u003c\\u002fextra\\u003e\",\"legendgroup\":\"-0.2918373627478628\",\"marker\":{\"color\":\"#636efa\",\"symbol\":\"diamond\"},\"mode\":\"markers\",\"name\":\"-0.2918373627478628\",\"scene\":\"scene\",\"showlegend\":true,\"x\":[-0.7614922118116233],\"y\":[-0.2918373627478628],\"z\":[-96.24700625718116],\"type\":\"scatter3d\"},{\"hovertemplate\":\"feature2=%{y}\\u003cbr\\u003efeature1=%{x}\\u003cbr\\u003eoutput=%{z}\\u003cextra\\u003e\\u003c\\u002fextra\\u003e\",\"legendgroup\":\"-1.3342584714027534\",\"marker\":{\"color\":\"#636efa\",\"symbol\":\"square\"},\"mode\":\"markers\",\"name\":\"-1.3342584714027534\",\"scene\":\"scene\",\"showlegend\":true,\"x\":[-1.3467175057975553],\"y\":[-1.3342584714027534],\"z\":[-250.08380551468576],\"type\":\"scatter3d\"},{\"hovertemplate\":\"feature2=%{y}\\u003cbr\\u003efeature1=%{x}\\u003cbr\\u003eoutput=%{z}\\u003cextra\\u003e\\u003c\\u002fextra\\u003e\",\"legendgroup\":\"0.0977249677148556\",\"marker\":{\"color\":\"#636efa\",\"symbol\":\"x\"},\"mode\":\"markers\",\"name\":\"0.0977249677148556\",\"scene\":\"scene\",\"showlegend\":true,\"x\":[0.5829536797532936],\"y\":[0.0977249677148556],\"z\":[61.41101076895036],\"type\":\"scatter3d\"},{\"hovertemplate\":\"feature2=%{y}\\u003cbr\\u003efeature1=%{x}\\u003cbr\\u003eoutput=%{z}\\u003cextra\\u003e\\u003c\\u002fextra\\u003e\",\"legendgroup\":\"0.9430460873225178\",\"marker\":{\"color\":\"#636efa\",\"symbol\":\"cross\"},\"mode\":\"markers\",\"name\":\"0.9430460873225178\",\"scene\":\"scene\",\"showlegend\":true,\"x\":[-2.7396771671895563],\"y\":[0.9430460873225178],\"z\":[-151.7121571810001],\"type\":\"scatter3d\"},{\"hovertemplate\":\"feature2=%{y}\\u003cbr\\u003efeature1=%{x}\\u003cbr\\u003eoutput=%{z}\\u003cextra\\u003e\\u003c\\u002fextra\\u003e\",\"legendgroup\":\"0.7732529774025997\",\"marker\":{\"color\":\"#636efa\",\"symbol\":\"circle\"},\"mode\":\"markers\",\"name\":\"0.7732529774025997\",\"scene\":\"scene\",\"showlegend\":true,\"x\":[-1.1838806401933177],\"y\":[0.7732529774025997],\"z\":[-29.854008275020462],\"type\":\"scatter3d\"},{\"hovertemplate\":\"feature2=%{y}\\u003cbr\\u003efeature1=%{x}\\u003cbr\\u003eoutput=%{z}\\u003cextra\\u003e\\u003c\\u002fextra\\u003e\",\"legendgroup\":\"1.1285940645145685\",\"marker\":{\"color\":\"#636efa\",\"symbol\":\"diamond\"},\"mode\":\"markers\",\"name\":\"1.1285940645145685\",\"scene\":\"scene\",\"showlegend\":true,\"x\":[0.4960009463439622],\"y\":[1.1285940645145685],\"z\":[154.31009850486203],\"type\":\"scatter3d\"},{\"hovertemplate\":\"feature2=%{y}\\u003cbr\\u003efeature1=%{x}\\u003cbr\\u003eoutput=%{z}\\u003cextra\\u003e\\u003c\\u002fextra\\u003e\",\"legendgroup\":\"0.8579239242923363\",\"marker\":{\"color\":\"#636efa\",\"symbol\":\"square\"},\"mode\":\"markers\",\"name\":\"0.8579239242923363\",\"scene\":\"scene\",\"showlegend\":true,\"x\":[1.1411018666575734],\"y\":[0.8579239242923363],\"z\":[185.28725544952644],\"type\":\"scatter3d\"},{\"hovertemplate\":\"feature2=%{y}\\u003cbr\\u003efeature1=%{x}\\u003cbr\\u003eoutput=%{z}\\u003cextra\\u003e\\u003c\\u002fextra\\u003e\",\"legendgroup\":\"-0.18505367100934153\",\"marker\":{\"color\":\"#636efa\",\"symbol\":\"x\"},\"mode\":\"markers\",\"name\":\"-0.18505367100934153\",\"scene\":\"scene\",\"showlegend\":true,\"x\":[-0.8076484876163557],\"y\":[-0.18505367100934153],\"z\":[-89.92946436745271],\"type\":\"scatter3d\"},{\"hovertemplate\":\"feature2=%{y}\\u003cbr\\u003efeature1=%{x}\\u003cbr\\u003eoutput=%{z}\\u003cextra\\u003e\\u003c\\u002fextra\\u003e\",\"legendgroup\":\"-0.7047002758562337\",\"marker\":{\"color\":\"#636efa\",\"symbol\":\"cross\"},\"mode\":\"markers\",\"name\":\"-0.7047002758562337\",\"scene\":\"scene\",\"showlegend\":true,\"x\":[0.9432607249694948],\"y\":[-0.7047002758562337],\"z\":[15.136091511823608],\"type\":\"scatter3d\"},{\"hovertemplate\":\"feature2=%{y}\\u003cbr\\u003efeature1=%{x}\\u003cbr\\u003eoutput=%{z}\\u003cextra\\u003e\\u003c\\u002fextra\\u003e\",\"legendgroup\":\"-1.1268258087567435\",\"marker\":{\"color\":\"#636efa\",\"symbol\":\"circle\"},\"mode\":\"markers\",\"name\":\"-1.1268258087567435\",\"scene\":\"scene\",\"showlegend\":true,\"x\":[-0.7306777528648248],\"y\":[-1.1268258087567435],\"z\":[-175.01887021554427],\"type\":\"scatter3d\"},{\"hovertemplate\":\"feature2=%{y}\\u003cbr\\u003efeature1=%{x}\\u003cbr\\u003eoutput=%{z}\\u003cextra\\u003e\\u003c\\u002fextra\\u003e\",\"legendgroup\":\"-2.2886200400145285\",\"marker\":{\"color\":\"#636efa\",\"symbol\":\"diamond\"},\"mode\":\"markers\",\"name\":\"-2.2886200400145285\",\"scene\":\"scene\",\"showlegend\":true,\"x\":[0.251484415021537],\"y\":[-2.2886200400145285],\"z\":[-201.04403797758098],\"type\":\"scatter3d\"},{\"hovertemplate\":\"feature2=%{y}\\u003cbr\\u003efeature1=%{x}\\u003cbr\\u003eoutput=%{z}\\u003cextra\\u003e\\u003c\\u002fextra\\u003e\",\"legendgroup\":\"0.5232766605317537\",\"marker\":{\"color\":\"#636efa\",\"symbol\":\"square\"},\"mode\":\"markers\",\"name\":\"0.5232766605317537\",\"scene\":\"scene\",\"showlegend\":true,\"x\":[-0.1715463312222481],\"y\":[0.5232766605317537],\"z\":[35.819526778944876],\"type\":\"scatter3d\"},{\"hovertemplate\":\"feature2=%{y}\\u003cbr\\u003efeature1=%{x}\\u003cbr\\u003eoutput=%{z}\\u003cextra\\u003e\\u003c\\u002fextra\\u003e\",\"legendgroup\":\"0.28634368889227957\",\"marker\":{\"color\":\"#636efa\",\"symbol\":\"x\"},\"mode\":\"markers\",\"name\":\"0.28634368889227957\",\"scene\":\"scene\",\"showlegend\":true,\"x\":[0.6088438344754508],\"y\":[0.28634368889227957],\"z\":[82.12814393469144],\"type\":\"scatter3d\"},{\"hovertemplate\":\"feature2=%{y}\\u003cbr\\u003efeature1=%{x}\\u003cbr\\u003eoutput=%{z}\\u003cextra\\u003e\\u003c\\u002fextra\\u003e\",\"legendgroup\":\"-1.4465346995633879\",\"marker\":{\"color\":\"#636efa\",\"symbol\":\"cross\"},\"mode\":\"markers\",\"name\":\"-1.4465346995633879\",\"scene\":\"scene\",\"showlegend\":true,\"x\":[0.8002979493400275],\"y\":[-1.4465346995633879],\"z\":[-70.00442582011097],\"type\":\"scatter3d\"},{\"hovertemplate\":\"feature2=%{y}\\u003cbr\\u003efeature1=%{x}\\u003cbr\\u003eoutput=%{z}\\u003cextra\\u003e\\u003c\\u002fextra\\u003e\",\"legendgroup\":\"0.9101789080925919\",\"marker\":{\"color\":\"#636efa\",\"symbol\":\"circle\"},\"mode\":\"markers\",\"name\":\"0.9101789080925919\",\"scene\":\"scene\",\"showlegend\":true,\"x\":[0.31721821519130206],\"y\":[0.9101789080925919],\"z\":[117.0798764000561],\"type\":\"scatter3d\"},{\"hovertemplate\":\"feature2=%{y}\\u003cbr\\u003efeature1=%{x}\\u003cbr\\u003eoutput=%{z}\\u003cextra\\u003e\\u003c\\u002fextra\\u003e\",\"legendgroup\":\"0.2745163577239395\",\"marker\":{\"color\":\"#636efa\",\"symbol\":\"diamond\"},\"mode\":\"markers\",\"name\":\"0.2745163577239395\",\"scene\":\"scene\",\"showlegend\":true,\"x\":[-0.8909150829955279],\"y\":[0.2745163577239395],\"z\":[-52.47406758330938],\"type\":\"scatter3d\"},{\"hovertemplate\":\"feature2=%{y}\\u003cbr\\u003efeature1=%{x}\\u003cbr\\u003eoutput=%{z}\\u003cextra\\u003e\\u003c\\u002fextra\\u003e\",\"legendgroup\":\"-2.0946030712061448\",\"marker\":{\"color\":\"#636efa\",\"symbol\":\"square\"},\"mode\":\"markers\",\"name\":\"-2.0946030712061448\",\"scene\":\"scene\",\"showlegend\":true,\"x\":[0.12372191423350658],\"y\":[-2.0946030712061448],\"z\":[-193.47182984123543],\"type\":\"scatter3d\"},{\"hovertemplate\":\"feature2=%{y}\\u003cbr\\u003efeature1=%{x}\\u003cbr\\u003eoutput=%{z}\\u003cextra\\u003e\\u003c\\u002fextra\\u003e\",\"legendgroup\":\"0.5672902778526694\",\"marker\":{\"color\":\"#636efa\",\"symbol\":\"x\"},\"mode\":\"markers\",\"name\":\"0.5672902778526694\",\"scene\":\"scene\",\"showlegend\":true,\"x\":[-0.2226751005151545],\"y\":[0.5672902778526694],\"z\":[35.56684359808665],\"type\":\"scatter3d\"},{\"hovertemplate\":\"feature2=%{y}\\u003cbr\\u003efeature1=%{x}\\u003cbr\\u003eoutput=%{z}\\u003cextra\\u003e\\u003c\\u002fextra\\u003e\",\"legendgroup\":\"0.42625873077810095\",\"marker\":{\"color\":\"#636efa\",\"symbol\":\"cross\"},\"mode\":\"markers\",\"name\":\"0.42625873077810095\",\"scene\":\"scene\",\"showlegend\":true,\"x\":[0.6769080350302455],\"y\":[0.42625873077810095],\"z\":[101.84331878237629],\"type\":\"scatter3d\"},{\"hovertemplate\":\"feature2=%{y}\\u003cbr\\u003efeature1=%{x}\\u003cbr\\u003eoutput=%{z}\\u003cextra\\u003e\\u003c\\u002fextra\\u003e\",\"legendgroup\":\"1.9559123082506942\",\"marker\":{\"color\":\"#636efa\",\"symbol\":\"circle\"},\"mode\":\"markers\",\"name\":\"1.9559123082506942\",\"scene\":\"scene\",\"showlegend\":true,\"x\":[0.39009332268792646],\"y\":[1.9559123082506942],\"z\":[225.65143547290063],\"type\":\"scatter3d\"},{\"hovertemplate\":\"feature2=%{y}\\u003cbr\\u003efeature1=%{x}\\u003cbr\\u003eoutput=%{z}\\u003cextra\\u003e\\u003c\\u002fextra\\u003e\",\"legendgroup\":\"-0.9855107376841507\",\"marker\":{\"color\":\"#636efa\",\"symbol\":\"diamond\"},\"mode\":\"markers\",\"name\":\"-0.9855107376841507\",\"scene\":\"scene\",\"showlegend\":true,\"x\":[-1.4718350074635869],\"y\":[-0.9855107376841507],\"z\":[-227.17103267121473],\"type\":\"scatter3d\"},{\"hovertemplate\":\"feature2=%{y}\\u003cbr\\u003efeature1=%{x}\\u003cbr\\u003eoutput=%{z}\\u003cextra\\u003e\\u003c\\u002fextra\\u003e\",\"legendgroup\":\"0.1565065379653756\",\"marker\":{\"color\":\"#636efa\",\"symbol\":\"square\"},\"mode\":\"markers\",\"name\":\"0.1565065379653756\",\"scene\":\"scene\",\"showlegend\":true,\"x\":[0.23218103620027578],\"y\":[0.1565065379653756],\"z\":[35.93789120180669],\"type\":\"scatter3d\"},{\"hovertemplate\":\"feature2=%{y}\\u003cbr\\u003efeature1=%{x}\\u003cbr\\u003eoutput=%{z}\\u003cextra\\u003e\\u003c\\u002fextra\\u003e\",\"legendgroup\":\"0.7863279621089762\",\"marker\":{\"color\":\"#636efa\",\"symbol\":\"x\"},\"mode\":\"markers\",\"name\":\"0.7863279621089762\",\"scene\":\"scene\",\"showlegend\":true,\"x\":[-0.46641909673594306],\"y\":[0.7863279621089762],\"z\":[35.261678298142456],\"type\":\"scatter3d\"},{\"hovertemplate\":\"feature2=%{y}\\u003cbr\\u003efeature1=%{x}\\u003cbr\\u003eoutput=%{z}\\u003cextra\\u003e\\u003c\\u002fextra\\u003e\",\"legendgroup\":\"-0.6920498477843912\",\"marker\":{\"color\":\"#636efa\",\"symbol\":\"cross\"},\"mode\":\"markers\",\"name\":\"-0.6920498477843912\",\"scene\":\"scene\",\"showlegend\":true,\"x\":[1.5363770542457977],\"y\":[-0.6920498477843912],\"z\":[69.14617349799641],\"type\":\"scatter3d\"},{\"hovertemplate\":\"feature2=%{y}\\u003cbr\\u003efeature1=%{x}\\u003cbr\\u003eoutput=%{z}\\u003cextra\\u003e\\u003c\\u002fextra\\u003e\",\"legendgroup\":\"-0.3091144447717088\",\"marker\":{\"color\":\"#636efa\",\"symbol\":\"circle\"},\"mode\":\"markers\",\"name\":\"-0.3091144447717088\",\"scene\":\"scene\",\"showlegend\":true,\"x\":[-0.23346666154369272],\"y\":[-0.3091144447717088],\"z\":[-50.95026083635163],\"type\":\"scatter3d\"},{\"hovertemplate\":\"feature2=%{y}\\u003cbr\\u003efeature1=%{x}\\u003cbr\\u003eoutput=%{z}\\u003cextra\\u003e\\u003c\\u002fextra\\u003e\",\"legendgroup\":\"-0.0392828182274956\",\"marker\":{\"color\":\"#636efa\",\"symbol\":\"diamond\"},\"mode\":\"markers\",\"name\":\"-0.0392828182274956\",\"scene\":\"scene\",\"showlegend\":true,\"x\":[-1.1680934977411974],\"y\":[-0.0392828182274956],\"z\":[-107.7711079711873],\"type\":\"scatter3d\"},{\"hovertemplate\":\"feature2=%{y}\\u003cbr\\u003efeature1=%{x}\\u003cbr\\u003eoutput=%{z}\\u003cextra\\u003e\\u003c\\u002fextra\\u003e\",\"legendgroup\":\"0.3990463456401302\",\"marker\":{\"color\":\"#636efa\",\"symbol\":\"square\"},\"mode\":\"markers\",\"name\":\"0.3990463456401302\",\"scene\":\"scene\",\"showlegend\":true,\"x\":[-2.77259275642665],\"y\":[0.3990463456401302],\"z\":[-207.74761630539297],\"type\":\"scatter3d\"},{\"hovertemplate\":\"feature2=%{y}\\u003cbr\\u003efeature1=%{x}\\u003cbr\\u003eoutput=%{z}\\u003cextra\\u003e\\u003c\\u002fextra\\u003e\",\"legendgroup\":\"-1.4240609089825316\",\"marker\":{\"color\":\"#636efa\",\"symbol\":\"x\"},\"mode\":\"markers\",\"name\":\"-1.4240609089825316\",\"scene\":\"scene\",\"showlegend\":true,\"x\":[-0.49331988336219407],\"y\":[-1.4240609089825316],\"z\":[-182.9157708484256],\"type\":\"scatter3d\"},{\"hovertemplate\":\"feature2=%{y}\\u003cbr\\u003efeature1=%{x}\\u003cbr\\u003eoutput=%{z}\\u003cextra\\u003e\\u003c\\u002fextra\\u003e\",\"legendgroup\":\"1.3645318481024713\",\"marker\":{\"color\":\"#636efa\",\"symbol\":\"cross\"},\"mode\":\"markers\",\"name\":\"1.3645318481024713\",\"scene\":\"scene\",\"showlegend\":true,\"x\":[-0.6894491845499376],\"y\":[1.3645318481024713],\"z\":[71.8623497863617],\"type\":\"scatter3d\"},{\"hovertemplate\":\"feature2=%{y}\\u003cbr\\u003efeature1=%{x}\\u003cbr\\u003eoutput=%{z}\\u003cextra\\u003e\\u003c\\u002fextra\\u003e\",\"legendgroup\":\"2.259308950690852\",\"marker\":{\"color\":\"#636efa\",\"symbol\":\"circle\"},\"mode\":\"markers\",\"name\":\"2.259308950690852\",\"scene\":\"scene\",\"showlegend\":true,\"x\":[-0.04225715166064269],\"y\":[2.259308950690852],\"z\":[216.7995233848234],\"type\":\"scatter3d\"},{\"hovertemplate\":\"feature2=%{y}\\u003cbr\\u003efeature1=%{x}\\u003cbr\\u003eoutput=%{z}\\u003cextra\\u003e\\u003c\\u002fextra\\u003e\",\"legendgroup\":\"-0.27567053456055696\",\"marker\":{\"color\":\"#636efa\",\"symbol\":\"diamond\"},\"mode\":\"markers\",\"name\":\"-0.27567053456055696\",\"scene\":\"scene\",\"showlegend\":true,\"x\":[-0.7097279658468882],\"y\":[-0.27567053456055696],\"z\":[-90.06280923086071],\"type\":\"scatter3d\"},{\"hovertemplate\":\"feature2=%{y}\\u003cbr\\u003efeature1=%{x}\\u003cbr\\u003eoutput=%{z}\\u003cextra\\u003e\\u003c\\u002fextra\\u003e\",\"legendgroup\":\"-0.042171451290578935\",\"marker\":{\"color\":\"#636efa\",\"symbol\":\"square\"},\"mode\":\"markers\",\"name\":\"-0.042171451290578935\",\"scene\":\"scene\",\"showlegend\":true,\"x\":[-0.2868871923899076],\"y\":[-0.042171451290578935],\"z\":[-29.64392569189669],\"type\":\"scatter3d\"},{\"hovertemplate\":\"feature2=%{y}\\u003cbr\\u003efeature1=%{x}\\u003cbr\\u003eoutput=%{z}\\u003cextra\\u003e\\u003c\\u002fextra\\u003e\",\"legendgroup\":\"-0.6280875596415789\",\"marker\":{\"color\":\"#636efa\",\"symbol\":\"x\"},\"mode\":\"markers\",\"name\":\"-0.6280875596415789\",\"scene\":\"scene\",\"showlegend\":true,\"x\":[-0.4810271184607877],\"y\":[-0.6280875596415789],\"z\":[-104.11700732028774],\"type\":\"scatter3d\"},{\"hovertemplate\":\"feature2=%{y}\\u003cbr\\u003efeature1=%{x}\\u003cbr\\u003eoutput=%{z}\\u003cextra\\u003e\\u003c\\u002fextra\\u003e\",\"legendgroup\":\"-0.764143923906443\",\"marker\":{\"color\":\"#636efa\",\"symbol\":\"cross\"},\"mode\":\"markers\",\"name\":\"-0.764143923906443\",\"scene\":\"scene\",\"showlegend\":true,\"x\":[-1.4377914738015785],\"y\":[-0.764143923906443],\"z\":[-202.53146417699014],\"type\":\"scatter3d\"},{\"hovertemplate\":\"feature2=%{y}\\u003cbr\\u003efeature1=%{x}\\u003cbr\\u003eoutput=%{z}\\u003cextra\\u003e\\u003c\\u002fextra\\u003e\",\"legendgroup\":\"1.3191368763015756\",\"marker\":{\"color\":\"#636efa\",\"symbol\":\"circle\"},\"mode\":\"markers\",\"name\":\"1.3191368763015756\",\"scene\":\"scene\",\"showlegend\":true,\"x\":[-0.8824188185499185],\"y\":[1.3191368763015756],\"z\":[50.26046051800198],\"type\":\"scatter3d\"},{\"hovertemplate\":\"feature2=%{y}\\u003cbr\\u003efeature1=%{x}\\u003cbr\\u003eoutput=%{z}\\u003cextra\\u003e\\u003c\\u002fextra\\u003e\",\"legendgroup\":\"-0.9444462559182504\",\"marker\":{\"color\":\"#636efa\",\"symbol\":\"diamond\"},\"mode\":\"markers\",\"name\":\"-0.9444462559182504\",\"scene\":\"scene\",\"showlegend\":true,\"x\":[-0.41004969320254847],\"y\":[-0.9444462559182504],\"z\":[-128.68522886193378],\"type\":\"scatter3d\"},{\"hovertemplate\":\"feature2=%{y}\\u003cbr\\u003efeature1=%{x}\\u003cbr\\u003eoutput=%{z}\\u003cextra\\u003e\\u003c\\u002fextra\\u003e\",\"legendgroup\":\"-0.13594970067832082\",\"marker\":{\"color\":\"#636efa\",\"symbol\":\"square\"},\"mode\":\"markers\",\"name\":\"-0.13594970067832082\",\"scene\":\"scene\",\"showlegend\":true,\"x\":[1.1368913626026953],\"y\":[-0.13594970067832082],\"z\":[87.88811357705629],\"type\":\"scatter3d\"},{\"hovertemplate\":\"feature2=%{y}\\u003cbr\\u003efeature1=%{x}\\u003cbr\\u003eoutput=%{z}\\u003cextra\\u003e\\u003c\\u002fextra\\u003e\",\"legendgroup\":\"-1.936279805846507\",\"marker\":{\"color\":\"#636efa\",\"symbol\":\"x\"},\"mode\":\"markers\",\"name\":\"-1.936279805846507\",\"scene\":\"scene\",\"showlegend\":true,\"x\":[0.18877859679382855],\"y\":[-1.936279805846507],\"z\":[-172.2272040194901],\"type\":\"scatter3d\"},{\"hovertemplate\":\"feature2=%{y}\\u003cbr\\u003efeature1=%{x}\\u003cbr\\u003eoutput=%{z}\\u003cextra\\u003e\\u003c\\u002fextra\\u003e\",\"legendgroup\":\"-0.955945000492777\",\"marker\":{\"color\":\"#636efa\",\"symbol\":\"cross\"},\"mode\":\"markers\",\"name\":\"-0.955945000492777\",\"scene\":\"scene\",\"showlegend\":true,\"x\":[-0.34598177569938643],\"y\":[-0.955945000492777],\"z\":[-124.10704315945013],\"type\":\"scatter3d\"},{\"hovertemplate\":\"feature2=%{y}\\u003cbr\\u003efeature1=%{x}\\u003cbr\\u003eoutput=%{z}\\u003cextra\\u003e\\u003c\\u002fextra\\u003e\",\"legendgroup\":\"-0.4635959746460942\",\"marker\":{\"color\":\"#636efa\",\"symbol\":\"circle\"},\"mode\":\"markers\",\"name\":\"-0.4635959746460942\",\"scene\":\"scene\",\"showlegend\":true,\"x\":[0.4814814737734622],\"y\":[-0.4635959746460942],\"z\":[-2.415512686372722],\"type\":\"scatter3d\"},{\"hovertemplate\":\"feature2=%{y}\\u003cbr\\u003efeature1=%{x}\\u003cbr\\u003eoutput=%{z}\\u003cextra\\u003e\\u003c\\u002fextra\\u003e\",\"legendgroup\":\"-0.65240858238702\",\"marker\":{\"color\":\"#636efa\",\"symbol\":\"diamond\"},\"mode\":\"markers\",\"name\":\"-0.65240858238702\",\"scene\":\"scene\",\"showlegend\":true,\"x\":[-0.3909533751876011],\"y\":[-0.65240858238702],\"z\":[-98.47658343916356],\"type\":\"scatter3d\"},{\"hovertemplate\":\"feature2=%{y}\\u003cbr\\u003efeature1=%{x}\\u003cbr\\u003eoutput=%{z}\\u003cextra\\u003e\\u003c\\u002fextra\\u003e\",\"legendgroup\":\"-0.7196043885517929\",\"marker\":{\"color\":\"#636efa\",\"symbol\":\"square\"},\"mode\":\"markers\",\"name\":\"-0.7196043885517929\",\"scene\":\"scene\",\"showlegend\":true,\"x\":[-0.8129929885540773],\"y\":[-0.7196043885517929],\"z\":[-142.58922755883742],\"type\":\"scatter3d\"},{\"hovertemplate\":\"feature2=%{y}\\u003cbr\\u003efeature1=%{x}\\u003cbr\\u003eoutput=%{z}\\u003cextra\\u003e\\u003c\\u002fextra\\u003e\",\"legendgroup\":\"0.33890412521594454\",\"marker\":{\"color\":\"#636efa\",\"symbol\":\"x\"},\"mode\":\"markers\",\"name\":\"0.33890412521594454\",\"scene\":\"scene\",\"showlegend\":true,\"x\":[2.0210435614847975],\"y\":[0.33890412521594454],\"z\":[212.91586448954467],\"type\":\"scatter3d\"},{\"hovertemplate\":\"feature2=%{y}\\u003cbr\\u003efeature1=%{x}\\u003cbr\\u003eoutput=%{z}\\u003cextra\\u003e\\u003c\\u002fextra\\u003e\",\"legendgroup\":\"-0.6878376110286823\",\"marker\":{\"color\":\"#636efa\",\"symbol\":\"cross\"},\"mode\":\"markers\",\"name\":\"-0.6878376110286823\",\"scene\":\"scene\",\"showlegend\":true,\"x\":[-1.2140774030941206],\"y\":[-0.6878376110286823],\"z\":[-175.17630998819897],\"type\":\"scatter3d\"},{\"hovertemplate\":\"feature2=%{y}\\u003cbr\\u003efeature1=%{x}\\u003cbr\\u003eoutput=%{z}\\u003cextra\\u003e\\u003c\\u002fextra\\u003e\",\"legendgroup\":\"-0.024326124398935636\",\"marker\":{\"color\":\"#636efa\",\"symbol\":\"circle\"},\"mode\":\"markers\",\"name\":\"-0.024326124398935636\",\"scene\":\"scene\",\"showlegend\":true,\"x\":[-0.7380309092056887],\"y\":[-0.024326124398935636],\"z\":[-68.04430082025672],\"type\":\"scatter3d\"},{\"hovertemplate\":\"feature2=%{y}\\u003cbr\\u003efeature1=%{x}\\u003cbr\\u003eoutput=%{z}\\u003cextra\\u003e\\u003c\\u002fextra\\u003e\",\"legendgroup\":\"-0.46886418796679563\",\"marker\":{\"color\":\"#636efa\",\"symbol\":\"diamond\"},\"mode\":\"markers\",\"name\":\"-0.46886418796679563\",\"scene\":\"scene\",\"showlegend\":true,\"x\":[-2.201441285500558],\"y\":[-0.46886418796679563],\"z\":[-241.65457438433333],\"type\":\"scatter3d\"},{\"hovertemplate\":\"feature2=%{y}\\u003cbr\\u003efeature1=%{x}\\u003cbr\\u003eoutput=%{z}\\u003cextra\\u003e\\u003c\\u002fextra\\u003e\",\"legendgroup\":\"-2.659172237996741\",\"marker\":{\"color\":\"#636efa\",\"symbol\":\"square\"},\"mode\":\"markers\",\"name\":\"-2.659172237996741\",\"scene\":\"scene\",\"showlegend\":true,\"x\":[0.6063195243593807],\"y\":[-2.659172237996741],\"z\":[-205.64529157222933],\"type\":\"scatter3d\"},{\"hovertemplate\":\"feature2=%{y}\\u003cbr\\u003efeature1=%{x}\\u003cbr\\u003eoutput=%{z}\\u003cextra\\u003e\\u003c\\u002fextra\\u003e\",\"legendgroup\":\"-1.1043833394284506\",\"marker\":{\"color\":\"#636efa\",\"symbol\":\"x\"},\"mode\":\"markers\",\"name\":\"-1.1043833394284506\",\"scene\":\"scene\",\"showlegend\":true,\"x\":[0.052165079260974405],\"y\":[-1.1043833394284506],\"z\":[-103.17112016264906],\"type\":\"scatter3d\"},{\"hovertemplate\":\"feature2=%{y}\\u003cbr\\u003efeature1=%{x}\\u003cbr\\u003eoutput=%{z}\\u003cextra\\u003e\\u003c\\u002fextra\\u003e\",\"legendgroup\":\"-0.3646935443916854\",\"marker\":{\"color\":\"#636efa\",\"symbol\":\"cross\"},\"mode\":\"markers\",\"name\":\"-0.3646935443916854\",\"scene\":\"scene\",\"showlegend\":true,\"x\":[0.15670385527236397],\"y\":[-0.3646935443916854],\"z\":[-21.658910096918873],\"type\":\"scatter3d\"},{\"hovertemplate\":\"feature2=%{y}\\u003cbr\\u003efeature1=%{x}\\u003cbr\\u003eoutput=%{z}\\u003cextra\\u003e\\u003c\\u002fextra\\u003e\",\"legendgroup\":\"0.8005648034309968\",\"marker\":{\"color\":\"#636efa\",\"symbol\":\"circle\"},\"mode\":\"markers\",\"name\":\"0.8005648034309968\",\"scene\":\"scene\",\"showlegend\":true,\"x\":[0.07826017516166135],\"y\":[0.8005648034309968],\"z\":[85.11673137783649],\"type\":\"scatter3d\"},{\"hovertemplate\":\"feature2=%{y}\\u003cbr\\u003efeature1=%{x}\\u003cbr\\u003eoutput=%{z}\\u003cextra\\u003e\\u003c\\u002fextra\\u003e\",\"legendgroup\":\"-0.26773353689396645\",\"marker\":{\"color\":\"#636efa\",\"symbol\":\"diamond\"},\"mode\":\"markers\",\"name\":\"-0.26773353689396645\",\"scene\":\"scene\",\"showlegend\":true,\"x\":[-1.1280113314700069],\"y\":[-0.26773353689396645],\"z\":[-126.50656768238498],\"type\":\"scatter3d\"},{\"hovertemplate\":\"feature2=%{y}\\u003cbr\\u003efeature1=%{x}\\u003cbr\\u003eoutput=%{z}\\u003cextra\\u003e\\u003c\\u002fextra\\u003e\",\"legendgroup\":\"-0.5973160689653627\",\"marker\":{\"color\":\"#636efa\",\"symbol\":\"square\"},\"mode\":\"markers\",\"name\":\"-0.5973160689653627\",\"scene\":\"scene\",\"showlegend\":true,\"x\":[-0.237921729736007],\"y\":[-0.5973160689653627],\"z\":[-79.48165215669881],\"type\":\"scatter3d\"},{\"hovertemplate\":\"feature2=%{y}\\u003cbr\\u003efeature1=%{x}\\u003cbr\\u003eoutput=%{z}\\u003cextra\\u003e\\u003c\\u002fextra\\u003e\",\"legendgroup\":\"0.8145198224878664\",\"marker\":{\"color\":\"#636efa\",\"symbol\":\"x\"},\"mode\":\"markers\",\"name\":\"0.8145198224878664\",\"scene\":\"scene\",\"showlegend\":true,\"x\":[0.05892558918162996],\"y\":[0.8145198224878664],\"z\":[84.75867695606354],\"type\":\"scatter3d\"},{\"hovertemplate\":\"feature2=%{y}\\u003cbr\\u003efeature1=%{x}\\u003cbr\\u003eoutput=%{z}\\u003cextra\\u003e\\u003c\\u002fextra\\u003e\",\"legendgroup\":\"-0.7395629963913133\",\"marker\":{\"color\":\"#636efa\",\"symbol\":\"cross\"},\"mode\":\"markers\",\"name\":\"-0.7395629963913133\",\"scene\":\"scene\",\"showlegend\":true,\"x\":[1.5430145954067358],\"y\":[-0.7395629963913133],\"z\":[65.09842219777906],\"type\":\"scatter3d\"},{\"hovertemplate\":\"feature2=%{y}\\u003cbr\\u003efeature1=%{x}\\u003cbr\\u003eoutput=%{z}\\u003cextra\\u003e\\u003c\\u002fextra\\u003e\",\"legendgroup\":\"2.16323594928069\",\"marker\":{\"color\":\"#636efa\",\"symbol\":\"circle\"},\"mode\":\"markers\",\"name\":\"2.16323594928069\",\"scene\":\"scene\",\"showlegend\":true,\"x\":[1.336527949436392],\"y\":[2.16323594928069],\"z\":[330.1040540864363],\"type\":\"scatter3d\"},{\"hovertemplate\":\"feature2=%{y}\\u003cbr\\u003efeature1=%{x}\\u003cbr\\u003eoutput=%{z}\\u003cextra\\u003e\\u003c\\u002fextra\\u003e\",\"legendgroup\":\"0.5785214977288784\",\"marker\":{\"color\":\"#636efa\",\"symbol\":\"diamond\"},\"mode\":\"markers\",\"name\":\"0.5785214977288784\",\"scene\":\"scene\",\"showlegend\":true,\"x\":[0.349654456993174],\"y\":[0.5785214977288784],\"z\":[87.58878507231081],\"type\":\"scatter3d\"},{\"hovertemplate\":\"feature2=%{y}\\u003cbr\\u003efeature1=%{x}\\u003cbr\\u003eoutput=%{z}\\u003cextra\\u003e\\u003c\\u002fextra\\u003e\",\"legendgroup\":\"-0.6840108977372166\",\"marker\":{\"color\":\"#636efa\",\"symbol\":\"square\"},\"mode\":\"markers\",\"name\":\"-0.6840108977372166\",\"scene\":\"scene\",\"showlegend\":true,\"x\":[1.6595507961898721],\"y\":[-0.6840108977372166],\"z\":[80.89087785457365],\"type\":\"scatter3d\"},{\"hovertemplate\":\"feature2=%{y}\\u003cbr\\u003efeature1=%{x}\\u003cbr\\u003eoutput=%{z}\\u003cextra\\u003e\\u003c\\u002fextra\\u003e\",\"legendgroup\":\"-2.0306844677814944\",\"marker\":{\"color\":\"#636efa\",\"symbol\":\"x\"},\"mode\":\"markers\",\"name\":\"-2.0306844677814944\",\"scene\":\"scene\",\"showlegend\":true,\"x\":[2.0644928613593194],\"y\":[-2.0306844677814944],\"z\":[-14.5433640010732],\"type\":\"scatter3d\"},{\"hovertemplate\":\"feature2=%{y}\\u003cbr\\u003efeature1=%{x}\\u003cbr\\u003eoutput=%{z}\\u003cextra\\u003e\\u003c\\u002fextra\\u003e\",\"legendgroup\":\"-1.8430695501566485\",\"marker\":{\"color\":\"#636efa\",\"symbol\":\"cross\"},\"mode\":\"markers\",\"name\":\"-1.8430695501566485\",\"scene\":\"scene\",\"showlegend\":true,\"x\":[-0.4779740040404867],\"y\":[-1.8430695501566485],\"z\":[-222.4550031134308],\"type\":\"scatter3d\"},{\"hovertemplate\":\"feature2=%{y}\\u003cbr\\u003efeature1=%{x}\\u003cbr\\u003eoutput=%{z}\\u003cextra\\u003e\\u003c\\u002fextra\\u003e\",\"legendgroup\":\"0.5210648764527586\",\"marker\":{\"color\":\"#636efa\",\"symbol\":\"circle\"},\"mode\":\"markers\",\"name\":\"0.5210648764527586\",\"scene\":\"scene\",\"showlegend\":true,\"x\":[-0.5757879698130661],\"y\":[0.5210648764527586],\"z\":[-0.3655578279745484],\"type\":\"scatter3d\"},{\"hovertemplate\":\"feature2=%{y}\\u003cbr\\u003efeature1=%{x}\\u003cbr\\u003eoutput=%{z}\\u003cextra\\u003e\\u003c\\u002fextra\\u003e\",\"legendgroup\":\"-0.5693120534701851\",\"marker\":{\"color\":\"#636efa\",\"symbol\":\"diamond\"},\"mode\":\"markers\",\"name\":\"-0.5693120534701851\",\"scene\":\"scene\",\"showlegend\":true,\"x\":[0.26990435494076137],\"y\":[-0.5693120534701851],\"z\":[-31.56178542378731],\"type\":\"scatter3d\"},{\"hovertemplate\":\"feature2=%{y}\\u003cbr\\u003efeature1=%{x}\\u003cbr\\u003eoutput=%{z}\\u003cextra\\u003e\\u003c\\u002fextra\\u003e\",\"legendgroup\":\"-0.43918952180214793\",\"marker\":{\"color\":\"#636efa\",\"symbol\":\"square\"},\"mode\":\"markers\",\"name\":\"-0.43918952180214793\",\"scene\":\"scene\",\"showlegend\":true,\"x\":[0.18133842921782128],\"y\":[-0.43918952180214793],\"z\":[-26.73942983154518],\"type\":\"scatter3d\"},{\"hovertemplate\":\"feature2=%{y}\\u003cbr\\u003efeature1=%{x}\\u003cbr\\u003eoutput=%{z}\\u003cextra\\u003e\\u003c\\u002fextra\\u003e\",\"legendgroup\":\"0.8689634868967954\",\"marker\":{\"color\":\"#636efa\",\"symbol\":\"x\"},\"mode\":\"markers\",\"name\":\"0.8689634868967954\",\"scene\":\"scene\",\"showlegend\":true,\"x\":[0.27687190584612803],\"y\":[0.8689634868967954],\"z\":[109.46633219828405],\"type\":\"scatter3d\"},{\"hovertemplate\":\"feature2=%{y}\\u003cbr\\u003efeature1=%{x}\\u003cbr\\u003eoutput=%{z}\\u003cextra\\u003e\\u003c\\u002fextra\\u003e\",\"legendgroup\":\"0.14195316332077967\",\"marker\":{\"color\":\"#636efa\",\"symbol\":\"cross\"},\"mode\":\"markers\",\"name\":\"0.14195316332077967\",\"scene\":\"scene\",\"showlegend\":true,\"x\":[-0.3193284171450952],\"y\":[0.14195316332077967],\"z\":[-14.555807885630436],\"type\":\"scatter3d\"},{\"hovertemplate\":\"feature2=%{y}\\u003cbr\\u003efeature1=%{x}\\u003cbr\\u003eoutput=%{z}\\u003cextra\\u003e\\u003c\\u002fextra\\u003e\",\"legendgroup\":\"-0.3994490292628752\",\"marker\":{\"color\":\"#636efa\",\"symbol\":\"circle\"},\"mode\":\"markers\",\"name\":\"-0.3994490292628752\",\"scene\":\"scene\",\"showlegend\":true,\"x\":[0.37005588784751875],\"y\":[-0.3994490292628752],\"z\":[-6.067901207109017],\"type\":\"scatter3d\"},{\"hovertemplate\":\"feature2=%{y}\\u003cbr\\u003efeature1=%{x}\\u003cbr\\u003eoutput=%{z}\\u003cextra\\u003e\\u003c\\u002fextra\\u003e\",\"legendgroup\":\"1.7327211869191332\",\"marker\":{\"color\":\"#636efa\",\"symbol\":\"diamond\"},\"mode\":\"markers\",\"name\":\"1.7327211869191332\",\"scene\":\"scene\",\"showlegend\":true,\"x\":[0.6845011068591904],\"y\":[1.7327211869191332],\"z\":[230.059163299388],\"type\":\"scatter3d\"},{\"hovertemplate\":\"feature2=%{y}\\u003cbr\\u003efeature1=%{x}\\u003cbr\\u003eoutput=%{z}\\u003cextra\\u003e\\u003c\\u002fextra\\u003e\",\"legendgroup\":\"-0.13370155966843916\",\"marker\":{\"color\":\"#636efa\",\"symbol\":\"square\"},\"mode\":\"markers\",\"name\":\"-0.13370155966843916\",\"scene\":\"scene\",\"showlegend\":true,\"x\":[1.0777438059762627],\"y\":[-0.13370155966843916],\"z\":[82.84467080390192],\"type\":\"scatter3d\"},{\"hovertemplate\":\"feature2=%{y}\\u003cbr\\u003efeature1=%{x}\\u003cbr\\u003eoutput=%{z}\\u003cextra\\u003e\\u003c\\u002fextra\\u003e\",\"legendgroup\":\"0.8758327615873309\",\"marker\":{\"color\":\"#636efa\",\"symbol\":\"x\"},\"mode\":\"markers\",\"name\":\"0.8758327615873309\",\"scene\":\"scene\",\"showlegend\":true,\"x\":[-0.11510746848722672],\"y\":[0.8758327615873309],\"z\":[75.25885234857441],\"type\":\"scatter3d\"},{\"hovertemplate\":\"feature2=%{y}\\u003cbr\\u003efeature1=%{x}\\u003cbr\\u003eoutput=%{z}\\u003cextra\\u003e\\u003c\\u002fextra\\u003e\",\"legendgroup\":\"-0.4668455460527625\",\"marker\":{\"color\":\"#636efa\",\"symbol\":\"cross\"},\"mode\":\"markers\",\"name\":\"-0.4668455460527625\",\"scene\":\"scene\",\"showlegend\":true,\"x\":[-1.4169061131262595],\"y\":[-0.4668455460527625],\"z\":[-171.65006741644714],\"type\":\"scatter3d\"},{\"hovertemplate\":\"feature2=%{y}\\u003cbr\\u003efeature1=%{x}\\u003cbr\\u003eoutput=%{z}\\u003cextra\\u003e\\u003c\\u002fextra\\u003e\",\"legendgroup\":\"-0.7255973784635843\",\"marker\":{\"color\":\"#636efa\",\"symbol\":\"circle\"},\"mode\":\"markers\",\"name\":\"-0.7255973784635843\",\"scene\":\"scene\",\"showlegend\":true,\"x\":[-1.3833639553950554],\"y\":[-0.7255973784635843],\"z\":[-193.92552542568967],\"type\":\"scatter3d\"},{\"hovertemplate\":\"feature2=%{y}\\u003cbr\\u003efeature1=%{x}\\u003cbr\\u003eoutput=%{z}\\u003cextra\\u003e\\u003c\\u002fextra\\u003e\",\"legendgroup\":\"-1.2928569097234486\",\"marker\":{\"color\":\"#636efa\",\"symbol\":\"diamond\"},\"mode\":\"markers\",\"name\":\"-1.2928569097234486\",\"scene\":\"scene\",\"showlegend\":true,\"x\":[0.26705086934918293],\"y\":[-1.2928569097234486],\"z\":[-102.44999249504593],\"type\":\"scatter3d\"},{\"hovertemplate\":\"feature2=%{y}\\u003cbr\\u003efeature1=%{x}\\u003cbr\\u003eoutput=%{z}\\u003cextra\\u003e\\u003c\\u002fextra\\u003e\",\"legendgroup\":\"-0.3691818379424436\",\"marker\":{\"color\":\"#636efa\",\"symbol\":\"square\"},\"mode\":\"markers\",\"name\":\"-0.3691818379424436\",\"scene\":\"scene\",\"showlegend\":true,\"x\":[-0.2393791775759264],\"y\":[-0.3691818379424436],\"z\":[-57.340285837267245],\"type\":\"scatter3d\"},{\"hovertemplate\":\"feature2=%{y}\\u003cbr\\u003efeature1=%{x}\\u003cbr\\u003eoutput=%{z}\\u003cextra\\u003e\\u003c\\u002fextra\\u003e\",\"legendgroup\":\"0.7717905512136674\",\"marker\":{\"color\":\"#636efa\",\"symbol\":\"x\"},\"mode\":\"markers\",\"name\":\"0.7717905512136674\",\"scene\":\"scene\",\"showlegend\":true,\"x\":[0.8235041539637314],\"y\":[0.7717905512136674],\"z\":[148.61905151594317],\"type\":\"scatter3d\"},{\"hovertemplate\":\"feature2=%{y}\\u003cbr\\u003efeature1=%{x}\\u003cbr\\u003eoutput=%{z}\\u003cextra\\u003e\\u003c\\u002fextra\\u003e\",\"legendgroup\":\"0.6252314510271875\",\"marker\":{\"color\":\"#636efa\",\"symbol\":\"cross\"},\"mode\":\"markers\",\"name\":\"0.6252314510271875\",\"scene\":\"scene\",\"showlegend\":true,\"x\":[-1.6020576556067476],\"y\":[0.6252314510271875],\"z\":[-81.51337511276874],\"type\":\"scatter3d\"},{\"hovertemplate\":\"feature2=%{y}\\u003cbr\\u003efeature1=%{x}\\u003cbr\\u003eoutput=%{z}\\u003cextra\\u003e\\u003c\\u002fextra\\u003e\",\"legendgroup\":\"-0.6522935999350191\",\"marker\":{\"color\":\"#636efa\",\"symbol\":\"circle\"},\"mode\":\"markers\",\"name\":\"-0.6522935999350191\",\"scene\":\"scene\",\"showlegend\":true,\"x\":[-0.5211893123011109],\"y\":[-0.6522935999350191],\"z\":[-110.05366962559867],\"type\":\"scatter3d\"},{\"hovertemplate\":\"feature2=%{y}\\u003cbr\\u003efeature1=%{x}\\u003cbr\\u003eoutput=%{z}\\u003cextra\\u003e\\u003c\\u002fextra\\u003e\",\"legendgroup\":\"-0.4409226322925914\",\"marker\":{\"color\":\"#636efa\",\"symbol\":\"diamond\"},\"mode\":\"markers\",\"name\":\"-0.4409226322925914\",\"scene\":\"scene\",\"showlegend\":true,\"x\":[-0.2803554951845091],\"y\":[-0.4409226322925914],\"z\":[-67.98985304064641],\"type\":\"scatter3d\"},{\"hovertemplate\":\"feature2=%{y}\\u003cbr\\u003efeature1=%{x}\\u003cbr\\u003eoutput=%{z}\\u003cextra\\u003e\\u003c\\u002fextra\\u003e\",\"legendgroup\":\"-1.6981058194322545\",\"marker\":{\"color\":\"#636efa\",\"symbol\":\"square\"},\"mode\":\"markers\",\"name\":\"-1.6981058194322545\",\"scene\":\"scene\",\"showlegend\":true,\"x\":[0.3872804753950634],\"y\":[-1.6981058194322545],\"z\":[-131.31347699183047],\"type\":\"scatter3d\"},{\"hovertemplate\":\"feature2=%{y}\\u003cbr\\u003efeature1=%{x}\\u003cbr\\u003eoutput=%{z}\\u003cextra\\u003e\\u003c\\u002fextra\\u003e\",\"legendgroup\":\"0.8416312640736364\",\"marker\":{\"color\":\"#636efa\",\"symbol\":\"x\"},\"mode\":\"markers\",\"name\":\"0.8416312640736364\",\"scene\":\"scene\",\"showlegend\":true,\"x\":[-0.24945858016094885],\"y\":[0.8416312640736364],\"z\":[59.965537698063926],\"type\":\"scatter3d\"},{\"hovertemplate\":\"feature2=%{y}\\u003cbr\\u003efeature1=%{x}\\u003cbr\\u003eoutput=%{z}\\u003cextra\\u003e\\u003c\\u002fextra\\u003e\",\"legendgroup\":\"0.49374177734918845\",\"marker\":{\"color\":\"#636efa\",\"symbol\":\"cross\"},\"mode\":\"markers\",\"name\":\"0.49374177734918845\",\"scene\":\"scene\",\"showlegend\":true,\"x\":[-0.11610393903436653],\"y\":[0.49374177734918845],\"z\":[37.86948457264607],\"type\":\"scatter3d\"},{\"hovertemplate\":\"feature2=%{y}\\u003cbr\\u003efeature1=%{x}\\u003cbr\\u003eoutput=%{z}\\u003cextra\\u003e\\u003c\\u002fextra\\u003e\",\"legendgroup\":\"-0.5428614760167177\",\"marker\":{\"color\":\"#636efa\",\"symbol\":\"circle\"},\"mode\":\"markers\",\"name\":\"-0.5428614760167177\",\"scene\":\"scene\",\"showlegend\":true,\"x\":[0.4160500462614255],\"y\":[-0.5428614760167177],\"z\":[-15.975661266065032],\"type\":\"scatter3d\"},{\"hovertemplate\":\"feature2=%{y}\\u003cbr\\u003efeature1=%{x}\\u003cbr\\u003eoutput=%{z}\\u003cextra\\u003e\\u003c\\u002fextra\\u003e\",\"legendgroup\":\"1.5199948607657727\",\"marker\":{\"color\":\"#636efa\",\"symbol\":\"diamond\"},\"mode\":\"markers\",\"name\":\"1.5199948607657727\",\"scene\":\"scene\",\"showlegend\":true,\"x\":[1.7195893074161945],\"y\":[1.5199948607657727],\"z\":[301.3937648827973],\"type\":\"scatter3d\"},{\"hovertemplate\":\"feature2=%{y}\\u003cbr\\u003efeature1=%{x}\\u003cbr\\u003eoutput=%{z}\\u003cextra\\u003e\\u003c\\u002fextra\\u003e\",\"legendgroup\":\"-1.0546284639850139\",\"marker\":{\"color\":\"#636efa\",\"symbol\":\"square\"},\"mode\":\"markers\",\"name\":\"-1.0546284639850139\",\"scene\":\"scene\",\"showlegend\":true,\"x\":[0.8202478373246812],\"y\":[-1.0546284639850139],\"z\":[-29.970404958637843],\"type\":\"scatter3d\"},{\"hovertemplate\":\"feature2=%{y}\\u003cbr\\u003efeature1=%{x}\\u003cbr\\u003eoutput=%{z}\\u003cextra\\u003e\\u003c\\u002fextra\\u003e\",\"legendgroup\":\"1.0996595958871132\",\"marker\":{\"color\":\"#636efa\",\"symbol\":\"x\"},\"mode\":\"markers\",\"name\":\"1.0996595958871132\",\"scene\":\"scene\",\"showlegend\":true,\"x\":[0.6552637307225978],\"y\":[1.0996595958871132],\"z\":[165.6565429464063],\"type\":\"scatter3d\"},{\"hovertemplate\":\"feature2=%{y}\\u003cbr\\u003efeature1=%{x}\\u003cbr\\u003eoutput=%{z}\\u003cextra\\u003e\\u003c\\u002fextra\\u003e\",\"legendgroup\":\"1.4665787155741776\",\"marker\":{\"color\":\"#636efa\",\"symbol\":\"cross\"},\"mode\":\"markers\",\"name\":\"1.4665787155741776\",\"scene\":\"scene\",\"showlegend\":true,\"x\":[0.852551939461232],\"y\":[1.4665787155741776],\"z\":[219.0307087141599],\"type\":\"scatter3d\"},{\"hovertemplate\":\"feature2=%{y}\\u003cbr\\u003efeature1=%{x}\\u003cbr\\u003eoutput=%{z}\\u003cextra\\u003e\\u003c\\u002fextra\\u003e\",\"legendgroup\":\"-1.5407970144446248\",\"marker\":{\"color\":\"#636efa\",\"symbol\":\"circle\"},\"mode\":\"markers\",\"name\":\"-1.5407970144446248\",\"scene\":\"scene\",\"showlegend\":true,\"x\":[0.06326199420033171],\"y\":[-1.5407970144446248],\"z\":[-144.78754665403193],\"type\":\"scatter3d\"},{\"hovertemplate\":\"feature2=%{y}\\u003cbr\\u003efeature1=%{x}\\u003cbr\\u003eoutput=%{z}\\u003cextra\\u003e\\u003c\\u002fextra\\u003e\",\"legendgroup\":\"0.3708250012811021\",\"marker\":{\"color\":\"#636efa\",\"symbol\":\"diamond\"},\"mode\":\"markers\",\"name\":\"0.3708250012811021\",\"scene\":\"scene\",\"showlegend\":true,\"x\":[0.14206180518723566],\"y\":[0.3708250012811021],\"z\":[48.84145759797119],\"type\":\"scatter3d\"},{\"hovertemplate\":\"feature2=%{y}\\u003cbr\\u003efeature1=%{x}\\u003cbr\\u003eoutput=%{z}\\u003cextra\\u003e\\u003c\\u002fextra\\u003e\",\"legendgroup\":\"-0.5986539369229861\",\"marker\":{\"color\":\"#636efa\",\"symbol\":\"square\"},\"mode\":\"markers\",\"name\":\"-0.5986539369229861\",\"scene\":\"scene\",\"showlegend\":true,\"x\":[-1.1158969859603944],\"y\":[-0.5986539369229861],\"z\":[-157.73393961061404],\"type\":\"scatter3d\"},{\"hovertemplate\":\"feature2=%{y}\\u003cbr\\u003efeature1=%{x}\\u003cbr\\u003eoutput=%{z}\\u003cextra\\u003e\\u003c\\u002fextra\\u003e\",\"legendgroup\":\"0.5238910238342056\",\"marker\":{\"color\":\"#636efa\",\"symbol\":\"x\"},\"mode\":\"markers\",\"name\":\"0.5238910238342056\",\"scene\":\"scene\",\"showlegend\":true,\"x\":[0.08842208704466141],\"y\":[0.5238910238342056],\"z\":[59.011327446206344],\"type\":\"scatter3d\"},{\"hovertemplate\":\"feature2=%{y}\\u003cbr\\u003efeature1=%{x}\\u003cbr\\u003eoutput=%{z}\\u003cextra\\u003e\\u003c\\u002fextra\\u003e\",\"legendgroup\":\"-1.7685384506770307\",\"marker\":{\"color\":\"#636efa\",\"symbol\":\"cross\"},\"mode\":\"markers\",\"name\":\"-1.7685384506770307\",\"scene\":\"scene\",\"showlegend\":true,\"x\":[0.35548179274376907],\"y\":[-1.7685384506770307],\"z\":[-141.0187178190481],\"type\":\"scatter3d\"},{\"hovertemplate\":\"feature2=%{y}\\u003cbr\\u003efeature1=%{x}\\u003cbr\\u003eoutput=%{z}\\u003cextra\\u003e\\u003c\\u002fextra\\u003e\",\"legendgroup\":\"-0.5963140384505081\",\"marker\":{\"color\":\"#636efa\",\"symbol\":\"circle\"},\"mode\":\"markers\",\"name\":\"-0.5963140384505081\",\"scene\":\"scene\",\"showlegend\":true,\"x\":[-0.05256729626954629],\"y\":[-0.5963140384505081],\"z\":[-62.89111145703096],\"type\":\"scatter3d\"},{\"hovertemplate\":\"feature2=%{y}\\u003cbr\\u003efeature1=%{x}\\u003cbr\\u003eoutput=%{z}\\u003cextra\\u003e\\u003c\\u002fextra\\u003e\",\"legendgroup\":\"-2.2555642294021894\",\"marker\":{\"color\":\"#636efa\",\"symbol\":\"diamond\"},\"mode\":\"markers\",\"name\":\"-2.2555642294021894\",\"scene\":\"scene\",\"showlegend\":true,\"x\":[-1.0225068436356035],\"y\":[-2.2555642294021894],\"z\":[-311.1759789449968],\"type\":\"scatter3d\"},{\"hovertemplate\":\"feature2=%{y}\\u003cbr\\u003efeature1=%{x}\\u003cbr\\u003eoutput=%{z}\\u003cextra\\u003e\\u003c\\u002fextra\\u003e\",\"legendgroup\":\"-0.7826291558275251\",\"marker\":{\"color\":\"#636efa\",\"symbol\":\"square\"},\"mode\":\"markers\",\"name\":\"-0.7826291558275251\",\"scene\":\"scene\",\"showlegend\":true,\"x\":[-0.11038929902688775],\"y\":[-0.7826291558275251],\"z\":[-86.22463648996234],\"type\":\"scatter3d\"},{\"hovertemplate\":\"feature2=%{y}\\u003cbr\\u003efeature1=%{x}\\u003cbr\\u003eoutput=%{z}\\u003cextra\\u003e\\u003c\\u002fextra\\u003e\",\"legendgroup\":\"-0.47965581400794766\",\"marker\":{\"color\":\"#636efa\",\"symbol\":\"x\"},\"mode\":\"markers\",\"name\":\"-0.47965581400794766\",\"scene\":\"scene\",\"showlegend\":true,\"x\":[0.6203582983435125],\"y\":[-0.47965581400794766],\"z\":[8.373856333001655],\"type\":\"scatter3d\"},{\"hovertemplate\":\"feature2=%{y}\\u003cbr\\u003efeature1=%{x}\\u003cbr\\u003eoutput=%{z}\\u003cextra\\u003e\\u003c\\u002fextra\\u003e\",\"legendgroup\":\"0.7666631816450861\",\"marker\":{\"color\":\"#636efa\",\"symbol\":\"cross\"},\"mode\":\"markers\",\"name\":\"0.7666631816450861\",\"scene\":\"scene\",\"showlegend\":true,\"x\":[0.3562928174722889],\"y\":[0.7666631816450861],\"z\":[106.54633619710421],\"type\":\"scatter3d\"}],                        {\"template\":{\"data\":{\"histogram2dcontour\":[{\"type\":\"histogram2dcontour\",\"colorbar\":{\"outlinewidth\":0,\"ticks\":\"\"},\"colorscale\":[[0.0,\"#0d0887\"],[0.1111111111111111,\"#46039f\"],[0.2222222222222222,\"#7201a8\"],[0.3333333333333333,\"#9c179e\"],[0.4444444444444444,\"#bd3786\"],[0.5555555555555556,\"#d8576b\"],[0.6666666666666666,\"#ed7953\"],[0.7777777777777778,\"#fb9f3a\"],[0.8888888888888888,\"#fdca26\"],[1.0,\"#f0f921\"]]}],\"choropleth\":[{\"type\":\"choropleth\",\"colorbar\":{\"outlinewidth\":0,\"ticks\":\"\"}}],\"histogram2d\":[{\"type\":\"histogram2d\",\"colorbar\":{\"outlinewidth\":0,\"ticks\":\"\"},\"colorscale\":[[0.0,\"#0d0887\"],[0.1111111111111111,\"#46039f\"],[0.2222222222222222,\"#7201a8\"],[0.3333333333333333,\"#9c179e\"],[0.4444444444444444,\"#bd3786\"],[0.5555555555555556,\"#d8576b\"],[0.6666666666666666,\"#ed7953\"],[0.7777777777777778,\"#fb9f3a\"],[0.8888888888888888,\"#fdca26\"],[1.0,\"#f0f921\"]]}],\"heatmap\":[{\"type\":\"heatmap\",\"colorbar\":{\"outlinewidth\":0,\"ticks\":\"\"},\"colorscale\":[[0.0,\"#0d0887\"],[0.1111111111111111,\"#46039f\"],[0.2222222222222222,\"#7201a8\"],[0.3333333333333333,\"#9c179e\"],[0.4444444444444444,\"#bd3786\"],[0.5555555555555556,\"#d8576b\"],[0.6666666666666666,\"#ed7953\"],[0.7777777777777778,\"#fb9f3a\"],[0.8888888888888888,\"#fdca26\"],[1.0,\"#f0f921\"]]}],\"heatmapgl\":[{\"type\":\"heatmapgl\",\"colorbar\":{\"outlinewidth\":0,\"ticks\":\"\"},\"colorscale\":[[0.0,\"#0d0887\"],[0.1111111111111111,\"#46039f\"],[0.2222222222222222,\"#7201a8\"],[0.3333333333333333,\"#9c179e\"],[0.4444444444444444,\"#bd3786\"],[0.5555555555555556,\"#d8576b\"],[0.6666666666666666,\"#ed7953\"],[0.7777777777777778,\"#fb9f3a\"],[0.8888888888888888,\"#fdca26\"],[1.0,\"#f0f921\"]]}],\"contourcarpet\":[{\"type\":\"contourcarpet\",\"colorbar\":{\"outlinewidth\":0,\"ticks\":\"\"}}],\"contour\":[{\"type\":\"contour\",\"colorbar\":{\"outlinewidth\":0,\"ticks\":\"\"},\"colorscale\":[[0.0,\"#0d0887\"],[0.1111111111111111,\"#46039f\"],[0.2222222222222222,\"#7201a8\"],[0.3333333333333333,\"#9c179e\"],[0.4444444444444444,\"#bd3786\"],[0.5555555555555556,\"#d8576b\"],[0.6666666666666666,\"#ed7953\"],[0.7777777777777778,\"#fb9f3a\"],[0.8888888888888888,\"#fdca26\"],[1.0,\"#f0f921\"]]}],\"surface\":[{\"type\":\"surface\",\"colorbar\":{\"outlinewidth\":0,\"ticks\":\"\"},\"colorscale\":[[0.0,\"#0d0887\"],[0.1111111111111111,\"#46039f\"],[0.2222222222222222,\"#7201a8\"],[0.3333333333333333,\"#9c179e\"],[0.4444444444444444,\"#bd3786\"],[0.5555555555555556,\"#d8576b\"],[0.6666666666666666,\"#ed7953\"],[0.7777777777777778,\"#fb9f3a\"],[0.8888888888888888,\"#fdca26\"],[1.0,\"#f0f921\"]]}],\"mesh3d\":[{\"type\":\"mesh3d\",\"colorbar\":{\"outlinewidth\":0,\"ticks\":\"\"}}],\"scatter\":[{\"fillpattern\":{\"fillmode\":\"overlay\",\"size\":10,\"solidity\":0.2},\"type\":\"scatter\"}],\"parcoords\":[{\"type\":\"parcoords\",\"line\":{\"colorbar\":{\"outlinewidth\":0,\"ticks\":\"\"}}}],\"scatterpolargl\":[{\"type\":\"scatterpolargl\",\"marker\":{\"colorbar\":{\"outlinewidth\":0,\"ticks\":\"\"}}}],\"bar\":[{\"error_x\":{\"color\":\"#2a3f5f\"},\"error_y\":{\"color\":\"#2a3f5f\"},\"marker\":{\"line\":{\"color\":\"#E5ECF6\",\"width\":0.5},\"pattern\":{\"fillmode\":\"overlay\",\"size\":10,\"solidity\":0.2}},\"type\":\"bar\"}],\"scattergeo\":[{\"type\":\"scattergeo\",\"marker\":{\"colorbar\":{\"outlinewidth\":0,\"ticks\":\"\"}}}],\"scatterpolar\":[{\"type\":\"scatterpolar\",\"marker\":{\"colorbar\":{\"outlinewidth\":0,\"ticks\":\"\"}}}],\"histogram\":[{\"marker\":{\"pattern\":{\"fillmode\":\"overlay\",\"size\":10,\"solidity\":0.2}},\"type\":\"histogram\"}],\"scattergl\":[{\"type\":\"scattergl\",\"marker\":{\"colorbar\":{\"outlinewidth\":0,\"ticks\":\"\"}}}],\"scatter3d\":[{\"type\":\"scatter3d\",\"line\":{\"colorbar\":{\"outlinewidth\":0,\"ticks\":\"\"}},\"marker\":{\"colorbar\":{\"outlinewidth\":0,\"ticks\":\"\"}}}],\"scattermapbox\":[{\"type\":\"scattermapbox\",\"marker\":{\"colorbar\":{\"outlinewidth\":0,\"ticks\":\"\"}}}],\"scatterternary\":[{\"type\":\"scatterternary\",\"marker\":{\"colorbar\":{\"outlinewidth\":0,\"ticks\":\"\"}}}],\"scattercarpet\":[{\"type\":\"scattercarpet\",\"marker\":{\"colorbar\":{\"outlinewidth\":0,\"ticks\":\"\"}}}],\"carpet\":[{\"aaxis\":{\"endlinecolor\":\"#2a3f5f\",\"gridcolor\":\"white\",\"linecolor\":\"white\",\"minorgridcolor\":\"white\",\"startlinecolor\":\"#2a3f5f\"},\"baxis\":{\"endlinecolor\":\"#2a3f5f\",\"gridcolor\":\"white\",\"linecolor\":\"white\",\"minorgridcolor\":\"white\",\"startlinecolor\":\"#2a3f5f\"},\"type\":\"carpet\"}],\"table\":[{\"cells\":{\"fill\":{\"color\":\"#EBF0F8\"},\"line\":{\"color\":\"white\"}},\"header\":{\"fill\":{\"color\":\"#C8D4E3\"},\"line\":{\"color\":\"white\"}},\"type\":\"table\"}],\"barpolar\":[{\"marker\":{\"line\":{\"color\":\"#E5ECF6\",\"width\":0.5},\"pattern\":{\"fillmode\":\"overlay\",\"size\":10,\"solidity\":0.2}},\"type\":\"barpolar\"}],\"pie\":[{\"automargin\":true,\"type\":\"pie\"}]},\"layout\":{\"autotypenumbers\":\"strict\",\"colorway\":[\"#636efa\",\"#EF553B\",\"#00cc96\",\"#ab63fa\",\"#FFA15A\",\"#19d3f3\",\"#FF6692\",\"#B6E880\",\"#FF97FF\",\"#FECB52\"],\"font\":{\"color\":\"#2a3f5f\"},\"hovermode\":\"closest\",\"hoverlabel\":{\"align\":\"left\"},\"paper_bgcolor\":\"white\",\"plot_bgcolor\":\"#E5ECF6\",\"polar\":{\"bgcolor\":\"#E5ECF6\",\"angularaxis\":{\"gridcolor\":\"white\",\"linecolor\":\"white\",\"ticks\":\"\"},\"radialaxis\":{\"gridcolor\":\"white\",\"linecolor\":\"white\",\"ticks\":\"\"}},\"ternary\":{\"bgcolor\":\"#E5ECF6\",\"aaxis\":{\"gridcolor\":\"white\",\"linecolor\":\"white\",\"ticks\":\"\"},\"baxis\":{\"gridcolor\":\"white\",\"linecolor\":\"white\",\"ticks\":\"\"},\"caxis\":{\"gridcolor\":\"white\",\"linecolor\":\"white\",\"ticks\":\"\"}},\"coloraxis\":{\"colorbar\":{\"outlinewidth\":0,\"ticks\":\"\"}},\"colorscale\":{\"sequential\":[[0.0,\"#0d0887\"],[0.1111111111111111,\"#46039f\"],[0.2222222222222222,\"#7201a8\"],[0.3333333333333333,\"#9c179e\"],[0.4444444444444444,\"#bd3786\"],[0.5555555555555556,\"#d8576b\"],[0.6666666666666666,\"#ed7953\"],[0.7777777777777778,\"#fb9f3a\"],[0.8888888888888888,\"#fdca26\"],[1.0,\"#f0f921\"]],\"sequentialminus\":[[0.0,\"#0d0887\"],[0.1111111111111111,\"#46039f\"],[0.2222222222222222,\"#7201a8\"],[0.3333333333333333,\"#9c179e\"],[0.4444444444444444,\"#bd3786\"],[0.5555555555555556,\"#d8576b\"],[0.6666666666666666,\"#ed7953\"],[0.7777777777777778,\"#fb9f3a\"],[0.8888888888888888,\"#fdca26\"],[1.0,\"#f0f921\"]],\"diverging\":[[0,\"#8e0152\"],[0.1,\"#c51b7d\"],[0.2,\"#de77ae\"],[0.3,\"#f1b6da\"],[0.4,\"#fde0ef\"],[0.5,\"#f7f7f7\"],[0.6,\"#e6f5d0\"],[0.7,\"#b8e186\"],[0.8,\"#7fbc41\"],[0.9,\"#4d9221\"],[1,\"#276419\"]]},\"xaxis\":{\"gridcolor\":\"white\",\"linecolor\":\"white\",\"ticks\":\"\",\"title\":{\"standoff\":15},\"zerolinecolor\":\"white\",\"automargin\":true,\"zerolinewidth\":2},\"yaxis\":{\"gridcolor\":\"white\",\"linecolor\":\"white\",\"ticks\":\"\",\"title\":{\"standoff\":15},\"zerolinecolor\":\"white\",\"automargin\":true,\"zerolinewidth\":2},\"scene\":{\"xaxis\":{\"backgroundcolor\":\"#E5ECF6\",\"gridcolor\":\"white\",\"linecolor\":\"white\",\"showbackground\":true,\"ticks\":\"\",\"zerolinecolor\":\"white\",\"gridwidth\":2},\"yaxis\":{\"backgroundcolor\":\"#E5ECF6\",\"gridcolor\":\"white\",\"linecolor\":\"white\",\"showbackground\":true,\"ticks\":\"\",\"zerolinecolor\":\"white\",\"gridwidth\":2},\"zaxis\":{\"backgroundcolor\":\"#E5ECF6\",\"gridcolor\":\"white\",\"linecolor\":\"white\",\"showbackground\":true,\"ticks\":\"\",\"zerolinecolor\":\"white\",\"gridwidth\":2}},\"shapedefaults\":{\"line\":{\"color\":\"#2a3f5f\"}},\"annotationdefaults\":{\"arrowcolor\":\"#2a3f5f\",\"arrowhead\":0,\"arrowwidth\":1},\"geo\":{\"bgcolor\":\"white\",\"landcolor\":\"#E5ECF6\",\"subunitcolor\":\"white\",\"showland\":true,\"showlakes\":true,\"lakecolor\":\"white\"},\"title\":{\"x\":0.05},\"mapbox\":{\"style\":\"light\"}}},\"scene\":{\"domain\":{\"x\":[0.0,1.0],\"y\":[0.0,1.0]},\"xaxis\":{\"title\":{\"text\":\"feature1\"}},\"yaxis\":{\"title\":{\"text\":\"feature2\"},\"categoryorder\":\"array\",\"categoryarray\":[-0.01568211160255477,0.7471883342046318,0.4631303293186071,-0.20690367616397173,-1.1573552591908536,0.9295051114795281,1.15233156478312,-0.637437025552229,-0.3090129690471222,0.0386305518401881,-0.1576670161638159,-0.35343174875719907,-1.1561824318219127,-0.19065349358139935,-2.01640662779976,0.6433144650629279,0.640131526097592,-0.0616264020956474,-0.39522898265435435,-1.188859257784029,-0.9711045704444846,-0.08593076697161273,0.04949498165009074,0.9318483741143037,0.698457149107336,-0.13288057758695562,-0.960504381633148,-0.8133642592042029,0.8215857120497958,-0.11054065723247261,2.303916697683942,0.280441705316296,-0.35399391125348395,1.4944845444913688,0.4574156062209908,-0.6436184028328905,-1.7558905834377194,-1.582938397335082,-0.5028167006425383,0.6663830820319143,1.738872677454511,0.6898181645347884,-0.38487980918127546,0.6915387510701866,-1.3065268517353166,-0.3108861716984717,1.6481349322075596,-0.017020413861440594,0.27992459904323824,-0.11816404512856976,1.068509399316009,0.6937731526901325,-0.5175190425104033,-0.130106954193704,-1.0452533661469547,0.1993001968964652,-0.2918373627478628,-1.3342584714027534,0.0977249677148556,0.9430460873225178,0.7732529774025997,1.1285940645145685,0.8579239242923363,-0.18505367100934153,-0.7047002758562337,-1.1268258087567435,-2.2886200400145285,0.5232766605317537,0.28634368889227957,-1.4465346995633879,0.9101789080925919,0.2745163577239395,-2.0946030712061448,0.5672902778526694,0.42625873077810095,1.9559123082506942,-0.9855107376841507,0.1565065379653756,0.7863279621089762,-0.6920498477843912,-0.3091144447717088,-0.0392828182274956,0.3990463456401302,-1.4240609089825316,1.3645318481024713,2.259308950690852,-0.27567053456055696,-0.042171451290578935,-0.6280875596415789,-0.764143923906443,1.3191368763015756,-0.9444462559182504,-0.13594970067832082,-1.936279805846507,-0.955945000492777,-0.4635959746460942,-0.65240858238702,-0.7196043885517929,0.33890412521594454,-0.6878376110286823,-0.024326124398935636,-0.46886418796679563,-2.659172237996741,-1.1043833394284506,-0.3646935443916854,0.8005648034309968,-0.26773353689396645,-0.5973160689653627,0.8145198224878664,-0.7395629963913133,2.16323594928069,0.5785214977288784,-0.6840108977372166,-2.0306844677814944,-1.8430695501566485,0.5210648764527586,-0.5693120534701851,-0.43918952180214793,0.8689634868967954,0.14195316332077967,-0.3994490292628752,1.7327211869191332,-0.13370155966843916,0.8758327615873309,-0.4668455460527625,-0.7255973784635843,-1.2928569097234486,-0.3691818379424436,0.7717905512136674,0.6252314510271875,-0.6522935999350191,-0.4409226322925914,-1.6981058194322545,0.8416312640736364,0.49374177734918845,-0.5428614760167177,1.5199948607657727,-1.0546284639850139,1.0996595958871132,1.4665787155741776,-1.5407970144446248,0.3708250012811021,-0.5986539369229861,0.5238910238342056,-1.7685384506770307,-0.5963140384505081,-2.2555642294021894,-0.7826291558275251,-0.47965581400794766,0.7666631816450861]},\"zaxis\":{\"title\":{\"text\":\"output\"}}},\"legend\":{\"title\":{\"text\":\"feature2\"},\"tracegroupgap\":0},\"margin\":{\"t\":60}},                        {\"responsive\": true}                    ).then(function(){\n",
       "                            \n",
       "var gd = document.getElementById('aae32000-c857-4cd0-989e-1ede0b041ddc');\n",
       "var x = new MutationObserver(function (mutations, observer) {{\n",
       "        var display = window.getComputedStyle(gd).display;\n",
       "        if (!display || display === 'none') {{\n",
       "            console.log([gd, 'removed!']);\n",
       "            Plotly.purge(gd);\n",
       "            observer.disconnect();\n",
       "        }}\n",
       "}});\n",
       "\n",
       "// Listen for the removal of the full notebook cells\n",
       "var notebookContainer = gd.closest('#notebook-container');\n",
       "if (notebookContainer) {{\n",
       "    x.observe(notebookContainer, {childList: true});\n",
       "}}\n",
       "\n",
       "// Listen for the clearing of the current output cell\n",
       "var outputEl = gd.closest('.output');\n",
       "if (outputEl) {{\n",
       "    x.observe(outputEl, {childList: true});\n",
       "}}\n",
       "\n",
       "                        })                };                });            </script>        </div>"
      ]
     },
     "metadata": {},
     "output_type": "display_data"
    }
   ],
   "source": [
    "px.scatter_3d(df,\n",
    "              x = df['feature1'],\n",
    "              y = df['feature2'],\n",
    "              z = df['output'],\n",
    "              symbol= 'feature2'\n",
    "    \n",
    ")"
   ]
  },
  {
   "cell_type": "code",
   "execution_count": null,
   "id": "7fe51bfd-56cc-4da9-aa4c-490684451bf8",
   "metadata": {},
   "outputs": [],
   "source": []
  },
  {
   "cell_type": "code",
   "execution_count": null,
   "id": "14f988c1-3158-46b3-843f-379a7f116157",
   "metadata": {},
   "outputs": [],
   "source": []
  },
  {
   "cell_type": "code",
   "execution_count": null,
   "id": "95308491-3c5c-4804-b2ee-7679abcea1c0",
   "metadata": {},
   "outputs": [],
   "source": []
  },
  {
   "cell_type": "code",
   "execution_count": null,
   "id": "d3d1633d-02b9-434b-81d9-cf123990ab43",
   "metadata": {},
   "outputs": [],
   "source": []
  },
  {
   "cell_type": "code",
   "execution_count": null,
   "id": "bd99ac34-db61-4dad-a2bd-8d1e27d94131",
   "metadata": {},
   "outputs": [],
   "source": []
  },
  {
   "cell_type": "code",
   "execution_count": null,
   "id": "835da311-ff16-4b8a-9ab6-aa83a824ca5d",
   "metadata": {},
   "outputs": [],
   "source": []
  }
 ],
 "metadata": {
  "kernelspec": {
   "display_name": "Python 3 (ipykernel)",
   "language": "python",
   "name": "python3"
  },
  "language_info": {
   "codemirror_mode": {
    "name": "ipython",
    "version": 3
   },
   "file_extension": ".py",
   "mimetype": "text/x-python",
   "name": "python",
   "nbconvert_exporter": "python",
   "pygments_lexer": "ipython3",
   "version": "3.12.3"
  }
 },
 "nbformat": 4,
 "nbformat_minor": 5
}
