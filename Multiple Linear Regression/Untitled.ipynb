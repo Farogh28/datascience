{
 "cells": [
  {
   "cell_type": "code",
   "execution_count": null,
   "id": "ac75ea52-365f-4917-8be1-dd7669190d1b",
   "metadata": {},
   "outputs": [],
   "source": []
  }
 ],
 "metadata": {
  "kernelspec": {
   "display_name": "",
   "name": ""
  },
  "language_info": {
   "name": ""
  }
 },
 "nbformat": 4,
 "nbformat_minor": 5
}
