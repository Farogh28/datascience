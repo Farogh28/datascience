{
 "cells": [
  {
   "cell_type": "markdown",
   "id": "9243911b-9b85-4cc0-871e-63c017849391",
   "metadata": {},
   "source": [
    "# Functions in Numpy\n"
   ]
  },
  {
   "cell_type": "code",
   "execution_count": null,
   "id": "f2aa7e80-8521-438d-a893-e46505aaf416",
   "metadata": {},
   "outputs": [],
   "source": [
    "1) Where ()\n",
    "2) Sort ()\n",
    "3) Arange() - Gives the data\n",
    "4) Ones() - Generates 1's\n",
    "5) Zeroes()\n",
    "6) eye() --- For a diagonal matix"
   ]
  },
  {
   "cell_type": "code",
   "execution_count": 6,
   "id": "5e477f50-8a4e-4cf4-ba95-2a3c1d633895",
   "metadata": {},
   "outputs": [],
   "source": [
    "import pandas as pd\n",
    "import numpy as np"
   ]
  },
  {
   "cell_type": "code",
   "execution_count": 2,
   "id": "a9d99fb7-47b1-4350-bf53-f873ca9e9fbf",
   "metadata": {},
   "outputs": [
    {
     "name": "stdout",
     "output_type": "stream",
     "text": [
      "DatetimeIndex(['2023-07-01 00:00:00', '2023-07-05 18:00:00',\n",
      "               '2023-07-10 12:00:00', '2023-07-15 06:00:00',\n",
      "               '2023-07-20 00:00:00'],\n",
      "              dtype='datetime64[ns]', freq=None)\n"
     ]
    }
   ],
   "source": [
    "dates = pd.date_range(start='2023-07-01', end='2023-07-20', periods=5)\n",
    "print(dates)"
   ]
  },
  {
   "cell_type": "code",
   "execution_count": 8,
   "id": "f5763dd4-f97c-4882-b753-80322b10edf1",
   "metadata": {},
   "outputs": [
    {
     "name": "stdout",
     "output_type": "stream",
     "text": [
      "Help on class dict in module builtins:\n",
      "\n",
      "class dict(object)\n",
      " |  dict() -> new empty dictionary\n",
      " |  dict(mapping) -> new dictionary initialized from a mapping object's\n",
      " |      (key, value) pairs\n",
      " |  dict(iterable) -> new dictionary initialized as if via:\n",
      " |      d = {}\n",
      " |      for k, v in iterable:\n",
      " |          d[k] = v\n",
      " |  dict(**kwargs) -> new dictionary initialized with the name=value pairs\n",
      " |      in the keyword argument list.  For example:  dict(one=1, two=2)\n",
      " |\n",
      " |  Built-in subclasses:\n",
      " |      StgDict\n",
      " |\n",
      " |  Methods defined here:\n",
      " |\n",
      " |  __contains__(self, key, /)\n",
      " |      True if the dictionary has the specified key, else False.\n",
      " |\n",
      " |  __delitem__(self, key, /)\n",
      " |      Delete self[key].\n",
      " |\n",
      " |  __eq__(self, value, /)\n",
      " |      Return self==value.\n",
      " |\n",
      " |  __ge__(self, value, /)\n",
      " |      Return self>=value.\n",
      " |\n",
      " |  __getattribute__(self, name, /)\n",
      " |      Return getattr(self, name).\n",
      " |\n",
      " |  __getitem__(self, key, /)\n",
      " |      Return self[key].\n",
      " |\n",
      " |  __gt__(self, value, /)\n",
      " |      Return self>value.\n",
      " |\n",
      " |  __init__(self, /, *args, **kwargs)\n",
      " |      Initialize self.  See help(type(self)) for accurate signature.\n",
      " |\n",
      " |  __ior__(self, value, /)\n",
      " |      Return self|=value.\n",
      " |\n",
      " |  __iter__(self, /)\n",
      " |      Implement iter(self).\n",
      " |\n",
      " |  __le__(self, value, /)\n",
      " |      Return self<=value.\n",
      " |\n",
      " |  __len__(self, /)\n",
      " |      Return len(self).\n",
      " |\n",
      " |  __lt__(self, value, /)\n",
      " |      Return self<value.\n",
      " |\n",
      " |  __ne__(self, value, /)\n",
      " |      Return self!=value.\n",
      " |\n",
      " |  __or__(self, value, /)\n",
      " |      Return self|value.\n",
      " |\n",
      " |  __repr__(self, /)\n",
      " |      Return repr(self).\n",
      " |\n",
      " |  __reversed__(self, /)\n",
      " |      Return a reverse iterator over the dict keys.\n",
      " |\n",
      " |  __ror__(self, value, /)\n",
      " |      Return value|self.\n",
      " |\n",
      " |  __setitem__(self, key, value, /)\n",
      " |      Set self[key] to value.\n",
      " |\n",
      " |  __sizeof__(...)\n",
      " |      D.__sizeof__() -> size of D in memory, in bytes\n",
      " |\n",
      " |  clear(...)\n",
      " |      D.clear() -> None.  Remove all items from D.\n",
      " |\n",
      " |  copy(...)\n",
      " |      D.copy() -> a shallow copy of D\n",
      " |\n",
      " |  get(self, key, default=None, /)\n",
      " |      Return the value for key if key is in the dictionary, else default.\n",
      " |\n",
      " |  items(...)\n",
      " |      D.items() -> a set-like object providing a view on D's items\n",
      " |\n",
      " |  keys(...)\n",
      " |      D.keys() -> a set-like object providing a view on D's keys\n",
      " |\n",
      " |  pop(...)\n",
      " |      D.pop(k[,d]) -> v, remove specified key and return the corresponding value.\n",
      " |\n",
      " |      If the key is not found, return the default if given; otherwise,\n",
      " |      raise a KeyError.\n",
      " |\n",
      " |  popitem(self, /)\n",
      " |      Remove and return a (key, value) pair as a 2-tuple.\n",
      " |\n",
      " |      Pairs are returned in LIFO (last-in, first-out) order.\n",
      " |      Raises KeyError if the dict is empty.\n",
      " |\n",
      " |  setdefault(self, key, default=None, /)\n",
      " |      Insert key with a value of default if key is not in the dictionary.\n",
      " |\n",
      " |      Return the value for key if key is in the dictionary, else default.\n",
      " |\n",
      " |  update(...)\n",
      " |      D.update([E, ]**F) -> None.  Update D from dict/iterable E and F.\n",
      " |      If E is present and has a .keys() method, then does:  for k in E: D[k] = E[k]\n",
      " |      If E is present and lacks a .keys() method, then does:  for k, v in E: D[k] = v\n",
      " |      In either case, this is followed by: for k in F:  D[k] = F[k]\n",
      " |\n",
      " |  values(...)\n",
      " |      D.values() -> an object providing a view on D's values\n",
      " |\n",
      " |  ----------------------------------------------------------------------\n",
      " |  Class methods defined here:\n",
      " |\n",
      " |  __class_getitem__(...)\n",
      " |      See PEP 585\n",
      " |\n",
      " |  fromkeys(iterable, value=None, /)\n",
      " |      Create a new dictionary with keys from iterable and values set to value.\n",
      " |\n",
      " |  ----------------------------------------------------------------------\n",
      " |  Static methods defined here:\n",
      " |\n",
      " |  __new__(*args, **kwargs)\n",
      " |      Create and return a new object.  See help(type) for accurate signature.\n",
      " |\n",
      " |  ----------------------------------------------------------------------\n",
      " |  Data and other attributes defined here:\n",
      " |\n",
      " |  __hash__ = None\n",
      "\n"
     ]
    }
   ],
   "source": [
    "help('dict')"
   ]
  },
  {
   "cell_type": "code",
   "execution_count": 15,
   "id": "08428dfa-e232-4f1b-ad9b-53942fa5d498",
   "metadata": {},
   "outputs": [
    {
     "data": {
      "text/plain": [
       "(19,)"
      ]
     },
     "execution_count": 15,
     "metadata": {},
     "output_type": "execute_result"
    }
   ],
   "source": [
    "lst = np.array([12,23,1,243,12,412,4321,21,24,1,254,53,53,64,34,75,3,73,23])\n",
    "lst.shape"
   ]
  },
  {
   "cell_type": "code",
   "execution_count": null,
   "id": "7d1e7ad1-591e-41ef-8606-1fda1a64e4e1",
   "metadata": {},
   "outputs": [],
   "source": []
  },
  {
   "cell_type": "code",
   "execution_count": 20,
   "id": "62ac4a7d-8998-4f23-a716-5bba16a73286",
   "metadata": {},
   "outputs": [
    {
     "data": {
      "text/plain": [
       "(array([ 0,  1,  2,  4,  7,  8,  9, 11, 12, 13, 14, 15, 16, 17, 18],\n",
       "       dtype=int64),)"
      ]
     },
     "execution_count": 20,
     "metadata": {},
     "output_type": "execute_result"
    }
   ],
   "source": [
    "# np.where(lst  !=3)\n",
    "np.where (lst <= 75)\n"
   ]
  },
  {
   "cell_type": "code",
   "execution_count": 19,
   "id": "76e67545-4197-4394-bc2f-7046e79a8d86",
   "metadata": {},
   "outputs": [
    {
     "ename": "AttributeError",
     "evalue": "'tuple' object has no attribute 'shape'",
     "output_type": "error",
     "traceback": [
      "\u001b[1;31m---------------------------------------------------------------------------\u001b[0m",
      "\u001b[1;31mAttributeError\u001b[0m                            Traceback (most recent call last)",
      "Cell \u001b[1;32mIn[19], line 1\u001b[0m\n\u001b[1;32m----> 1\u001b[0m \u001b[43mx\u001b[49m\u001b[38;5;241;43m.\u001b[39;49m\u001b[43mshape\u001b[49m\n",
      "\u001b[1;31mAttributeError\u001b[0m: 'tuple' object has no attribute 'shape'"
     ]
    }
   ],
   "source": []
  },
  {
   "cell_type": "code",
   "execution_count": null,
   "id": "9154334d-6749-4cfc-ae3f-43da01e343d6",
   "metadata": {},
   "outputs": [],
   "source": []
  },
  {
   "cell_type": "code",
   "execution_count": null,
   "id": "d0be25e6-4a62-41c7-bb6b-cbd49598471b",
   "metadata": {},
   "outputs": [],
   "source": [
    "# Arange function - provides the data \n",
    "# Syntax is - obj_name = np.arange (start, end, increment)"
   ]
  },
  {
   "cell_type": "code",
   "execution_count": 21,
   "id": "c57fd2e3-986c-4486-aaae-cbf5f8f36315",
   "metadata": {},
   "outputs": [],
   "source": [
    "xy = np.arange (1,21, 1)"
   ]
  },
  {
   "cell_type": "code",
   "execution_count": 22,
   "id": "1205d72f-ad26-415f-9821-3db660b01912",
   "metadata": {},
   "outputs": [
    {
     "data": {
      "text/plain": [
       "array([ 1,  2,  3,  4,  5,  6,  7,  8,  9, 10, 11, 12, 13, 14, 15, 16, 17,\n",
       "       18, 19, 20])"
      ]
     },
     "execution_count": 22,
     "metadata": {},
     "output_type": "execute_result"
    }
   ],
   "source": [
    "xy"
   ]
  },
  {
   "cell_type": "code",
   "execution_count": 24,
   "id": "95789a22-de55-4b3c-9796-8430899d3405",
   "metadata": {},
   "outputs": [
    {
     "data": {
      "text/plain": [
       "array([ 10,  27,  44,  61,  78,  95, 112, 129, 146, 163, 180, 197, 214,\n",
       "       231, 248, 265, 282, 299, 316, 333, 350, 367, 384, 401, 418, 435,\n",
       "       452, 469, 486, 503, 520, 537, 554, 571, 588, 605, 622, 639, 656,\n",
       "       673, 690, 707, 724, 741, 758, 775, 792, 809, 826, 843, 860, 877,\n",
       "       894, 911, 928, 945, 962, 979, 996])"
      ]
     },
     "execution_count": 24,
     "metadata": {},
     "output_type": "execute_result"
    }
   ],
   "source": [
    "zx = np.arange (10,1000,17)\n",
    "zx"
   ]
  },
  {
   "cell_type": "code",
   "execution_count": null,
   "id": "39d8ddd3-939a-45cf-b1ef-2b1d36d34830",
   "metadata": {},
   "outputs": [],
   "source": []
  },
  {
   "cell_type": "code",
   "execution_count": null,
   "id": "9a51c90b-fa9c-45b0-865a-e127dbf6eca4",
   "metadata": {},
   "outputs": [],
   "source": []
  },
  {
   "cell_type": "code",
   "execution_count": 28,
   "id": "ea8de78b-1ba4-410d-8abd-083252b1b657",
   "metadata": {},
   "outputs": [
    {
     "data": {
      "text/plain": [
       "array([1., 1., 1., 1., 1.])"
      ]
     },
     "execution_count": 28,
     "metadata": {},
     "output_type": "execute_result"
    }
   ],
   "source": [
    "# 4) ONES\n",
    "\n",
    "# syntax: np.ones(size)\n",
    "\n",
    "\n",
    "np.ones(5)"
   ]
  },
  {
   "cell_type": "code",
   "execution_count": 29,
   "id": "cdce73a0-2e7c-4161-8969-305f88688a93",
   "metadata": {},
   "outputs": [],
   "source": [
    "# and for the 2D formation need to add parenthisis"
   ]
  },
  {
   "cell_type": "code",
   "execution_count": 30,
   "id": "ddcab905-b3ca-40ae-8119-4ed500def73d",
   "metadata": {},
   "outputs": [
    {
     "data": {
      "text/plain": [
       "array([[1., 1., 1.],\n",
       "       [1., 1., 1.],\n",
       "       [1., 1., 1.]])"
      ]
     },
     "execution_count": 30,
     "metadata": {},
     "output_type": "execute_result"
    }
   ],
   "source": [
    "np.ones ((3,3))"
   ]
  },
  {
   "cell_type": "code",
   "execution_count": 31,
   "id": "5aed695c-1ce1-4471-a90c-c2b7744d548c",
   "metadata": {},
   "outputs": [
    {
     "data": {
      "text/plain": [
       "array([[[1., 1., 1.],\n",
       "        [1., 1., 1.],\n",
       "        [1., 1., 1.],\n",
       "        [1., 1., 1.]],\n",
       "\n",
       "       [[1., 1., 1.],\n",
       "        [1., 1., 1.],\n",
       "        [1., 1., 1.],\n",
       "        [1., 1., 1.]],\n",
       "\n",
       "       [[1., 1., 1.],\n",
       "        [1., 1., 1.],\n",
       "        [1., 1., 1.],\n",
       "        [1., 1., 1.]]])"
      ]
     },
     "execution_count": 31,
     "metadata": {},
     "output_type": "execute_result"
    }
   ],
   "source": [
    "np.ones (((3,4,3)))"
   ]
  },
  {
   "cell_type": "code",
   "execution_count": 32,
   "id": "71bd7ffd-152d-4cd2-adc4-18528de5c2d2",
   "metadata": {},
   "outputs": [
    {
     "data": {
      "text/plain": [
       "array([[[[1., 1., 1., 1.],\n",
       "         [1., 1., 1., 1.],\n",
       "         [1., 1., 1., 1.],\n",
       "         [1., 1., 1., 1.]],\n",
       "\n",
       "        [[1., 1., 1., 1.],\n",
       "         [1., 1., 1., 1.],\n",
       "         [1., 1., 1., 1.],\n",
       "         [1., 1., 1., 1.]],\n",
       "\n",
       "        [[1., 1., 1., 1.],\n",
       "         [1., 1., 1., 1.],\n",
       "         [1., 1., 1., 1.],\n",
       "         [1., 1., 1., 1.]],\n",
       "\n",
       "        [[1., 1., 1., 1.],\n",
       "         [1., 1., 1., 1.],\n",
       "         [1., 1., 1., 1.],\n",
       "         [1., 1., 1., 1.]]],\n",
       "\n",
       "\n",
       "       [[[1., 1., 1., 1.],\n",
       "         [1., 1., 1., 1.],\n",
       "         [1., 1., 1., 1.],\n",
       "         [1., 1., 1., 1.]],\n",
       "\n",
       "        [[1., 1., 1., 1.],\n",
       "         [1., 1., 1., 1.],\n",
       "         [1., 1., 1., 1.],\n",
       "         [1., 1., 1., 1.]],\n",
       "\n",
       "        [[1., 1., 1., 1.],\n",
       "         [1., 1., 1., 1.],\n",
       "         [1., 1., 1., 1.],\n",
       "         [1., 1., 1., 1.]],\n",
       "\n",
       "        [[1., 1., 1., 1.],\n",
       "         [1., 1., 1., 1.],\n",
       "         [1., 1., 1., 1.],\n",
       "         [1., 1., 1., 1.]]],\n",
       "\n",
       "\n",
       "       [[[1., 1., 1., 1.],\n",
       "         [1., 1., 1., 1.],\n",
       "         [1., 1., 1., 1.],\n",
       "         [1., 1., 1., 1.]],\n",
       "\n",
       "        [[1., 1., 1., 1.],\n",
       "         [1., 1., 1., 1.],\n",
       "         [1., 1., 1., 1.],\n",
       "         [1., 1., 1., 1.]],\n",
       "\n",
       "        [[1., 1., 1., 1.],\n",
       "         [1., 1., 1., 1.],\n",
       "         [1., 1., 1., 1.],\n",
       "         [1., 1., 1., 1.]],\n",
       "\n",
       "        [[1., 1., 1., 1.],\n",
       "         [1., 1., 1., 1.],\n",
       "         [1., 1., 1., 1.],\n",
       "         [1., 1., 1., 1.]]],\n",
       "\n",
       "\n",
       "       [[[1., 1., 1., 1.],\n",
       "         [1., 1., 1., 1.],\n",
       "         [1., 1., 1., 1.],\n",
       "         [1., 1., 1., 1.]],\n",
       "\n",
       "        [[1., 1., 1., 1.],\n",
       "         [1., 1., 1., 1.],\n",
       "         [1., 1., 1., 1.],\n",
       "         [1., 1., 1., 1.]],\n",
       "\n",
       "        [[1., 1., 1., 1.],\n",
       "         [1., 1., 1., 1.],\n",
       "         [1., 1., 1., 1.],\n",
       "         [1., 1., 1., 1.]],\n",
       "\n",
       "        [[1., 1., 1., 1.],\n",
       "         [1., 1., 1., 1.],\n",
       "         [1., 1., 1., 1.],\n",
       "         [1., 1., 1., 1.]]]])"
      ]
     },
     "execution_count": 32,
     "metadata": {},
     "output_type": "execute_result"
    }
   ],
   "source": [
    "np.ones ((((4,4,4,4))))"
   ]
  },
  {
   "cell_type": "code",
   "execution_count": null,
   "id": "d628f1e1-9564-44ac-9d37-775303d5871a",
   "metadata": {},
   "outputs": [],
   "source": []
  },
  {
   "cell_type": "code",
   "execution_count": 33,
   "id": "5955a1f5-7391-4832-aa66-0243a910a692",
   "metadata": {},
   "outputs": [],
   "source": [
    "#6) Digonal Matrix"
   ]
  },
  {
   "cell_type": "code",
   "execution_count": 34,
   "id": "a2bd1100-941f-4d9d-b1fc-78222ed079c7",
   "metadata": {},
   "outputs": [
    {
     "data": {
      "text/plain": [
       "array([[1., 0., 0., 0.],\n",
       "       [0., 1., 0., 0.],\n",
       "       [0., 0., 1., 0.],\n",
       "       [0., 0., 0., 1.]])"
      ]
     },
     "execution_count": 34,
     "metadata": {},
     "output_type": "execute_result"
    }
   ],
   "source": [
    "np.eye (4,4)"
   ]
  },
  {
   "cell_type": "code",
   "execution_count": null,
   "id": "aca56b04-e4f0-47ea-b05e-f6aa829724dd",
   "metadata": {},
   "outputs": [],
   "source": []
  },
  {
   "cell_type": "code",
   "execution_count": 40,
   "id": "6c2c5769-d187-4db7-9a03-e917a31b66d0",
   "metadata": {},
   "outputs": [
    {
     "ename": "TypeError",
     "evalue": "'builtin_function_or_method' object is not subscriptable",
     "output_type": "error",
     "traceback": [
      "\u001b[1;31m---------------------------------------------------------------------------\u001b[0m",
      "\u001b[1;31mTypeError\u001b[0m                                 Traceback (most recent call last)",
      "Cell \u001b[1;32mIn[40], line 1\u001b[0m\n\u001b[1;32m----> 1\u001b[0m ab \u001b[38;5;241m=\u001b[39m \u001b[43mnp\u001b[49m\u001b[38;5;241;43m.\u001b[39;49m\u001b[43marray\u001b[49m\u001b[43m[\u001b[49m\u001b[38;5;241;43m12\u001b[39;49m\u001b[43m,\u001b[49m\u001b[38;5;241;43m24\u001b[39;49m\u001b[43m,\u001b[49m\u001b[38;5;241;43m42\u001b[39;49m\u001b[43m,\u001b[49m\u001b[38;5;241;43m122\u001b[39;49m\u001b[43m]\u001b[49m\n",
      "\u001b[1;31mTypeError\u001b[0m: 'builtin_function_or_method' object is not subscriptable"
     ]
    }
   ],
   "source": [
    "ab = [12,24,42,122]"
   ]
  },
  {
   "cell_type": "code",
   "execution_count": 36,
   "id": "80f3b923-a283-4c6a-9338-c0b1169c7e27",
   "metadata": {},
   "outputs": [
    {
     "data": {
      "text/plain": [
       "array([  144,   576,  1764, 14884])"
      ]
     },
     "execution_count": 36,
     "metadata": {},
     "output_type": "execute_result"
    }
   ],
   "source": [
    "cv= np.square (ab)\n",
    "cv"
   ]
  },
  {
   "cell_type": "code",
   "execution_count": 37,
   "id": "614d01bb-603f-4dcd-8da3-73011d50d36e",
   "metadata": {},
   "outputs": [
    {
     "name": "stderr",
     "output_type": "stream",
     "text": [
      "C:\\Users\\Farogh\\AppData\\Local\\Temp\\ipykernel_24320\\2880443957.py:1: RuntimeWarning: invalid value encountered in sqrt\n",
      "  zx = np.sqrt(ab)\n"
     ]
    },
    {
     "data": {
      "text/plain": [
       "array([3.46410162, 4.89897949, 6.4807407 ,        nan])"
      ]
     },
     "execution_count": 37,
     "metadata": {},
     "output_type": "execute_result"
    }
   ],
   "source": [
    "zx = np.sqrt(ab)\n",
    "zx"
   ]
  },
  {
   "cell_type": "code",
   "execution_count": 38,
   "id": "b641996c-dcc3-4373-a885-11d62f5d8d1b",
   "metadata": {},
   "outputs": [
    {
     "ename": "IndexError",
     "evalue": "list assignment index out of range",
     "output_type": "error",
     "traceback": [
      "\u001b[1;31m---------------------------------------------------------------------------\u001b[0m",
      "\u001b[1;31mIndexError\u001b[0m                                Traceback (most recent call last)",
      "Cell \u001b[1;32mIn[38], line 1\u001b[0m\n\u001b[1;32m----> 1\u001b[0m \u001b[43mab\u001b[49m\u001b[43m[\u001b[49m\u001b[38;5;241;43m42\u001b[39;49m\u001b[43m]\u001b[49m\u001b[38;5;241m=\u001b[39m\u001b[38;5;241m544\u001b[39m\n",
      "\u001b[1;31mIndexError\u001b[0m: list assignment index out of range"
     ]
    }
   ],
   "source": [
    "ab[42]=544"
   ]
  },
  {
   "cell_type": "code",
   "execution_count": null,
   "id": "2e4612ff-45dd-46ee-b31a-a2f5753c293f",
   "metadata": {},
   "outputs": [],
   "source": [
    "#Syntax to replace an element \n",
    "# obj_name[index number] =  new_number"
   ]
  },
  {
   "cell_type": "code",
   "execution_count": 41,
   "id": "1ae2005f-e85e-41b9-9ae2-7b8adee8f9d1",
   "metadata": {},
   "outputs": [],
   "source": [
    "lst = np.array([12,23,1,243,12,412,4321,21,24,1,254,53,53,64,34,75,3,73,23])"
   ]
  },
  {
   "cell_type": "code",
   "execution_count": 42,
   "id": "ff80d12e-c57f-4b3e-ad7d-9b64e1217996",
   "metadata": {},
   "outputs": [],
   "source": [
    "lst[2] = 545"
   ]
  },
  {
   "cell_type": "code",
   "execution_count": 43,
   "id": "4c03dac4-2f5b-4918-85dc-13ac77f747f5",
   "metadata": {},
   "outputs": [
    {
     "data": {
      "text/plain": [
       "array([  12,   23,  545,  243,   12,  412, 4321,   21,   24,    1,  254,\n",
       "         53,   53,   64,   34,   75,    3,   73,   23])"
      ]
     },
     "execution_count": 43,
     "metadata": {},
     "output_type": "execute_result"
    }
   ],
   "source": [
    "lst"
   ]
  },
  {
   "cell_type": "code",
   "execution_count": 44,
   "id": "4096a34b-1070-4358-aa54-e9446445f51c",
   "metadata": {},
   "outputs": [],
   "source": [
    "# ------------------"
   ]
  },
  {
   "cell_type": "code",
   "execution_count": 45,
   "id": "d3f3854b-724b-426b-b493-f8ac643cd246",
   "metadata": {},
   "outputs": [],
   "source": [
    "lst = np.array([12,23,1,243,12,412,4321,21,24,1,254,53,53,64,34,75,3,73,23])\n"
   ]
  },
  {
   "cell_type": "code",
   "execution_count": 50,
   "id": "cf53bfc3-8654-47b9-ac6b-c28a54839388",
   "metadata": {},
   "outputs": [],
   "source": [
    "a= [10,11,12]"
   ]
  },
  {
   "cell_type": "code",
   "execution_count": 51,
   "id": "b2cc699d-923a-4f93-b204-a4d7e60a631c",
   "metadata": {},
   "outputs": [],
   "source": [
    "exst = [12,23,1]"
   ]
  },
  {
   "cell_type": "code",
   "execution_count": 52,
   "id": "396986e2-fced-4b96-a923-6445469594c4",
   "metadata": {},
   "outputs": [
    {
     "data": {
      "text/plain": [
       "array([  12,   23,    1,  243,   12,  412, 4321,   21,   24,    1,   12,\n",
       "         23,    1,   64,   34,   75,    3,   73,   23])"
      ]
     },
     "execution_count": 52,
     "metadata": {},
     "output_type": "execute_result"
    }
   ],
   "source": [
    "lst[a]=[exst]\n",
    "lst"
   ]
  },
  {
   "cell_type": "code",
   "execution_count": 46,
   "id": "3bfc4b6c-ee99-46fa-b77c-43023d31a019",
   "metadata": {},
   "outputs": [
    {
     "ename": "IndexError",
     "evalue": "index 100 is out of bounds for axis 0 with size 19",
     "output_type": "error",
     "traceback": [
      "\u001b[1;31m---------------------------------------------------------------------------\u001b[0m",
      "\u001b[1;31mIndexError\u001b[0m                                Traceback (most recent call last)",
      "Cell \u001b[1;32mIn[46], line 1\u001b[0m\n\u001b[1;32m----> 1\u001b[0m \u001b[43mlst\u001b[49m\u001b[43m[\u001b[49m\u001b[43m[\u001b[49m\u001b[38;5;241;43m100\u001b[39;49m\u001b[43m,\u001b[49m\u001b[38;5;241;43m101\u001b[39;49m\u001b[43m,\u001b[49m\u001b[38;5;241;43m102\u001b[39;49m\u001b[43m]\u001b[49m\u001b[43m]\u001b[49m \u001b[38;5;241m=\u001b[39m [\u001b[38;5;241m23\u001b[39m,\u001b[38;5;241m243\u001b[39m,\u001b[38;5;241m12\u001b[39m]\n",
      "\u001b[1;31mIndexError\u001b[0m: index 100 is out of bounds for axis 0 with size 19"
     ]
    }
   ],
   "source": [
    "lst[[100,101,102]] = [23,243,12]"
   ]
  },
  {
   "cell_type": "code",
   "execution_count": null,
   "id": "b39ac525-5e82-42f6-a5bb-d092052d0812",
   "metadata": {},
   "outputs": [],
   "source": []
  },
  {
   "cell_type": "code",
   "execution_count": null,
   "id": "b2f81c52-60e7-4fa4-9358-ef3fe619749f",
   "metadata": {},
   "outputs": [],
   "source": []
  },
  {
   "cell_type": "code",
   "execution_count": null,
   "id": "0f80f37b-60cb-44dc-9090-df05a6bc8f93",
   "metadata": {},
   "outputs": [],
   "source": []
  },
  {
   "cell_type": "code",
   "execution_count": null,
   "id": "0769c653-d4e1-464f-9186-c15f166f6d0f",
   "metadata": {},
   "outputs": [],
   "source": []
  },
  {
   "cell_type": "code",
   "execution_count": null,
   "id": "c0aae800-a6b8-40ff-8f0f-2c2fdc2a4468",
   "metadata": {},
   "outputs": [],
   "source": []
  },
  {
   "cell_type": "code",
   "execution_count": null,
   "id": "3b2617f2-cac4-4a77-9dfb-a6c9420193de",
   "metadata": {},
   "outputs": [],
   "source": []
  },
  {
   "cell_type": "code",
   "execution_count": null,
   "id": "8090ab34-e9a4-4492-a335-5564b024b56c",
   "metadata": {},
   "outputs": [],
   "source": []
  },
  {
   "cell_type": "code",
   "execution_count": null,
   "id": "74310d91-7f09-4320-aaef-a6635902c24c",
   "metadata": {},
   "outputs": [],
   "source": []
  }
 ],
 "metadata": {
  "kernelspec": {
   "display_name": "Python 3 (ipykernel)",
   "language": "python",
   "name": "python3"
  },
  "language_info": {
   "codemirror_mode": {
    "name": "ipython",
    "version": 3
   },
   "file_extension": ".py",
   "mimetype": "text/x-python",
   "name": "python",
   "nbconvert_exporter": "python",
   "pygments_lexer": "ipython3",
   "version": "3.12.3"
  }
 },
 "nbformat": 4,
 "nbformat_minor": 5
}
