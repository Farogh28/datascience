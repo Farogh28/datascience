{
 "cells": [
  {
   "cell_type": "code",
   "execution_count": 1,
   "id": "89876c2b-d1e9-466a-be70-008cb6d325e9",
   "metadata": {},
   "outputs": [],
   "source": [
    "import numpy as np"
   ]
  },
  {
   "cell_type": "code",
   "execution_count": null,
   "id": "e0ae1d6c-c70f-42d3-938c-38f3b2d8fd86",
   "metadata": {},
   "outputs": [],
   "source": [
    "np is faster then list as numpy stores data in a cont"
   ]
  },
  {
   "cell_type": "code",
   "execution_count": 3,
   "id": "1fe3a614-58d1-4216-abe9-8ad3ac038a5a",
   "metadata": {},
   "outputs": [
    {
     "data": {
      "text/plain": [
       "[12, 3, 23, 34, 23, 23, 5, 23, 33, 94, 53, 54, 39, 65, 44, 4, 234, 6, 546]"
      ]
     },
     "execution_count": 3,
     "metadata": {},
     "output_type": "execute_result"
    }
   ],
   "source": [
    "lst = [12,3,23,34,23,23,5,23,33,94,53,54,39,65,44,4,234,6,546]\n",
    "lst"
   ]
  },
  {
   "cell_type": "code",
   "execution_count": 24,
   "id": "462cbebb-e18f-4a6e-a5ae-4710c3dd5ad6",
   "metadata": {},
   "outputs": [
    {
     "data": {
      "text/plain": [
       "123.17689911852098"
      ]
     },
     "execution_count": 24,
     "metadata": {},
     "output_type": "execute_result"
    }
   ],
   "source": [
    "arr = np.array(lst)\n",
    "arr\n",
    "sd = np.std(arr)\n",
    "sd"
   ]
  },
  {
   "cell_type": "code",
   "execution_count": 9,
   "id": "8fc056a3-91df-4c47-800a-66219d94dd9c",
   "metadata": {},
   "outputs": [],
   "source": [
    "# np.array([12,324,3,5,345,4,\"Hello\",34.3])\n"
   ]
  },
  {
   "cell_type": "code",
   "execution_count": 10,
   "id": "1d171db3-cb66-4f84-b2c0-c8c825a636d7",
   "metadata": {},
   "outputs": [
    {
     "data": {
      "text/plain": [
       "array([  36,    9,   69,  102,   69,   69,   15,   69,   99,  282,  159,\n",
       "        162,  117,  195,  132,   12,  702,   18, 1638])"
      ]
     },
     "execution_count": 10,
     "metadata": {},
     "output_type": "execute_result"
    }
   ],
   "source": [
    "\n",
    "abc = arr*3\n",
    "abc"
   ]
  },
  {
   "cell_type": "code",
   "execution_count": 25,
   "id": "ae5c14f2-c41d-406b-9f25-2b698377895f",
   "metadata": {},
   "outputs": [
    {
     "data": {
      "text/plain": [
       "2.756809750418044"
      ]
     },
     "execution_count": 25,
     "metadata": {},
     "output_type": "execute_result"
    }
   ],
   "source": [
    "arr = np.random.randint(90,100,size = 10)\n",
    "arr\n",
    "\n",
    "ab = np.random.randint(40,60, size = (2,2,2))\n",
    "ab\n",
    "\n",
    "mean = np.mean(arr)\n",
    "mean\n",
    "\n",
    "np.amax(arr)\n",
    "\n",
    "median = np.median(arr)\n",
    "median\n",
    "\n",
    "# Standart Daviation\n",
    "sd = np.std(arr)\n",
    "sd"
   ]
  },
  {
   "cell_type": "code",
   "execution_count": 40,
   "id": "a887cf8e-0c4b-43c1-876e-e00a65bf9e18",
   "metadata": {},
   "outputs": [
    {
     "name": "stdout",
     "output_type": "stream",
     "text": [
      "[[12 12 14 12 10 14 12 11 14 17]\n",
      " [11 13 12 17 18 19 18 17 13 15]]\n",
      "   \n",
      "[[12 12 14 12]\n",
      " [10 14 12 11]\n",
      " [14 17 11 13]\n",
      " [12 17 18 19]\n",
      " [18 17 13 15]]\n"
     ]
    }
   ],
   "source": [
    "arr = np.random.randint(10,20,size = 20)\n",
    "arr\n",
    "\n",
    "\n",
    "# new = np.reshape(arr,(2,5))\n",
    "# print(new)\n",
    "\n",
    "new1 = np.reshape(arr,(2,10))\n",
    "print(new1)\n",
    "\n",
    "print (\"   \")\n",
    "new2 = arr.reshape(5,4)\n",
    "print(new2)"
   ]
  },
  {
   "cell_type": "code",
   "execution_count": null,
   "id": "f3403848-6cbf-439b-b5f5-930e852aa5d8",
   "metadata": {},
   "outputs": [],
   "source": []
  },
  {
   "cell_type": "code",
   "execution_count": null,
   "id": "28e59bce-5a8b-4d22-9903-9f859c0686f5",
   "metadata": {},
   "outputs": [],
   "source": []
  },
  {
   "cell_type": "code",
   "execution_count": null,
   "id": "9b2ea22e-4b99-4a17-b0e9-a763476227ef",
   "metadata": {},
   "outputs": [],
   "source": []
  },
  {
   "cell_type": "code",
   "execution_count": null,
   "id": "e1838761-60fc-4a3b-bc18-41badefe9bef",
   "metadata": {},
   "outputs": [],
   "source": []
  }
 ],
 "metadata": {
  "kernelspec": {
   "display_name": "Python 3 (ipykernel)",
   "language": "python",
   "name": "python3"
  },
  "language_info": {
   "codemirror_mode": {
    "name": "ipython",
    "version": 3
   },
   "file_extension": ".py",
   "mimetype": "text/x-python",
   "name": "python",
   "nbconvert_exporter": "python",
   "pygments_lexer": "ipython3",
   "version": "3.12.3"
  }
 },
 "nbformat": 4,
 "nbformat_minor": 5
}
