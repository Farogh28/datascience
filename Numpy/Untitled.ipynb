{
 "cells": [
  {
   "cell_type": "markdown",
   "id": "ccaa459d-b125-4144-8640-fe016fa42530",
   "metadata": {},
   "source": [
    "# Groupby"
   ]
  },
  {
   "cell_type": "code",
   "execution_count": null,
   "id": "a1c244d6-3d85-4bec-8415-f60b91d1cb1f",
   "metadata": {},
   "outputs": [],
   "source": []
  },
  {
   "cell_type": "code",
   "execution_count": 34,
   "id": "36059653-1292-4897-8431-9d37266bde69",
   "metadata": {},
   "outputs": [],
   "source": [
    "import numpy as np\n",
    "import pandas as pd\n",
    "from numpy import random"
   ]
  },
  {
   "cell_type": "code",
   "execution_count": 22,
   "id": "97576895-90c6-4101-b1d0-0f42a8e822aa",
   "metadata": {},
   "outputs": [],
   "source": [
    "# data = np.random.rand(10,20)"
   ]
  },
  {
   "cell_type": "code",
   "execution_count": 27,
   "id": "d0e66c6e-ddd6-4145-aa1f-ec6916fb1687",
   "metadata": {},
   "outputs": [],
   "source": [
    "var = pd.DataFrame ({\n",
    "    \"Name\": ['a','b','c','d','e','f','g','a','c','d'],\n",
    "    \"Num1\": [11,12,13,14,15,16,17,12,15,17],\n",
    "    \"Num2\": [21,22,23,24,25,26,27,23,27,29]\n",
    "})"
   ]
  },
  {
   "cell_type": "code",
   "execution_count": 28,
   "id": "4813b883-6c7d-4fee-8f8d-0087203bae6f",
   "metadata": {},
   "outputs": [
    {
     "data": {
      "text/html": [
       "<div>\n",
       "<style scoped>\n",
       "    .dataframe tbody tr th:only-of-type {\n",
       "        vertical-align: middle;\n",
       "    }\n",
       "\n",
       "    .dataframe tbody tr th {\n",
       "        vertical-align: top;\n",
       "    }\n",
       "\n",
       "    .dataframe thead th {\n",
       "        text-align: right;\n",
       "    }\n",
       "</style>\n",
       "<table border=\"1\" class=\"dataframe\">\n",
       "  <thead>\n",
       "    <tr style=\"text-align: right;\">\n",
       "      <th></th>\n",
       "      <th>Name</th>\n",
       "      <th>Num1</th>\n",
       "      <th>Num2</th>\n",
       "    </tr>\n",
       "  </thead>\n",
       "  <tbody>\n",
       "    <tr>\n",
       "      <th>0</th>\n",
       "      <td>a</td>\n",
       "      <td>11</td>\n",
       "      <td>21</td>\n",
       "    </tr>\n",
       "    <tr>\n",
       "      <th>1</th>\n",
       "      <td>b</td>\n",
       "      <td>12</td>\n",
       "      <td>22</td>\n",
       "    </tr>\n",
       "    <tr>\n",
       "      <th>2</th>\n",
       "      <td>c</td>\n",
       "      <td>13</td>\n",
       "      <td>23</td>\n",
       "    </tr>\n",
       "    <tr>\n",
       "      <th>3</th>\n",
       "      <td>d</td>\n",
       "      <td>14</td>\n",
       "      <td>24</td>\n",
       "    </tr>\n",
       "    <tr>\n",
       "      <th>4</th>\n",
       "      <td>e</td>\n",
       "      <td>15</td>\n",
       "      <td>25</td>\n",
       "    </tr>\n",
       "    <tr>\n",
       "      <th>5</th>\n",
       "      <td>f</td>\n",
       "      <td>16</td>\n",
       "      <td>26</td>\n",
       "    </tr>\n",
       "    <tr>\n",
       "      <th>6</th>\n",
       "      <td>g</td>\n",
       "      <td>17</td>\n",
       "      <td>27</td>\n",
       "    </tr>\n",
       "    <tr>\n",
       "      <th>7</th>\n",
       "      <td>a</td>\n",
       "      <td>12</td>\n",
       "      <td>23</td>\n",
       "    </tr>\n",
       "    <tr>\n",
       "      <th>8</th>\n",
       "      <td>c</td>\n",
       "      <td>15</td>\n",
       "      <td>27</td>\n",
       "    </tr>\n",
       "    <tr>\n",
       "      <th>9</th>\n",
       "      <td>d</td>\n",
       "      <td>17</td>\n",
       "      <td>29</td>\n",
       "    </tr>\n",
       "  </tbody>\n",
       "</table>\n",
       "</div>"
      ],
      "text/plain": [
       "  Name  Num1  Num2\n",
       "0    a    11    21\n",
       "1    b    12    22\n",
       "2    c    13    23\n",
       "3    d    14    24\n",
       "4    e    15    25\n",
       "5    f    16    26\n",
       "6    g    17    27\n",
       "7    a    12    23\n",
       "8    c    15    27\n",
       "9    d    17    29"
      ]
     },
     "execution_count": 28,
     "metadata": {},
     "output_type": "execute_result"
    }
   ],
   "source": [
    "var"
   ]
  },
  {
   "cell_type": "code",
   "execution_count": null,
   "id": "52764f76-b957-49d7-a3b9-f30a4434f148",
   "metadata": {},
   "outputs": [],
   "source": []
  },
  {
   "cell_type": "code",
   "execution_count": 32,
   "id": "95a01fde-3943-43bc-88c7-84d844d217af",
   "metadata": {},
   "outputs": [
    {
     "data": {
      "text/plain": [
       "<pandas.core.groupby.generic.DataFrameGroupBy object at 0x00000246E7DFC440>"
      ]
     },
     "execution_count": 32,
     "metadata": {},
     "output_type": "execute_result"
    }
   ],
   "source": [
    "var_new= var.groupby(\"Name\")\n",
    "\n",
    "var_new"
   ]
  },
  {
   "cell_type": "code",
   "execution_count": 33,
   "id": "93f66ede-5554-4df3-b1bf-58337634715c",
   "metadata": {},
   "outputs": [
    {
     "name": "stdout",
     "output_type": "stream",
     "text": [
      "a\n",
      "  Name  Num1  Num2\n",
      "0    a    11    21\n",
      "7    a    12    23\n",
      "b\n",
      "  Name  Num1  Num2\n",
      "1    b    12    22\n",
      "c\n",
      "  Name  Num1  Num2\n",
      "2    c    13    23\n",
      "8    c    15    27\n",
      "d\n",
      "  Name  Num1  Num2\n",
      "3    d    14    24\n",
      "9    d    17    29\n",
      "e\n",
      "  Name  Num1  Num2\n",
      "4    e    15    25\n",
      "f\n",
      "  Name  Num1  Num2\n",
      "5    f    16    26\n",
      "g\n",
      "  Name  Num1  Num2\n",
      "6    g    17    27\n"
     ]
    }
   ],
   "source": [
    "for x,y in var_new:\n",
    "    print (x)\n",
    "    print (y)"
   ]
  },
  {
   "cell_type": "code",
   "execution_count": null,
   "id": "a9375ad8-cd43-4571-a8f1-fcdcea467c0b",
   "metadata": {},
   "outputs": [],
   "source": []
  },
  {
   "cell_type": "code",
   "execution_count": null,
   "id": "25f64a16-b09a-43a5-aed9-71021a6bd6d1",
   "metadata": {},
   "outputs": [],
   "source": []
  },
  {
   "cell_type": "code",
   "execution_count": null,
   "id": "04e2be0a-4311-4cba-a13e-ffa2cc22c2ab",
   "metadata": {},
   "outputs": [],
   "source": []
  },
  {
   "cell_type": "code",
   "execution_count": null,
   "id": "17c3d842-f809-4861-a678-02894603203e",
   "metadata": {},
   "outputs": [],
   "source": []
  },
  {
   "cell_type": "code",
   "execution_count": 38,
   "id": "cb1399ec-823a-4c06-b9ae-abed3d718077",
   "metadata": {},
   "outputs": [
    {
     "name": "stdout",
     "output_type": "stream",
     "text": [
      "[[ 0.93502723  0.79477336 -0.26289302  0.02647256]\n",
      " [-0.25292006 -0.8337406  -2.51583846 -1.88435495]\n",
      " [ 1.02193318 -1.48995042  0.57343674  1.72328067]\n",
      " [ 0.31096927 -0.01696328  2.02711048 -1.4312116 ]\n",
      " [-1.60839006  0.59312318 -0.18139604  0.75556566]]\n"
     ]
    }
   ],
   "source": [
    "vb = random.randn (5,4 )  #( rows , columns)\n",
    "print (vb)\n",
    "\n",
    "\n"
   ]
  },
  {
   "cell_type": "code",
   "execution_count": 42,
   "id": "27a9b7e8-3392-43a7-aee0-80f98eb8a819",
   "metadata": {},
   "outputs": [
    {
     "name": "stdout",
     "output_type": "stream",
     "text": [
      "[[2 2 2 3]\n",
      " [2 3 3 3]]\n"
     ]
    }
   ],
   "source": [
    "vb = random.randint (2, 4 ,size = (2,4))\n",
    "print (vb)\n",
    "\n",
    "\n"
   ]
  },
  {
   "cell_type": "code",
   "execution_count": null,
   "id": "ffef72db-ff42-4ecc-9742-18d095ab9f4b",
   "metadata": {},
   "outputs": [],
   "source": []
  }
 ],
 "metadata": {
  "kernelspec": {
   "display_name": "Python 3 (ipykernel)",
   "language": "python",
   "name": "python3"
  },
  "language_info": {
   "codemirror_mode": {
    "name": "ipython",
    "version": 3
   },
   "file_extension": ".py",
   "mimetype": "text/x-python",
   "name": "python",
   "nbconvert_exporter": "python",
   "pygments_lexer": "ipython3",
   "version": "3.12.3"
  }
 },
 "nbformat": 4,
 "nbformat_minor": 5
}
