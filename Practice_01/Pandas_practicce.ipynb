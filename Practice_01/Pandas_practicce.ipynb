{
 "cells": [
  {
   "cell_type": "code",
   "execution_count": 1,
   "id": "bb629b15-68b3-4bc1-b74f-2ad54a181188",
   "metadata": {},
   "outputs": [],
   "source": [
    "import pandas as pd"
   ]
  },
  {
   "cell_type": "code",
   "execution_count": 2,
   "id": "f8674529-8dee-4bcf-8ea1-1855605fe7ec",
   "metadata": {},
   "outputs": [
    {
     "name": "stdout",
     "output_type": "stream",
     "text": [
      "2.2.2\n"
     ]
    }
   ],
   "source": [
    "#Checking version\n",
    "\n",
    "print(pd.__version__)"
   ]
  },
  {
   "cell_type": "markdown",
   "id": "0d0711ab-3e01-4bff-b64e-eb7588510a01",
   "metadata": {},
   "source": [
    "# Series create, manipilate, query, delete"
   ]
  },
  {
   "cell_type": "code",
   "execution_count": null,
   "id": "4519a5c3-472f-4a35-83bd-0548fbdb5942",
   "metadata": {},
   "outputs": [],
   "source": [
    "# Creating series\n",
    "\n",
    "arr = [0,1,2,3,4]\n",
    "s1 = pd.Series(arr)"
   ]
  }
 ],
 "metadata": {
  "kernelspec": {
   "display_name": "Python 3 (ipykernel)",
   "language": "python",
   "name": "python3"
  },
  "language_info": {
   "codemirror_mode": {
    "name": "ipython",
    "version": 3
   },
   "file_extension": ".py",
   "mimetype": "text/x-python",
   "name": "python",
   "nbconvert_exporter": "python",
   "pygments_lexer": "ipython3",
   "version": "3.12.3"
  }
 },
 "nbformat": 4,
 "nbformat_minor": 5
}
