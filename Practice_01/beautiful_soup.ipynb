{
 "cells": [
  {
   "cell_type": "markdown",
   "id": "ba341e34-2107-419b-b340-24c310253dce",
   "metadata": {},
   "source": [
    "# Beautiful Soup "
   ]
  },
  {
   "cell_type": "code",
   "execution_count": 1,
   "id": "912b6730-b39b-4cf4-932b-430588b3d75e",
   "metadata": {},
   "outputs": [
    {
     "name": "stdout",
     "output_type": "stream",
     "text": [
      "Requirement already satisfied: beautifulsoup4 in c:\\users\\farogh\\appdata\\local\\programs\\python\\python312\\lib\\site-packages (4.12.3)\n",
      "Requirement already satisfied: soupsieve>1.2 in c:\\users\\farogh\\appdata\\local\\programs\\python\\python312\\lib\\site-packages (from beautifulsoup4) (2.5)\n",
      "Note: you may need to restart the kernel to use updated packages.\n"
     ]
    },
    {
     "name": "stderr",
     "output_type": "stream",
     "text": [
      "\n",
      "[notice] A new release of pip is available: 24.0 -> 24.2\n",
      "[notice] To update, run: python.exe -m pip install --upgrade pip\n"
     ]
    }
   ],
   "source": [
    "pip install beautifulsoup4"
   ]
  },
  {
   "cell_type": "code",
   "execution_count": null,
   "id": "844f0cc2-408e-40b6-b562-ef217831f2a1",
   "metadata": {},
   "outputs": [],
   "source": []
  },
  {
   "cell_type": "code",
   "execution_count": 1,
   "id": "47eb5bb0-bd2b-4457-bbbb-93f1c3e1bcbe",
   "metadata": {},
   "outputs": [],
   "source": [
    "import pandas as pd\n",
    "import numpy as np\n",
    "import matplotlib.pyplot as plt\n",
    "\n",
    "%matplotlib inline   \n",
    "\n",
    "from urllib.request import urlopen\n",
    "from bs4 import BeautifulSoup\n",
    "import re               # for manipulating the regular expression"
   ]
  },
  {
   "cell_type": "code",
   "execution_count": null,
   "id": "684bce2d-24eb-44a8-bd37-3cd6541f66f9",
   "metadata": {},
   "outputs": [],
   "source": []
  },
  {
   "cell_type": "code",
   "execution_count": 2,
   "id": "1a14c585-8052-464a-b7be-e807622f92c7",
   "metadata": {},
   "outputs": [],
   "source": [
    "url =  \"https://www.hubertiming.com/results/2024SalemFreeClinics\"   # OPEN LINK\n",
    "\n",
    "html = urlopen(url)  # To open the url"
   ]
  },
  {
   "cell_type": "code",
   "execution_count": 3,
   "id": "e4e176e5-8957-4360-be53-51ec3d8a02b3",
   "metadata": {},
   "outputs": [],
   "source": [
    "soup = BeautifulSoup(html)"
   ]
  },
  {
   "cell_type": "code",
   "execution_count": 4,
   "id": "dbb0afd0-b424-470d-9b5c-cfff24c1fb81",
   "metadata": {},
   "outputs": [
    {
     "name": "stdout",
     "output_type": "stream",
     "text": [
      "<title>Race results for the 2024 Run for Salem Free Clinics!</title>\n",
      "Race results for the 2024 Run for Salem Free Clinics!\n"
     ]
    }
   ],
   "source": [
    "title = soup.title\n",
    "\n",
    "print (title)\n",
    "print (title.text)"
   ]
  },
  {
   "cell_type": "code",
   "execution_count": null,
   "id": "e36d1b41-a584-4c49-8c8f-a38c93a4f3ef",
   "metadata": {},
   "outputs": [],
   "source": []
  },
  {
   "cell_type": "code",
   "execution_count": 5,
   "id": "f1ebc217-1611-4e07-be25-14eebdfd52f8",
   "metadata": {},
   "outputs": [
    {
     "ename": "SyntaxError",
     "evalue": "expression cannot contain assignment, perhaps you meant \"==\"? (4125444952.py, line 1)",
     "output_type": "error",
     "traceback": [
      "\u001b[1;36m  Cell \u001b[1;32mIn[5], line 1\u001b[1;36m\u001b[0m\n\u001b[1;33m    links = soup.find_all ('a'. href = True)\u001b[0m\n\u001b[1;37m                           ^\u001b[0m\n\u001b[1;31mSyntaxError\u001b[0m\u001b[1;31m:\u001b[0m expression cannot contain assignment, perhaps you meant \"==\"?\n"
     ]
    }
   ],
   "source": [
    "links = soup.find_all ('a'. href = True)\n",
    "for link in links:\n",
    "    print(link['href'])"
   ]
  },
  {
   "cell_type": "code",
   "execution_count": null,
   "id": "0a3413e3-5960-49e5-890c-d982f229c3f8",
   "metadata": {},
   "outputs": [],
   "source": []
  },
  {
   "cell_type": "code",
   "execution_count": null,
   "id": "47426871-916c-49cc-83d9-d9c94f58dd99",
   "metadata": {},
   "outputs": [],
   "source": []
  },
  {
   "cell_type": "code",
   "execution_count": null,
   "id": "785463da-3b34-419d-9bb0-18b556f936e3",
   "metadata": {},
   "outputs": [],
   "source": []
  }
 ],
 "metadata": {
  "kernelspec": {
   "display_name": "Python 3 (ipykernel)",
   "language": "python",
   "name": "python3"
  },
  "language_info": {
   "codemirror_mode": {
    "name": "ipython",
    "version": 3
   },
   "file_extension": ".py",
   "mimetype": "text/x-python",
   "name": "python",
   "nbconvert_exporter": "python",
   "pygments_lexer": "ipython3",
   "version": "3.12.3"
  }
 },
 "nbformat": 4,
 "nbformat_minor": 5
}
