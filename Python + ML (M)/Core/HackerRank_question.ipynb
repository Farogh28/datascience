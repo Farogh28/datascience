{
 "cells": [
  {
   "cell_type": "code",
   "execution_count": null,
   "id": "e37cca2a-f7bf-4fb6-9713-171c330cef69",
   "metadata": {},
   "outputs": [],
   "source": [
    "# The included code stub will read an integer,n , from STDIN.\n",
    "\n",
    "# Without using any string methods, try to print the following:\n",
    "\n",
    "# 123....n\n",
    "\n",
    "# Note that \"\" represents the consecutive values in between."
   ]
  },
  {
   "cell_type": "code",
   "execution_count": null,
   "id": "0d30f44f-3a62-4af4-a341-0b50a360d54c",
   "metadata": {},
   "outputs": [],
   "source": []
  },
  {
   "cell_type": "code",
   "execution_count": null,
   "id": "a0310e95-df31-4210-ab7e-a2a100635399",
   "metadata": {},
   "outputs": [],
   "source": []
  },
  {
   "cell_type": "code",
   "execution_count": null,
   "id": "868c9362-1200-441c-8a4d-d33e158c03ea",
   "metadata": {},
   "outputs": [],
   "source": []
  }
 ],
 "metadata": {
  "kernelspec": {
   "display_name": "Python 3 (ipykernel)",
   "language": "python",
   "name": "python3"
  },
  "language_info": {
   "codemirror_mode": {
    "name": "ipython",
    "version": 3
   },
   "file_extension": ".py",
   "mimetype": "text/x-python",
   "name": "python",
   "nbconvert_exporter": "python",
   "pygments_lexer": "ipython3",
   "version": "3.12.3"
  }
 },
 "nbformat": 4,
 "nbformat_minor": 5
}
