{
 "cells": [
  {
   "cell_type": "code",
   "execution_count": 2,
   "id": "f301cac6-5809-4260-bba4-614b02fb7a24",
   "metadata": {},
   "outputs": [],
   "source": [
    "OOPS: - \n",
    "\n",
    "Class: is a blueprint of an object.\n",
    "Object: is a instance of a class."
   ]
  },
  {
   "cell_type": "code",
   "execution_count": null,
   "id": "7c1d7821-1f14-4d74-8ca7-acf7bcd53e22",
   "metadata": {},
   "outputs": [],
   "source": []
  },
  {
   "cell_type": "code",
   "execution_count": 8,
   "id": "74d8c7d6-7aed-4dc6-9a3a-98cd582559d0",
   "metadata": {},
   "outputs": [
    {
     "name": "stdout",
     "output_type": "stream",
     "text": [
      "This is a car\n",
      "This is a bus\n",
      "Hello world\n"
     ]
    }
   ],
   "source": [
    "class myclass:\n",
    "    #we call methods over here (function)\n",
    "    def car(self):    # SELF is used for refrencing.\n",
    "        print (\"This is a car\")\n",
    "        \n",
    "    def bus(self):\n",
    "        print (\"This is a bus\")\n",
    "\n",
    "    def hello(self):\n",
    "        print (\"Hello world\")\n",
    "#Creating an object to access the class\n",
    "\n",
    "obj = myclass()\n",
    "\n",
    "\n",
    "obj.car()\n",
    "obj.bus()\n",
    "obj.hello()"
   ]
  },
  {
   "cell_type": "code",
   "execution_count": 13,
   "id": "2610f4dd-6a43-4301-9a68-617130e8ad5b",
   "metadata": {},
   "outputs": [
    {
     "name": "stdout",
     "output_type": "stream",
     "text": [
      "This is mthd 1\n",
      "This is mthd 2\n",
      "This is mthd 3\n"
     ]
    }
   ],
   "source": [
    "class mycls:\n",
    "    def mthd1(self):\n",
    "        print (\"This is mthd 1\")\n",
    "\n",
    "    def mthd2(self):\n",
    "        print (\"This is mthd 2\")\n",
    "    def mthd3(self):\n",
    "        print (\"This is mthd 3\")\n",
    "\n",
    "x = mycls()     # Create an object for the main class.\n",
    "\n",
    "x.mthd1()\n",
    "\n",
    "y = mycls()     # Can crate many object for the same class.\n",
    "\n",
    "y.mthd2()\n",
    "\n",
    "my = mycls()\n",
    "\n",
    "my.mthd3()"
   ]
  },
  {
   "cell_type": "code",
   "execution_count": null,
   "id": "fd00495d-74fa-4539-8e40-a8381f969b34",
   "metadata": {},
   "outputs": [],
   "source": []
  },
  {
   "cell_type": "code",
   "execution_count": null,
   "id": "d55e6923-aeef-4ebe-919d-58fb06d5c345",
   "metadata": {},
   "outputs": [],
   "source": []
  },
  {
   "cell_type": "markdown",
   "id": "cd241a8b-bacf-4bee-99af-ce98137eafbb",
   "metadata": {},
   "source": [
    "# CONSTRUCTOR"
   ]
  },
  {
   "cell_type": "code",
   "execution_count": 15,
   "id": "94b6d037-a276-4f59-87b6-df660ace720d",
   "metadata": {},
   "outputs": [],
   "source": [
    "Is a special mthd in a class that is called automatically called when \n",
    "an object is created. \n",
    "\n",
    "It is creatd using the __init__ method and used to initialize attributes.\n"
   ]
  },
  {
   "cell_type": "code",
   "execution_count": null,
   "id": "09b469e6-c606-4c9e-8b5a-d9d00d601a60",
   "metadata": {},
   "outputs": [],
   "source": []
  },
  {
   "cell_type": "code",
   "execution_count": 16,
   "id": "4f8e20f0-fd64-410c-888a-60eb682d92e5",
   "metadata": {},
   "outputs": [
    {
     "name": "stdout",
     "output_type": "stream",
     "text": [
      "This is hello\n"
     ]
    }
   ],
   "source": [
    "class  xyz:\n",
    "    def hlo(self):\n",
    "        print(\"This is hello\")\n",
    "\n",
    "    def sumthis(self, a, b):\n",
    "        c= a+b\n",
    "        print (c)\n",
    "\n",
    "    def savedata(self):\n",
    "        print (\"This is save data\")\n",
    "\n",
    "obj = xyz()\n",
    "\n",
    "obj.hlo()"
   ]
  },
  {
   "cell_type": "code",
   "execution_count": 17,
   "id": "baae4d26-5c92-4b10-b248-d29831328607",
   "metadata": {},
   "outputs": [
    {
     "name": "stdout",
     "output_type": "stream",
     "text": [
      "44\n"
     ]
    }
   ],
   "source": [
    "obj.sumthis(10,34)"
   ]
  },
  {
   "cell_type": "code",
   "execution_count": 19,
   "id": "e5885c0a-15ef-48d5-9876-bd845ce5e962",
   "metadata": {},
   "outputs": [
    {
     "name": "stdout",
     "output_type": "stream",
     "text": [
      "This is save data\n"
     ]
    }
   ],
   "source": [
    "obj.savedata()"
   ]
  },
  {
   "cell_type": "code",
   "execution_count": null,
   "id": "2e9b4fdb-9c8d-4776-869d-4c9b349a3880",
   "metadata": {},
   "outputs": [],
   "source": []
  },
  {
   "cell_type": "code",
   "execution_count": 30,
   "id": "b4a0d51b-c1e1-43b1-992b-5340c864f5a3",
   "metadata": {},
   "outputs": [
    {
     "name": "stdout",
     "output_type": "stream",
     "text": [
      "12\n"
     ]
    }
   ],
   "source": [
    "class  xyz:\n",
    "    def __init__(self, a, b):   #Constructor - It calls automatically when obj is created \n",
    "          self.c= a+b     # Self.c is an attribute\n",
    "          # print(c)\n",
    "    \n",
    "    def hlo(self):\n",
    "        # c= a+b\n",
    "        print(self.c)     # called attribute here.\n",
    "\n",
    "    def sumthis(self):\n",
    "        print (\"This is mthd\")\n",
    "\n",
    "    def savedata(self):\n",
    "        print (\"This is save data\")\n",
    "\n",
    "obj = xyz(10,2)      # now object is creted, so constructor calls automatically\n",
    "obj.hlo()"
   ]
  },
  {
   "cell_type": "code",
   "execution_count": null,
   "id": "393b62f5-97a9-4929-a5cc-2c938c896b1d",
   "metadata": {},
   "outputs": [],
   "source": []
  },
  {
   "cell_type": "markdown",
   "id": "8c6a9381-244b-4b9a-a6de-e392b21e270d",
   "metadata": {},
   "source": [
    "# Inheritance"
   ]
  },
  {
   "cell_type": "code",
   "execution_count": null,
   "id": "d9e2c375-285b-4374-bd27-6f7e69333436",
   "metadata": {},
   "outputs": [],
   "source": [
    "single "
   ]
  },
  {
   "cell_type": "code",
   "execution_count": 38,
   "id": "9b5834ad-3672-4a1a-918c-dcd4d839df27",
   "metadata": {},
   "outputs": [
    {
     "name": "stdout",
     "output_type": "stream",
     "text": [
      "This is mthd 2\n",
      "This is mthd 1\n"
     ]
    }
   ],
   "source": [
    "class mycls1:\n",
    "    def mthd1(self):\n",
    "        print (\"This is mthd 1\")\n",
    "\n",
    "    def mthd2(self):\n",
    "        print (\"This is mthd 2\")\n",
    "    def mthd3(self):\n",
    "        print (\"This is mthd 3\")\n",
    "\n",
    "\n",
    "class mycls2(mycls1):\n",
    "    def ab(self):\n",
    "        pass\n",
    "        # print (\"hi\")\n",
    "\n",
    "\n",
    "obj = mycls2()\n",
    "\n",
    "obj.mthd2()\n",
    "\n",
    "obj.mthd1()\n",
    "\n"
   ]
  },
  {
   "cell_type": "code",
   "execution_count": null,
   "id": "81580e88-a48b-4522-8453-2d130e92c074",
   "metadata": {},
   "outputs": [],
   "source": []
  },
  {
   "cell_type": "code",
   "execution_count": null,
   "id": "a828fa95-8a7f-4f2f-84be-ad6ef629be50",
   "metadata": {},
   "outputs": [],
   "source": [
    "Multiple    --  1 child and many parent"
   ]
  },
  {
   "cell_type": "code",
   "execution_count": null,
   "id": "03ad90ef-1a4c-49f4-837b-7dd909b097b2",
   "metadata": {},
   "outputs": [],
   "source": []
  },
  {
   "cell_type": "code",
   "execution_count": 41,
   "id": "6b5ebe95-f810-442e-92fe-399421e16cb9",
   "metadata": {},
   "outputs": [
    {
     "name": "stdout",
     "output_type": "stream",
     "text": [
      "This is mthd 4\n",
      "This is mthd 1\n"
     ]
    }
   ],
   "source": [
    "class mycls:\n",
    "    def mthd1(self):\n",
    "        print (\"This is mthd 1\")\n",
    "\n",
    "    def mthd2(self):\n",
    "        print (\"This is mthd 2\")\n",
    "    def mthd3(self):\n",
    "        print (\"This is mthd 3\")\n",
    "\n",
    "class mycls1:\n",
    "    def mthd4(self):\n",
    "        print (\"This is mthd 4\")\n",
    "\n",
    "    def mthd5(self):\n",
    "        print (\"This is mthd 5\")\n",
    "    def mthd6(self):\n",
    "        print (\"This is mthd 6\")\n",
    "\n",
    "\n",
    "class mycls2(mycls1, mycls):\n",
    "    def mthd1(self):\n",
    "        print (\"This is mthd 1\")\n",
    "\n",
    "\n",
    "obj = mycls2()\n",
    "\n",
    "obj.mthd4()\n",
    "obj.mthd1()\n"
   ]
  },
  {
   "cell_type": "code",
   "execution_count": null,
   "id": "40c16eaf-7fd6-4561-a455-43377a52f84c",
   "metadata": {},
   "outputs": [],
   "source": []
  },
  {
   "cell_type": "code",
   "execution_count": null,
   "id": "f51201ff-67ec-4f56-b280-c40173b78069",
   "metadata": {},
   "outputs": [],
   "source": [
    "Multi level    chain relatiobn grand parent> parent > child"
   ]
  },
  {
   "cell_type": "code",
   "execution_count": null,
   "id": "ded13269-b86c-4225-8384-0aeddbf7ca24",
   "metadata": {},
   "outputs": [],
   "source": []
  },
  {
   "cell_type": "code",
   "execution_count": 45,
   "id": "2764eb12-2afd-425b-884c-158af89aa8af",
   "metadata": {},
   "outputs": [
    {
     "name": "stdout",
     "output_type": "stream",
     "text": [
      "This is mthd 1\n",
      "This is mthd 3\n"
     ]
    }
   ],
   "source": [
    "class mycls:\n",
    "    def mthd1(self):\n",
    "        print (\"This is mthd 1\")\n",
    "\n",
    "    def mthd2(self):\n",
    "        print (\"This is mthd 2\")\n",
    "    def mthd3(self):\n",
    "        print (\"This is mthd 3\")\n",
    "\n",
    "class mycls1(mycls):\n",
    "    def mthd4(self):\n",
    "        print (\"This is mthd 4\")\n",
    "\n",
    "    def mthd5(self):\n",
    "        print (\"This is mthd 5\")\n",
    "    def mthd6(self):\n",
    "        print (\"This is mthd 6\")\n",
    "\n",
    "\n",
    "class mycls2(mycls1):\n",
    "    def mthd1(self):\n",
    "        print (\"This is mthd 1\")\n",
    "\n",
    "\n",
    "obj = mycls2()\n",
    "\n",
    "obj.mthd1()\n",
    "obj.mthd3()"
   ]
  },
  {
   "cell_type": "code",
   "execution_count": null,
   "id": "c227b5e0-0eaf-432c-a26b-b87a8b84a682",
   "metadata": {},
   "outputs": [],
   "source": []
  },
  {
   "cell_type": "code",
   "execution_count": null,
   "id": "7345318a-6d3e-4b53-931d-c402fbff4570",
   "metadata": {},
   "outputs": [],
   "source": [
    "Herarchichal   1 parent multiple child"
   ]
  },
  {
   "cell_type": "code",
   "execution_count": null,
   "id": "c94adfa1-cdd5-4bd3-a564-fc7a00c7cf4e",
   "metadata": {},
   "outputs": [],
   "source": []
  },
  {
   "cell_type": "code",
   "execution_count": 48,
   "id": "71a40b18-acfa-4898-8962-e7e615563a22",
   "metadata": {},
   "outputs": [
    {
     "name": "stdout",
     "output_type": "stream",
     "text": [
      "This is mthd 7\n",
      "This is mthd 5\n"
     ]
    }
   ],
   "source": [
    "class mycls:\n",
    "    def mthd1(self):\n",
    "        print (\"This is mthd 1\")\n",
    "\n",
    "    def mthd2(self):\n",
    "        print (\"This is mthd 2\")\n",
    "    def mthd3(self):\n",
    "        print (\"This is mthd 3\")\n",
    "\n",
    "class mycls1(mycls):\n",
    "    def mthd4(self):\n",
    "        print (\"This is mthd 4\")\n",
    "\n",
    "    def mthd5(self):\n",
    "        print (\"This is mthd 5\")\n",
    "    def mthd6(self):\n",
    "        print (\"This is mthd 6\")\n",
    "\n",
    "\n",
    "class mycls2(mycls):\n",
    "    def mthd7(self):\n",
    "        print (\"This is mthd 7\")\n",
    "\n",
    "\n",
    "obj = mycls2()\n",
    "obj1 = mycls1()\n",
    "\n",
    "\n",
    "\n",
    "obj.mthd7()\n",
    "obj1.mthd5()"
   ]
  },
  {
   "cell_type": "code",
   "execution_count": null,
   "id": "222905e3-9305-4cd6-8a68-5641bac4019f",
   "metadata": {},
   "outputs": [],
   "source": []
  },
  {
   "cell_type": "markdown",
   "id": "cf425a4b-7000-4526-a3b0-30e9f9ab7887",
   "metadata": {},
   "source": [
    "# Hybrid   - more then 1 inheritance , ex = herarchichal and multiple"
   ]
  },
  {
   "cell_type": "code",
   "execution_count": null,
   "id": "7c0989f0-55d8-4a6f-ae7f-be5663869d24",
   "metadata": {},
   "outputs": [],
   "source": []
  },
  {
   "cell_type": "code",
   "execution_count": 52,
   "id": "89bf846e-02f4-4c01-b120-67f96b944b01",
   "metadata": {},
   "outputs": [
    {
     "name": "stdout",
     "output_type": "stream",
     "text": [
      "This is mthd 7\n",
      "This is mthd 4\n",
      "This is mthd 1\n"
     ]
    }
   ],
   "source": [
    "class mycls:\n",
    "    def mthd1(self):\n",
    "        print (\"This is mthd 1\")\n",
    "\n",
    "    def mthd2(self):\n",
    "        print (\"This is mthd 2\")\n",
    "    def mthd3(self):\n",
    "        print (\"This is mthd 3\")\n",
    "\n",
    "class mycls1(mycls):\n",
    "    def mthd4(self):\n",
    "        print (\"This is mthd 4\")\n",
    "\n",
    "    def mthd5(self):\n",
    "        print (\"This is mthd 5\")\n",
    "    def mthd6(self):\n",
    "        print (\"This is mthd 6\")\n",
    "\n",
    "\n",
    "class mycls2(mycls):\n",
    "    def mthd7(self):\n",
    "        print (\"This is mthd 7\")\n",
    "\n",
    "class mycls3(mycls2, mycls1):\n",
    "    def mthd8(self):\n",
    "        print (\"This is mthd 8\")\n",
    "\n",
    "\n",
    "\n",
    "obj = mycls3()\n",
    "# obj1 = mycls1()\n",
    "\n",
    "\n",
    "obj.mthd7()\n",
    "obj.mthd4()\n",
    "obj.mthd1()\n"
   ]
  },
  {
   "cell_type": "code",
   "execution_count": null,
   "id": "e81ba497-6778-4467-87ab-e4c85742a286",
   "metadata": {},
   "outputs": [],
   "source": []
  },
  {
   "cell_type": "code",
   "execution_count": null,
   "id": "034f2ba9-5923-4f85-91b7-e63562ef5059",
   "metadata": {},
   "outputs": [],
   "source": []
  },
  {
   "cell_type": "code",
   "execution_count": null,
   "id": "07d3f024-c9cc-4c1e-8653-65566c8f165e",
   "metadata": {},
   "outputs": [],
   "source": []
  },
  {
   "cell_type": "code",
   "execution_count": null,
   "id": "7c8907c7-9fac-488e-9a90-d69dfcc113e0",
   "metadata": {},
   "outputs": [],
   "source": []
  },
  {
   "cell_type": "code",
   "execution_count": null,
   "id": "55796bfc-fdb8-4d48-9c4b-d8a74463904d",
   "metadata": {},
   "outputs": [],
   "source": []
  },
  {
   "cell_type": "code",
   "execution_count": null,
   "id": "e4727d25-8170-4079-bd40-ddc90dc6af58",
   "metadata": {},
   "outputs": [],
   "source": []
  },
  {
   "cell_type": "code",
   "execution_count": null,
   "id": "21205752-0638-43d6-84d6-87941300108c",
   "metadata": {},
   "outputs": [],
   "source": []
  },
  {
   "cell_type": "code",
   "execution_count": null,
   "id": "4acf0c76-59f9-4a07-ba6f-7d6b88de50c0",
   "metadata": {},
   "outputs": [],
   "source": []
  },
  {
   "cell_type": "code",
   "execution_count": null,
   "id": "02b9bd41-11a1-4f0b-b4eb-c064cc3d147c",
   "metadata": {},
   "outputs": [],
   "source": []
  },
  {
   "cell_type": "code",
   "execution_count": null,
   "id": "b7054347-bf29-4b3b-927e-bfae22843ada",
   "metadata": {},
   "outputs": [],
   "source": []
  },
  {
   "cell_type": "code",
   "execution_count": null,
   "id": "93a422f5-bca5-4db0-a3f0-b28c1f2f6507",
   "metadata": {},
   "outputs": [],
   "source": []
  }
 ],
 "metadata": {
  "kernelspec": {
   "display_name": "Python 3 (ipykernel)",
   "language": "python",
   "name": "python3"
  },
  "language_info": {
   "codemirror_mode": {
    "name": "ipython",
    "version": 3
   },
   "file_extension": ".py",
   "mimetype": "text/x-python",
   "name": "python",
   "nbconvert_exporter": "python",
   "pygments_lexer": "ipython3",
   "version": "3.12.3"
  }
 },
 "nbformat": 4,
 "nbformat_minor": 5
}
