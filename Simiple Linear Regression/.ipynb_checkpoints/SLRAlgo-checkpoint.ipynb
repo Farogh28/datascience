{
 "cells": [
  {
   "cell_type": "code",
   "execution_count": 15,
   "id": "6aba7964-3447-4aa4-ada8-41deb1de2eae",
   "metadata": {},
   "outputs": [],
   "source": [
    "class MySimpleLinearRegression:\n",
    "    def __init__(self):\n",
    "        self.m = None\n",
    "        self.b = None\n",
    "    def fit(self, x_train , y_train):\n",
    "        return x_train.shape\n",
    "\n",
    "    def predict(self, x_test):\n",
    "        pass\n",
    "\n",
    "model = MySimpleLinearRegression()\n"
   ]
  },
  {
   "cell_type": "code",
   "execution_count": 3,
   "id": "e22d5deb-a1ad-492c-a358-f1f7d33f209e",
   "metadata": {},
   "outputs": [],
   "source": [
    "import pandas as pd"
   ]
  },
  {
   "cell_type": "code",
   "execution_count": 4,
   "id": "994ca365-7b94-4bed-9475-bcba9d4a9ba1",
   "metadata": {},
   "outputs": [],
   "source": [
    "data = pd.read_csv(\"C:\\\\Users\\\\Farogh\\\\Desktop\\\\learning\\\\placement.csv\")"
   ]
  },
  {
   "cell_type": "code",
   "execution_count": 24,
   "id": "23db5e79-e586-4925-a607-ba7f47e87c9b",
   "metadata": {},
   "outputs": [],
   "source": [
    "# data.info()"
   ]
  },
  {
   "cell_type": "code",
   "execution_count": 23,
   "id": "27ba0012-f094-4a34-b9be-8669bffa46bf",
   "metadata": {},
   "outputs": [],
   "source": [
    "# data.sample () #any single row from the dataset "
   ]
  },
  {
   "cell_type": "code",
   "execution_count": 25,
   "id": "2315b039-c12e-48eb-b299-a30cc0796f9b",
   "metadata": {},
   "outputs": [],
   "source": [
    "# data.head(7) # By default \"Head\" will show first 5 rows."
   ]
  },
  {
   "cell_type": "code",
   "execution_count": null,
   "id": "f3c7238f-85d8-43c9-a3cf-c699cdb35646",
   "metadata": {},
   "outputs": [],
   "source": [
    "# data.tail() # shows last 5 rows"
   ]
  },
  {
   "cell_type": "code",
   "execution_count": 5,
   "id": "6d5d9588-1672-4816-a857-378a55a580ec",
   "metadata": {},
   "outputs": [],
   "source": [
    "from sklearn.model_selection import train_test_split"
   ]
  },
  {
   "cell_type": "code",
   "execution_count": 6,
   "id": "16155e44-a737-4157-bf2a-3bee3f7e410b",
   "metadata": {},
   "outputs": [],
   "source": [
    "x = data[\"cgpa\"].values  # \".values\" converts values into array format."
   ]
  },
  {
   "cell_type": "code",
   "execution_count": 7,
   "id": "6d93961c-6918-46ac-b777-50001ce19ba9",
   "metadata": {},
   "outputs": [],
   "source": [
    "y = data [\"package\"].values"
   ]
  },
  {
   "cell_type": "code",
   "execution_count": null,
   "id": "b232f493-2dbc-40bb-9ad1-ed5fa8425990",
   "metadata": {},
   "outputs": [],
   "source": []
  },
  {
   "cell_type": "code",
   "execution_count": 8,
   "id": "a1c5dfea-75dd-48ad-8d43-851eb6a549d1",
   "metadata": {},
   "outputs": [],
   "source": [
    "x_train,x_test, y_train,y_test = train_test_split(x,y, test_size = 0.2)"
   ]
  },
  {
   "cell_type": "code",
   "execution_count": null,
   "id": "4a325ec9-20aa-4b72-b6bb-396e1741d115",
   "metadata": {},
   "outputs": [],
   "source": []
  },
  {
   "cell_type": "code",
   "execution_count": 9,
   "id": "4fa83297-e204-4e54-af76-671a2d04e6b9",
   "metadata": {},
   "outputs": [
    {
     "data": {
      "text/plain": [
       "(200, 2)"
      ]
     },
     "execution_count": 9,
     "metadata": {},
     "output_type": "execute_result"
    }
   ],
   "source": [
    "data.shape"
   ]
  },
  {
   "cell_type": "code",
   "execution_count": 10,
   "id": "baba6a50-4031-48b2-846c-e0650837789d",
   "metadata": {},
   "outputs": [
    {
     "data": {
      "text/plain": [
       "(160,)"
      ]
     },
     "execution_count": 10,
     "metadata": {},
     "output_type": "execute_result"
    }
   ],
   "source": [
    "x_train.shape"
   ]
  },
  {
   "cell_type": "code",
   "execution_count": 50,
   "id": "755a4ea5-9e33-4f2a-9910-7d6dc43d17b9",
   "metadata": {},
   "outputs": [
    {
     "data": {
      "text/plain": [
       "(40,)"
      ]
     },
     "execution_count": 50,
     "metadata": {},
     "output_type": "execute_result"
    }
   ],
   "source": [
    "y_test.shape"
   ]
  },
  {
   "cell_type": "code",
   "execution_count": null,
   "id": "145326b0-32e9-4f3f-9e3a-c37b9902a189",
   "metadata": {},
   "outputs": [],
   "source": []
  },
  {
   "cell_type": "code",
   "execution_count": null,
   "id": "5e32c3cc-6bd0-4a74-b568-1aced5f9c77f",
   "metadata": {},
   "outputs": [],
   "source": []
  },
  {
   "cell_type": "code",
   "execution_count": null,
   "id": "86843a27-8170-4402-9c32-ed19abf05cf3",
   "metadata": {},
   "outputs": [],
   "source": []
  },
  {
   "cell_type": "code",
   "execution_count": 31,
   "id": "2b2adb2d-0d7d-4b5f-83d8-0949629b65c6",
   "metadata": {},
   "outputs": [],
   "source": [
    "class MySimpleLinearRegression:\n",
    "    def __init__(self):\n",
    "        self.m = None\n",
    "        self.b = None\n",
    "\n",
    "    def fit(self, x_train, y_train):  # To train the model\n",
    "        num = 0 # Numerator\n",
    "        dem = 0 # Denominator\n",
    "        \n",
    "        for i in range(x_train.shape[0]):\n",
    "\n",
    "            num= num + (y_train[i] - y_train.mean())* (x_train[i]-x_train.mean())   \n",
    "            dem= dem + (x_train[i]-x_train.mean())*(x_train[i]-x_train.mean())\n",
    "\n",
    "        self.m = num/dem  #(To Calculate the slope)\n",
    "\n",
    "        self.b = y_train.mean() - (self.m*x_train.mean())\n",
    "\n",
    "        print (\"Slope of the data is : \",self.m)\n",
    "        print (f\"Interceot value is : {self.b}\")\n",
    "\n",
    "    \n",
    "    def predict (self, x_test):\n",
    "        # y=mx+b\n",
    "\n",
    "        prediction = self.m* x_test + self.b\n",
    "\n",
    "        print (f\"Predcted pacakage of the CGPA {x_test} is : {prediction}\")\n",
    "\n",
    "model = MySimpleLinearRegression()"
   ]
  },
  {
   "cell_type": "code",
   "execution_count": null,
   "id": "557e0b66-ee61-4827-9bf6-2078e9b2983a",
   "metadata": {},
   "outputs": [],
   "source": []
  },
  {
   "cell_type": "code",
   "execution_count": 32,
   "id": "956cbaaf-c115-46b7-b918-e847deb4dc6f",
   "metadata": {},
   "outputs": [
    {
     "name": "stdout",
     "output_type": "stream",
     "text": [
      "Slope of the data is :  0.5833325917981875\n",
      "Interceot value is : -1.0728437755124691\n"
     ]
    }
   ],
   "source": [
    "model.fit(x_train, y_train)"
   ]
  },
  {
   "cell_type": "code",
   "execution_count": null,
   "id": "506fb7c8-0548-4815-8643-25180547024a",
   "metadata": {},
   "outputs": [],
   "source": []
  },
  {
   "cell_type": "code",
   "execution_count": 33,
   "id": "8d0b794f-1fc8-49aa-9107-112f71fd0a96",
   "metadata": {},
   "outputs": [
    {
     "name": "stdout",
     "output_type": "stream",
     "text": [
      "Predcted pacakage of the CGPA 8 is : 3.593816958873031\n"
     ]
    }
   ],
   "source": [
    "model.predict(8)"
   ]
  },
  {
   "cell_type": "code",
   "execution_count": null,
   "id": "af4e7cb4-59fc-4ded-8f84-3a71a2bc9f7d",
   "metadata": {},
   "outputs": [],
   "source": []
  },
  {
   "cell_type": "code",
   "execution_count": 16,
   "id": "d23a670e-5b9a-4bc5-bf4c-0ca4a27de064",
   "metadata": {},
   "outputs": [],
   "source": [
    "# model = MySimpleLinearRegression()"
   ]
  },
  {
   "cell_type": "code",
   "execution_count": 35,
   "id": "f747e755-89b3-4a87-a8e7-16bcf6f7b0c3",
   "metadata": {},
   "outputs": [],
   "source": [
    "# model.fit(x_train, y_train)"
   ]
  },
  {
   "cell_type": "code",
   "execution_count": 34,
   "id": "1d604ea3-ed57-4762-b943-0ee0ab37a5e9",
   "metadata": {},
   "outputs": [
    {
     "name": "stdout",
     "output_type": "stream",
     "text": [
      "Predcted pacakage of the CGPA 7 is : 3.0104843670748433\n"
     ]
    }
   ],
   "source": [
    "model.predict(7)"
   ]
  },
  {
   "cell_type": "code",
   "execution_count": 41,
   "id": "3fbae6ba-4c40-4611-9da1-7128b1345505",
   "metadata": {},
   "outputs": [
    {
     "data": {
      "text/plain": [
       "(160,)"
      ]
     },
     "execution_count": 41,
     "metadata": {},
     "output_type": "execute_result"
    }
   ],
   "source": [
    "x_train.shape"
   ]
  },
  {
   "cell_type": "code",
   "execution_count": 43,
   "id": "af239eff-79b7-4ea5-b890-e7a5c74df999",
   "metadata": {},
   "outputs": [
    {
     "data": {
      "text/plain": [
       "6.9893125"
      ]
     },
     "execution_count": 43,
     "metadata": {},
     "output_type": "execute_result"
    }
   ],
   "source": [
    "x_train.mean()"
   ]
  },
  {
   "cell_type": "code",
   "execution_count": null,
   "id": "408394f1-4896-4c04-9861-1a06e286bc6d",
   "metadata": {},
   "outputs": [],
   "source": []
  },
  {
   "cell_type": "code",
   "execution_count": null,
   "id": "bd91bb5c-0373-4a87-95e1-76fa85faacf1",
   "metadata": {},
   "outputs": [],
   "source": []
  },
  {
   "cell_type": "code",
   "execution_count": null,
   "id": "9089fdf1-720e-458f-830a-fca75e1ee2b3",
   "metadata": {},
   "outputs": [],
   "source": []
  },
  {
   "cell_type": "code",
   "execution_count": 4,
   "id": "6a65db5d-a5ec-40ce-8d5b-81848ca91438",
   "metadata": {},
   "outputs": [],
   "source": [
    "import pandas as pd"
   ]
  },
  {
   "cell_type": "code",
   "execution_count": 5,
   "id": "d482b42c-fe60-48e9-875d-c4c032245c14",
   "metadata": {},
   "outputs": [],
   "source": [
    "data = pd.read_csv(\"C:\\\\Users\\\\Farogh\\\\Desktop\\\\learning\\\\placement.csv\")"
   ]
  },
  {
   "cell_type": "code",
   "execution_count": 7,
   "id": "83a4d55d-ff20-4b82-8eb3-67a4a6c8510f",
   "metadata": {},
   "outputs": [],
   "source": [
    "# data.info()"
   ]
  },
  {
   "cell_type": "code",
   "execution_count": 1,
   "id": "a837c129-53b3-40a7-93f7-95ab0a300011",
   "metadata": {},
   "outputs": [],
   "source": [
    "# from sklearn.model_selection"
   ]
  },
  {
   "cell_type": "code",
   "execution_count": null,
   "id": "f6afca73-a3b0-47f2-92ce-18fa077c0707",
   "metadata": {},
   "outputs": [],
   "source": []
  },
  {
   "cell_type": "code",
   "execution_count": null,
   "id": "ea54e4b5-2bc6-4557-98e0-11ea4af87e99",
   "metadata": {},
   "outputs": [],
   "source": []
  },
  {
   "cell_type": "code",
   "execution_count": null,
   "id": "d95ec4bf-f561-411f-b12d-9b9a2ebe3fb2",
   "metadata": {},
   "outputs": [],
   "source": []
  },
  {
   "cell_type": "code",
   "execution_count": null,
   "id": "9e99127c-3697-4b45-8f19-9b394fafe20b",
   "metadata": {},
   "outputs": [],
   "source": []
  },
  {
   "cell_type": "code",
   "execution_count": null,
   "id": "12dd7340-fe62-42cd-9243-a6d5ef28c26f",
   "metadata": {},
   "outputs": [],
   "source": []
  },
  {
   "cell_type": "code",
   "execution_count": null,
   "id": "500efe86-d6f8-436a-898e-79783012ba1a",
   "metadata": {},
   "outputs": [],
   "source": []
  },
  {
   "cell_type": "code",
   "execution_count": null,
   "id": "463e7622-a9a3-4339-91bc-4b3903fb1b1e",
   "metadata": {},
   "outputs": [],
   "source": []
  },
  {
   "cell_type": "code",
   "execution_count": null,
   "id": "4601245b-6f84-45b3-b73c-698639be8aec",
   "metadata": {},
   "outputs": [],
   "source": []
  },
  {
   "cell_type": "code",
   "execution_count": null,
   "id": "6d7bbfe7-b132-4bd8-b1d2-7eee45658bbd",
   "metadata": {},
   "outputs": [],
   "source": [
    "\n"
   ]
  },
  {
   "cell_type": "code",
   "execution_count": null,
   "id": "6c1e93e5-e448-4283-91ed-ab7c333c8609",
   "metadata": {},
   "outputs": [],
   "source": []
  },
  {
   "cell_type": "code",
   "execution_count": null,
   "id": "e3827354-917d-422c-bfca-cd320dde437b",
   "metadata": {},
   "outputs": [],
   "source": []
  },
  {
   "cell_type": "code",
   "execution_count": null,
   "id": "39c2c75e-2968-4334-862c-0a085d675936",
   "metadata": {},
   "outputs": [],
   "source": []
  },
  {
   "cell_type": "code",
   "execution_count": null,
   "id": "b56df284-dc3f-4523-a5d0-53b78079c5b2",
   "metadata": {},
   "outputs": [],
   "source": []
  },
  {
   "cell_type": "code",
   "execution_count": null,
   "id": "ade27a57-b3b6-4298-ade3-b7490f5f71e7",
   "metadata": {},
   "outputs": [],
   "source": []
  },
  {
   "cell_type": "code",
   "execution_count": null,
   "id": "a03fd950-731a-4e4a-bd1a-97c84ea014cc",
   "metadata": {},
   "outputs": [],
   "source": []
  }
 ],
 "metadata": {
  "kernelspec": {
   "display_name": "Python 3 (ipykernel)",
   "language": "python",
   "name": "python3"
  },
  "language_info": {
   "codemirror_mode": {
    "name": "ipython",
    "version": 3
   },
   "file_extension": ".py",
   "mimetype": "text/x-python",
   "name": "python",
   "nbconvert_exporter": "python",
   "pygments_lexer": "ipython3",
   "version": "3.12.3"
  }
 },
 "nbformat": 4,
 "nbformat_minor": 5
}
