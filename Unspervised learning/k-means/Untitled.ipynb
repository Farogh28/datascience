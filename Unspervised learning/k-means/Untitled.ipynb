{
 "cells": [
  {
   "cell_type": "code",
   "execution_count": 1,
   "id": "77bf7006-bd59-4445-b0d1-a727a5fbe074",
   "metadata": {},
   "outputs": [],
   "source": [
    "# Calculate distance"
   ]
  },
  {
   "cell_type": "code",
   "execution_count": 7,
   "id": "b41cb031-b905-4793-879b-e6ff02baee69",
   "metadata": {},
   "outputs": [],
   "source": [
    "import numpy as np"
   ]
  },
  {
   "cell_type": "code",
   "execution_count": 8,
   "id": "367216df-afba-42ce-8d0e-4a8ddce3155b",
   "metadata": {},
   "outputs": [],
   "source": [
    "xyz = np.array([12,5])\n",
    "abc = np.array([10.2])"
   ]
  },
  {
   "cell_type": "code",
   "execution_count": null,
   "id": "b780c419-e544-4d76-a704-bf8027f2e186",
   "metadata": {},
   "outputs": [],
   "source": []
  },
  {
   "cell_type": "code",
   "execution_count": 9,
   "id": "d0b76ae3-eca9-4dbe-a165-50bc4128a5e2",
   "metadata": {},
   "outputs": [
    {
     "data": {
      "text/plain": [
       "5.502726596879041"
      ]
     },
     "execution_count": 9,
     "metadata": {},
     "output_type": "execute_result"
    }
   ],
   "source": [
    "np.sqrt(np.dot(xyz- abc , xyz - abc))"
   ]
  },
  {
   "cell_type": "code",
   "execution_count": null,
   "id": "c0376d70-1132-4f23-9b0b-009c372c7f06",
   "metadata": {},
   "outputs": [],
   "source": []
  }
 ],
 "metadata": {
  "kernelspec": {
   "display_name": "Python 3 (ipykernel)",
   "language": "python",
   "name": "python3"
  },
  "language_info": {
   "codemirror_mode": {
    "name": "ipython",
    "version": 3
   },
   "file_extension": ".py",
   "mimetype": "text/x-python",
   "name": "python",
   "nbconvert_exporter": "python",
   "pygments_lexer": "ipython3",
   "version": "3.12.3"
  }
 },
 "nbformat": 4,
 "nbformat_minor": 5
}
