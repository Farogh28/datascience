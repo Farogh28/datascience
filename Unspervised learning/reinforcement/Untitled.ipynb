{
 "cells": [
  {
   "cell_type": "code",
   "execution_count": 14,
   "id": "d190d21a-047c-42cd-87b9-c784c6d8d9ad",
   "metadata": {},
   "outputs": [
    {
     "name": "stdout",
     "output_type": "stream",
     "text": [
      "Collecting pygame\n",
      "  Downloading pygame-2.6.0-cp312-cp312-win_amd64.whl.metadata (13 kB)\n",
      "Downloading pygame-2.6.0-cp312-cp312-win_amd64.whl (10.8 MB)\n",
      "   ---------------------------------------- 0.0/10.8 MB ? eta -:--:--\n",
      "   ---------------------------------------- 0.0/10.8 MB 960.0 kB/s eta 0:00:12\n",
      "    --------------------------------------- 0.2/10.8 MB 2.7 MB/s eta 0:00:04\n",
      "   - -------------------------------------- 0.5/10.8 MB 3.7 MB/s eta 0:00:03\n",
      "   --- ------------------------------------ 0.9/10.8 MB 5.4 MB/s eta 0:00:02\n",
      "   ---- ----------------------------------- 1.3/10.8 MB 5.7 MB/s eta 0:00:02\n",
      "   ------ --------------------------------- 1.7/10.8 MB 6.3 MB/s eta 0:00:02\n",
      "   ------- -------------------------------- 2.0/10.8 MB 6.6 MB/s eta 0:00:02\n",
      "   -------- ------------------------------- 2.4/10.8 MB 6.8 MB/s eta 0:00:02\n",
      "   --------- ------------------------------ 2.6/10.8 MB 7.0 MB/s eta 0:00:02\n",
      "   ---------- ----------------------------- 2.8/10.8 MB 7.0 MB/s eta 0:00:02\n",
      "   ------------ --------------------------- 3.3/10.8 MB 7.2 MB/s eta 0:00:02\n",
      "   ------------- -------------------------- 3.7/10.8 MB 7.4 MB/s eta 0:00:01\n",
      "   -------------- ------------------------- 4.0/10.8 MB 7.3 MB/s eta 0:00:01\n",
      "   ---------------- ----------------------- 4.4/10.8 MB 7.3 MB/s eta 0:00:01\n",
      "   ---------------- ----------------------- 4.5/10.8 MB 7.1 MB/s eta 0:00:01\n",
      "   ----------------- ---------------------- 4.8/10.8 MB 7.1 MB/s eta 0:00:01\n",
      "   ------------------ --------------------- 5.0/10.8 MB 6.8 MB/s eta 0:00:01\n",
      "   -------------------- ------------------- 5.5/10.8 MB 7.0 MB/s eta 0:00:01\n",
      "   --------------------- ------------------ 5.7/10.8 MB 7.0 MB/s eta 0:00:01\n",
      "   --------------------- ------------------ 5.9/10.8 MB 6.8 MB/s eta 0:00:01\n",
      "   --------------------- ------------------ 5.9/10.8 MB 6.6 MB/s eta 0:00:01\n",
      "   ---------------------- ----------------- 6.1/10.8 MB 6.5 MB/s eta 0:00:01\n",
      "   ----------------------- ---------------- 6.2/10.8 MB 6.5 MB/s eta 0:00:01\n",
      "   ----------------------- ---------------- 6.3/10.8 MB 6.2 MB/s eta 0:00:01\n",
      "   ----------------------- ---------------- 6.3/10.8 MB 6.2 MB/s eta 0:00:01\n",
      "   ------------------------ --------------- 6.6/10.8 MB 6.0 MB/s eta 0:00:01\n",
      "   ------------------------ --------------- 6.7/10.8 MB 5.9 MB/s eta 0:00:01\n",
      "   ------------------------- -------------- 6.8/10.8 MB 5.8 MB/s eta 0:00:01\n",
      "   -------------------------- ------------- 7.1/10.8 MB 5.7 MB/s eta 0:00:01\n",
      "   -------------------------- ------------- 7.2/10.8 MB 5.7 MB/s eta 0:00:01\n",
      "   --------------------------- ------------ 7.4/10.8 MB 5.6 MB/s eta 0:00:01\n",
      "   ---------------------------- ----------- 7.6/10.8 MB 5.7 MB/s eta 0:00:01\n",
      "   ----------------------------- ---------- 7.8/10.8 MB 5.6 MB/s eta 0:00:01\n",
      "   ----------------------------- ---------- 8.0/10.8 MB 5.7 MB/s eta 0:00:01\n",
      "   ------------------------------ --------- 8.2/10.8 MB 5.6 MB/s eta 0:00:01\n",
      "   ------------------------------- -------- 8.4/10.8 MB 5.6 MB/s eta 0:00:01\n",
      "   -------------------------------- ------- 8.7/10.8 MB 5.6 MB/s eta 0:00:01\n",
      "   --------------------------------- ------ 8.9/10.8 MB 5.6 MB/s eta 0:00:01\n",
      "   ---------------------------------- ----- 9.3/10.8 MB 5.6 MB/s eta 0:00:01\n",
      "   ----------------------------------- ---- 9.4/10.8 MB 5.6 MB/s eta 0:00:01\n",
      "   ----------------------------------- ---- 9.5/10.8 MB 5.6 MB/s eta 0:00:01\n",
      "   ------------------------------------ --- 9.8/10.8 MB 5.5 MB/s eta 0:00:01\n",
      "   ------------------------------------- -- 10.0/10.8 MB 5.5 MB/s eta 0:00:01\n",
      "   -------------------------------------- - 10.4/10.8 MB 5.7 MB/s eta 0:00:01\n",
      "   ---------------------------------------  10.6/10.8 MB 5.7 MB/s eta 0:00:01\n",
      "   ---------------------------------------  10.8/10.8 MB 5.7 MB/s eta 0:00:01\n",
      "   ---------------------------------------  10.8/10.8 MB 5.7 MB/s eta 0:00:01\n",
      "   ---------------------------------------- 10.8/10.8 MB 5.5 MB/s eta 0:00:00\n",
      "Installing collected packages: pygame\n",
      "Successfully installed pygame-2.6.0\n"
     ]
    },
    {
     "name": "stderr",
     "output_type": "stream",
     "text": [
      "\n",
      "[notice] A new release of pip is available: 24.0 -> 24.2\n",
      "[notice] To update, run: python.exe -m pip install --upgrade pip\n"
     ]
    }
   ],
   "source": [
    "!pip install pygame"
   ]
  },
  {
   "cell_type": "code",
   "execution_count": 1,
   "id": "dceb409f-cc04-4d1a-b749-5674aa9a1889",
   "metadata": {},
   "outputs": [
    {
     "name": "stdout",
     "output_type": "stream",
     "text": [
      "Collecting gym\n",
      "  Downloading gym-0.26.2.tar.gz (721 kB)\n",
      "     ---------------------------------------- 0.0/721.7 kB ? eta -:--:--\n",
      "     - ----------------------------------- 30.7/721.7 kB 660.6 kB/s eta 0:00:02\n",
      "     -------- ----------------------------- 153.6/721.7 kB 1.8 MB/s eta 0:00:01\n",
      "     --------------- ---------------------- 286.7/721.7 kB 2.5 MB/s eta 0:00:01\n",
      "     ------------------- ------------------ 378.9/721.7 kB 2.1 MB/s eta 0:00:01\n",
      "     ------------------------------ ------- 573.4/721.7 kB 2.8 MB/s eta 0:00:01\n",
      "     ------------------------------ ------- 573.4/721.7 kB 2.8 MB/s eta 0:00:01\n",
      "     -------------------------------------- 721.7/721.7 kB 2.7 MB/s eta 0:00:00\n",
      "  Installing build dependencies: started\n",
      "  Installing build dependencies: finished with status 'done'\n",
      "  Getting requirements to build wheel: started\n",
      "  Getting requirements to build wheel: finished with status 'done'\n",
      "  Preparing metadata (pyproject.toml): started\n",
      "  Preparing metadata (pyproject.toml): finished with status 'done'\n",
      "Requirement already satisfied: numpy>=1.18.0 in c:\\users\\farogh\\appdata\\local\\programs\\python\\python312\\lib\\site-packages (from gym) (1.26.4)\n",
      "Collecting cloudpickle>=1.2.0 (from gym)\n",
      "  Downloading cloudpickle-3.0.0-py3-none-any.whl.metadata (7.0 kB)\n",
      "Collecting gym-notices>=0.0.4 (from gym)\n",
      "  Downloading gym_notices-0.0.8-py3-none-any.whl.metadata (1.0 kB)\n",
      "Downloading cloudpickle-3.0.0-py3-none-any.whl (20 kB)\n",
      "Downloading gym_notices-0.0.8-py3-none-any.whl (3.0 kB)\n",
      "Building wheels for collected packages: gym\n",
      "  Building wheel for gym (pyproject.toml): started\n",
      "  Building wheel for gym (pyproject.toml): finished with status 'done'\n",
      "  Created wheel for gym: filename=gym-0.26.2-py3-none-any.whl size=827632 sha256=2d641d0302ea57586e52e317d88d5b5552d1092a185f595a2d831253e3a09a92\n",
      "  Stored in directory: c:\\users\\farogh\\appdata\\local\\pip\\cache\\wheels\\95\\51\\6c\\9bb05ebbe7c5cb8171dfaa3611f32622ca4658d53f31c79077\n",
      "Successfully built gym\n",
      "Installing collected packages: gym-notices, cloudpickle, gym\n",
      "Successfully installed cloudpickle-3.0.0 gym-0.26.2 gym-notices-0.0.8\n",
      "Note: you may need to restart the kernel to use updated packages.\n"
     ]
    },
    {
     "name": "stderr",
     "output_type": "stream",
     "text": [
      "\n",
      "[notice] A new release of pip is available: 24.0 -> 24.2\n",
      "[notice] To update, run: python.exe -m pip install --upgrade pip\n"
     ]
    }
   ],
   "source": [
    "pip install gym"
   ]
  },
  {
   "cell_type": "code",
   "execution_count": 2,
   "id": "ccd5cae7-576b-46f0-9abd-96807d77d416",
   "metadata": {},
   "outputs": [],
   "source": [
    "import gym"
   ]
  },
  {
   "cell_type": "code",
   "execution_count": 3,
   "id": "f25ead6f-d05f-4feb-8de9-d99fac7d26bd",
   "metadata": {},
   "outputs": [],
   "source": [
    "# render_modes are > = rgb_array/human/ ansi\n",
    "\n",
    "env = gym.make('FrozenLake-v1', render_mode = \"ansi\")#, desc=None, map_name=\"4x4\", is_slippery=True)\n",
    "\n",
    "# env = gym.make('FrozenLake-v1', render_mode = \"rgb_array\")"
   ]
  },
  {
   "cell_type": "code",
   "execution_count": 5,
   "id": "1ae4657e-4673-4d11-95f7-3f87d3259788",
   "metadata": {},
   "outputs": [
    {
     "name": "stdout",
     "output_type": "stream",
     "text": [
      "\n",
      "\u001b[41mS\u001b[0mFFF\n",
      "FHFH\n",
      "FFFH\n",
      "HFFG\n",
      "\n"
     ]
    }
   ],
   "source": [
    "env.reset()\n",
    "\n",
    "print(env.render())"
   ]
  },
  {
   "cell_type": "code",
   "execution_count": null,
   "id": "d9afffde-e8d4-411d-9d8f-d62fc18171b5",
   "metadata": {},
   "outputs": [],
   "source": [
    "# function to take a step is \"STEP\""
   ]
  },
  {
   "cell_type": "code",
   "execution_count": 6,
   "id": "5960aed9-bf50-4ba7-997d-5d1121648966",
   "metadata": {},
   "outputs": [
    {
     "data": {
      "text/plain": [
       "Discrete(4)"
      ]
     },
     "execution_count": 6,
     "metadata": {},
     "output_type": "execute_result"
    }
   ],
   "source": [
    "env.action_space"
   ]
  },
  {
   "cell_type": "code",
   "execution_count": 7,
   "id": "4666e0c6-2672-4c92-8e5f-771ed0402af1",
   "metadata": {},
   "outputs": [
    {
     "data": {
      "text/plain": [
       "<bound method TimeLimit.step of <TimeLimit<OrderEnforcing<PassiveEnvChecker<FrozenLakeEnv<FrozenLake-v1>>>>>>"
      ]
     },
     "execution_count": 7,
     "metadata": {},
     "output_type": "execute_result"
    }
   ],
   "source": [
    "env.step"
   ]
  },
  {
   "cell_type": "code",
   "execution_count": 8,
   "id": "62866065-dad6-4d6c-b7c4-a4e5c40b938f",
   "metadata": {},
   "outputs": [
    {
     "data": {
      "text/plain": [
       "Discrete(16)"
      ]
     },
     "execution_count": 8,
     "metadata": {},
     "output_type": "execute_result"
    }
   ],
   "source": [
    "env.observation_space  # Means total step count -->"
   ]
  },
  {
   "cell_type": "code",
   "execution_count": null,
   "id": "a97c2648-8b2b-4a37-bafb-bbb2f5da381b",
   "metadata": {},
   "outputs": [],
   "source": []
  },
  {
   "cell_type": "code",
   "execution_count": 12,
   "id": "4901e601-8dd1-43dc-a1df-45fb5af7c287",
   "metadata": {},
   "outputs": [
    {
     "data": {
      "text/plain": [
       "(0, 0.0, False, False, {'prob': 0.3333333333333333})"
      ]
     },
     "execution_count": 12,
     "metadata": {},
     "output_type": "execute_result"
    }
   ],
   "source": [
    "env.step(0) # Returns ----> (New_state, Reward_gain, Reachd_goal_state(yes or no), info, probability)"
   ]
  },
  {
   "cell_type": "code",
   "execution_count": 13,
   "id": "a3f4d0e1-9039-49e0-a328-8ed5dbb9a889",
   "metadata": {},
   "outputs": [
    {
     "data": {
      "text/plain": [
       "(0, 0.0, False, False, {'prob': 0.3333333333333333})"
      ]
     },
     "execution_count": 13,
     "metadata": {},
     "output_type": "execute_result"
    }
   ],
   "source": [
    "env.step(1)"
   ]
  },
  {
   "cell_type": "code",
   "execution_count": 17,
   "id": "84495d0c-5330-4c46-b99b-f1a5fab50eac",
   "metadata": {},
   "outputs": [
    {
     "data": {
      "text/plain": [
       "(0, 0.0, False, False, {'prob': 0.3333333333333333})"
      ]
     },
     "execution_count": 17,
     "metadata": {},
     "output_type": "execute_result"
    }
   ],
   "source": [
    "env.step(3)"
   ]
  },
  {
   "cell_type": "code",
   "execution_count": null,
   "id": "c41bbac6-5b8d-4fdc-8f9f-a63d5d1d8e51",
   "metadata": {},
   "outputs": [],
   "source": []
  },
  {
   "cell_type": "code",
   "execution_count": 37,
   "id": "8a01229d-a813-4253-9d71-abd1c7ff3f9e",
   "metadata": {},
   "outputs": [
    {
     "data": {
      "text/plain": [
       "3"
      ]
     },
     "execution_count": 37,
     "metadata": {},
     "output_type": "execute_result"
    }
   ],
   "source": [
    "env.action_space.sample()  # To take random steps"
   ]
  },
  {
   "cell_type": "code",
   "execution_count": null,
   "id": "3b9af632-2018-4b1c-bf00-6a0943f110b4",
   "metadata": {},
   "outputs": [],
   "source": [
    "new_step =env.action_space.sample()"
   ]
  },
  {
   "cell_type": "code",
   "execution_count": 65,
   "id": "bdb21e56-40b0-4ea0-93ca-9775c4fead90",
   "metadata": {},
   "outputs": [
    {
     "name": "stdout",
     "output_type": "stream",
     "text": [
      "1\n",
      "  (Down)\n",
      "SFFF\n",
      "F\u001b[41mH\u001b[0mFH\n",
      "FFFH\n",
      "HFFG\n",
      "\n"
     ]
    }
   ],
   "source": [
    "new_step =env.action_space.sample()\n",
    "print(new_step)\n",
    "New_state, Reward_gain, Reachd_goal_state, info, probability = env.step(new_step)\n",
    "# env.reset()\n",
    "print(env.render())"
   ]
  },
  {
   "cell_type": "code",
   "execution_count": null,
   "id": "36b3e063-2270-4f90-afa5-4edfc8c3c323",
   "metadata": {},
   "outputs": [],
   "source": []
  },
  {
   "cell_type": "code",
   "execution_count": 52,
   "id": "5cc8489a-8d3d-4589-b92d-f7bb2978cb62",
   "metadata": {},
   "outputs": [
    {
     "data": {
      "text/plain": [
       "0"
      ]
     },
     "execution_count": 52,
     "metadata": {},
     "output_type": "execute_result"
    }
   ],
   "source": [
    "New_state"
   ]
  },
  {
   "cell_type": "code",
   "execution_count": 31,
   "id": "35785d93-5c4e-4c2c-8707-3c168e5e45b4",
   "metadata": {},
   "outputs": [],
   "source": [
    "New_state, Reward_gain, Reachd_goal_state, info, probability = env.step(3)"
   ]
  },
  {
   "cell_type": "code",
   "execution_count": 32,
   "id": "7e65e238-6684-4e69-9689-e84bc46971e3",
   "metadata": {},
   "outputs": [
    {
     "name": "stdout",
     "output_type": "stream",
     "text": [
      "  (Up)\n",
      "\u001b[41mS\u001b[0mFFF\n",
      "FHFH\n",
      "FFFH\n",
      "HFFG\n",
      "\n"
     ]
    }
   ],
   "source": [
    "print(env.render())"
   ]
  },
  {
   "cell_type": "code",
   "execution_count": 33,
   "id": "c877b61f-0bf1-4935-b7f9-bd366ab50980",
   "metadata": {},
   "outputs": [
    {
     "data": {
      "text/plain": [
       "0"
      ]
     },
     "execution_count": 33,
     "metadata": {},
     "output_type": "execute_result"
    }
   ],
   "source": [
    "New_state"
   ]
  },
  {
   "cell_type": "code",
   "execution_count": null,
   "id": "f3be9a2e-7168-4875-aebd-6074b3389500",
   "metadata": {},
   "outputs": [],
   "source": []
  }
 ],
 "metadata": {
  "kernelspec": {
   "display_name": "Python 3 (ipykernel)",
   "language": "python",
   "name": "python3"
  },
  "language_info": {
   "codemirror_mode": {
    "name": "ipython",
    "version": 3
   },
   "file_extension": ".py",
   "mimetype": "text/x-python",
   "name": "python",
   "nbconvert_exporter": "python",
   "pygments_lexer": "ipython3",
   "version": "3.12.3"
  }
 },
 "nbformat": 4,
 "nbformat_minor": 5
}
